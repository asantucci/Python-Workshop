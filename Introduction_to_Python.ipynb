{
  "nbformat": 4,
  "nbformat_minor": 0,
  "metadata": {
    "colab": {
      "name": "Python.ipynb",
      "private_outputs": true,
      "provenance": [],
      "collapsed_sections": [],
      "toc_visible": true,
      "include_colab_link": true
    },
    "kernelspec": {
      "display_name": "Python 3",
      "language": "python",
      "name": "python3"
    },
    "language_info": {
      "codemirror_mode": {
        "name": "ipython",
        "version": 3
      },
      "file_extension": ".py",
      "mimetype": "text/x-python",
      "name": "python",
      "nbconvert_exporter": "python",
      "pygments_lexer": "ipython3",
      "version": "3.7.3"
    }
  },
  "cells": [
    {
      "cell_type": "markdown",
      "metadata": {
        "id": "view-in-github",
        "colab_type": "text"
      },
      "source": [
        "<a href=\"https://colab.research.google.com/github/asantucci/Python-Workshop/blob/main/Introduction_to_Python.ipynb\" target=\"_parent\"><img src=\"https://colab.research.google.com/assets/colab-badge.svg\" alt=\"Open In Colab\"/></a>"
      ]
    },
    {
      "cell_type": "markdown",
      "metadata": {
        "id": "IYgvIvo7_R54"
      },
      "source": [
        "# Introduction to Python"
      ]
    },
    {
      "cell_type": "code",
      "metadata": {
        "id": "zQ6sSXQqvhr5"
      },
      "source": [
        "# Click in the cell and press CRTL-ENTER (Windows) or CMD-ENTER (Mac) to run the cell\n",
        "# Lines starting with `#` and are ignored when running\n",
        "print(\"It works!\")"
      ],
      "execution_count": null,
      "outputs": []
    },
    {
      "cell_type": "code",
      "metadata": {
        "id": "_jdiu67Yi0Gi"
      },
      "source": [
        "# When the last line is a statement, it is printed\n",
        "something = 1\n",
        "something"
      ],
      "execution_count": null,
      "outputs": []
    },
    {
      "cell_type": "code",
      "metadata": {
        "id": "GWHr57MM9MB-"
      },
      "source": [
        "# This downloads some data for later\n",
        "!wget https://github.com/asantucci/Python-Workshop/tree/main/data/text.txt -O text.txt\n",
        "!wget https://github.com/asantucci/Python-Workshop/tree/main/data/star_wars_4th.txt -O star_wars_4th.txt\n",
        "!wget https://github.com/asantucci/Python-Workshop/tree/main/data/dist.all.last -O dist.all.last\n",
        "!wget https://github.com/asantucci/Python-Workshop/tree/main/data/dist.male.first -O dist.male.first\n",
        "!wget https://github.com/asantucci/Python-Workshop/tree/main/data/dist.female.first -O dist.female.first"
      ],
      "execution_count": null,
      "outputs": []
    },
    {
      "cell_type": "markdown",
      "metadata": {
        "id": "KSSsmDLK9CZX"
      },
      "source": [
        "# (Many) calculators !\n"
      ]
    },
    {
      "cell_type": "markdown",
      "metadata": {
        "id": "vktS2pit-UfH"
      },
      "source": [
        "### A very simple one\n"
      ]
    },
    {
      "cell_type": "code",
      "metadata": {
        "id": "cfF3uLXf9RkS"
      },
      "source": [
        "# A ticket cost 14.7$ and I want to buy 50 of them\n",
        "# How much should I pay ?"
      ],
      "execution_count": null,
      "outputs": []
    },
    {
      "cell_type": "code",
      "metadata": {
        "id": "A7g1mdq8-H2s"
      },
      "source": [
        "#@title Solution 1\n",
        "14.7*50"
      ],
      "execution_count": null,
      "outputs": []
    },
    {
      "cell_type": "code",
      "metadata": {
        "id": "GQllBzKw-ggi"
      },
      "source": [
        "#@title Solution 2\n",
        "price = 14.7\n",
        "number = 50\n",
        "cost = price * number\n",
        "print(cost)"
      ],
      "execution_count": null,
      "outputs": []
    },
    {
      "cell_type": "markdown",
      "metadata": {
        "id": "QjmxAIOD-9lU"
      },
      "source": [
        "### A more interesting one\n"
      ]
    },
    {
      "cell_type": "code",
      "metadata": {
        "id": "ak3ci5zc-8sB"
      },
      "source": [
        "# The price of a stock grows by 20% every year\n",
        "# I have 3 stocks at $27\n",
        "# How many years should I wait (at least) to have a portfolio of $150 ?"
      ],
      "execution_count": null,
      "outputs": []
    },
    {
      "cell_type": "code",
      "metadata": {
        "id": "Ijv8-qvF_R_U"
      },
      "source": [
        "#@title Solution\n",
        "\n",
        "portfolio = 3 * 27\n",
        "interest = 0.2\n",
        "year = 0\n",
        "target = 150\n",
        "while portfolio < target:\n",
        "    portfolio = portfolio * (1+interest)\n",
        "    year = year + 1\n",
        "print(year)\n",
        "print(portfolio)"
      ],
      "execution_count": null,
      "outputs": []
    },
    {
      "cell_type": "markdown",
      "metadata": {
        "id": "cOfRjRipDaTJ"
      },
      "source": [
        "# Variables"
      ]
    },
    {
      "cell_type": "markdown",
      "metadata": {
        "id": "qS7PEJ2syeWE"
      },
      "source": [
        "## Creating and displaying variables\n"
      ]
    },
    {
      "cell_type": "code",
      "metadata": {
        "id": "bCKfaXsuNmuN"
      },
      "source": [
        "# Create a variable that holds the value `1`\n",
        "a = 1\n",
        "# Prints that value\n",
        "print(a)"
      ],
      "execution_count": null,
      "outputs": []
    },
    {
      "cell_type": "code",
      "metadata": {
        "id": "TZMJx4BTyGHK"
      },
      "source": [
        "# Integers\n",
        "n0 = 32\n",
        "n1 = -43\n",
        "\n",
        "# Real numbers\n",
        "f0 = 10.5\n",
        "f1 = 0.2e1  # 0.2 * 10^1 = 2.0\n",
        "\n",
        "# Strings (text)\n",
        "s0 = \"Workshop\"\n",
        "s1 = \"ICME\"\n",
        "\n",
        "# Booleans (true or false)\n",
        "b0 = True\n",
        "b1 = False\n",
        "\n",
        "print(n0)\n",
        "print(f0)\n",
        "print(s0, s1)\n",
        "print(b1)"
      ],
      "execution_count": null,
      "outputs": []
    },
    {
      "cell_type": "code",
      "metadata": {
        "id": "T4x3K7KDSIdA"
      },
      "source": [
        "# What is what?\n",
        "print(type(n0))\n",
        "print(type(f0))\n",
        "print(type(s0))\n",
        "print(type(b0))"
      ],
      "execution_count": null,
      "outputs": []
    },
    {
      "cell_type": "markdown",
      "metadata": {
        "id": "m5-2APEqymRe"
      },
      "source": [
        "## Operations"
      ]
    },
    {
      "cell_type": "code",
      "metadata": {
        "id": "c2KfV88pyo7v"
      },
      "source": [
        "# Arithmetic(-like)\n",
        "\n",
        "n2 = n0 - n1\n",
        "print(n2)\n",
        "\n",
        "f2 = f0 / f1\n",
        "print(f2)\n",
        "\n",
        "s2 = s0 + s1\n",
        "print(s2)\n",
        "\n",
        "b2 = b0 and b1  # Note that we could use the bitwise operator &: b0 & b1.\n",
        "print(b2)\n",
        "# If you're curious what are the reserved keywords in Python...\n",
        "help('keywords')\n"
      ],
      "execution_count": null,
      "outputs": []
    },
    {
      "cell_type": "code",
      "metadata": {
        "id": "bpe1_zGWzx22"
      },
      "source": [
        "# Comparisons\n",
        "\n",
        "b = n0 > n1\n",
        "print(b)\n",
        "\n",
        "b = n0 == n1\n",
        "print(b)"
      ],
      "execution_count": null,
      "outputs": []
    },
    {
      "cell_type": "markdown",
      "metadata": {
        "id": "HTJjSgWOm6pV"
      },
      "source": [
        "Puzzle"
      ]
    },
    {
      "cell_type": "code",
      "metadata": {
        "id": "1ely6cUNmg_r"
      },
      "source": [
        "# Quiz\n",
        "a = 1.0\n",
        "b = 1e-20\n",
        "c = a+b\n",
        "print(c == a)"
      ],
      "execution_count": null,
      "outputs": []
    },
    {
      "cell_type": "markdown",
      "metadata": {
        "id": "VL40_zc7zU8F"
      },
      "source": [
        "## Strings operations"
      ]
    },
    {
      "cell_type": "code",
      "metadata": {
        "id": "uhFioKiJzXoA"
      },
      "source": [
        "s0 = \"ICME\"\n",
        "s1 = \"Python\"\n",
        "s2 = \"Workshop\"\n",
        "s = f\"You are at the {s0} {s1} {s2}\"\n",
        "print(s)"
      ],
      "execution_count": null,
      "outputs": []
    },
    {
      "cell_type": "markdown",
      "metadata": {
        "id": "OQ62aDz01dXt"
      },
      "source": [
        "A string is a sequence of characters.\n",
        "Length and indexing\n",
        "\n",
        "All indexing in python is **0-based**. Like C/C++ or Go. Unlike Matlab, Fortran or Julia"
      ]
    },
    {
      "cell_type": "code",
      "metadata": {
        "id": "Ugza6Dpm00Uw"
      },
      "source": [
        "name = \"Santucci\"\n",
        "print(name)"
      ],
      "execution_count": null,
      "outputs": []
    },
    {
      "cell_type": "code",
      "metadata": {
        "id": "ALBBFvjCPaYV"
      },
      "source": [
        "s = \"abcdefgh\"\n",
        "print(s[2]) # Element at index 2 (i.e., third)\n",
        "print(s[4]) # Element at index 4 (i.e., fifth)\n",
        "print(s[0:2]) # From index 0 to 2-1=1 (always excludes the last)\n",
        "print(s[4:len(s)-1]) # From 4 to len(s)-1 (from fifth to before-the-last)"
      ],
      "execution_count": null,
      "outputs": []
    },
    {
      "cell_type": "code",
      "metadata": {
        "id": "ONV3D8JBY5YS"
      },
      "source": [
        "import string\n",
        "string.ascii_lowercase[:8]"
      ],
      "execution_count": null,
      "outputs": []
    },
    {
      "cell_type": "code",
      "metadata": {
        "id": "WZpgPWvH1pWK"
      },
      "source": [
        "# Magic !\n",
        "s = \"abcdefgh\"\n",
        "#    01234567  # <-- These are the zero-indexed positions of the chars (from the start)\n",
        "#   -87654321  # <-- These are the one-indexed positions of the chars (from the end)\n",
        "# Equivalently: \n",
        "# import string\n",
        "# s = string.ascii_lowercase[:8]\n",
        "print(s[-1])   # Last element\n",
        "# Put differently here: we start at element 3 (zero-indexed), then go\n",
        "# up to (*but not including) element 4 (when one-indexed from the end).\n",
        "print(s[2:-4]) # From 2 to -4-1=-5.\n",
        "print(s[-2:])  # From -2 to default (= last)\n",
        "print(s[:3])   # From default (= first) up to but not including element 4 (zero-indexed)."
      ],
      "execution_count": null,
      "outputs": []
    },
    {
      "cell_type": "code",
      "metadata": {
        "id": "i9BRM7qXGOc4"
      },
      "source": [
        "# Quiz (i.e. try to guess what the output will be before you run this cell!)\n",
        "s = \"abcdefgh\"\n",
        "print(s[-5:-3])"
      ],
      "execution_count": null,
      "outputs": []
    },
    {
      "cell_type": "code",
      "metadata": {
        "id": "XiMOIQaEzjP8"
      },
      "source": [
        "# Additional String-operations\n",
        "s = \"--\" * 10\n",
        "print(s) \n",
        "\n",
        "bracket_left = \"[\"\n",
        "bracket_right = \"]\"\n",
        "underscore = \"_\"\n",
        "s = bracket_left + underscore + bracket_right\n",
        "print(s)"
      ],
      "execution_count": null,
      "outputs": []
    },
    {
      "cell_type": "markdown",
      "metadata": {
        "id": "9sI56EaG0DHj"
      },
      "source": [
        "## Conversions"
      ]
    },
    {
      "cell_type": "code",
      "metadata": {
        "id": "Dm2j8wGi0CqH"
      },
      "source": [
        "n = 4.5643\n",
        "s = str(n)\n",
        "# print(n)\n",
        "# print(s)\n",
        "# print(type(n))\n",
        "# print(type(s))\n",
        "# Here, we use formatted string literal: \n",
        "# https://docs.python.org/3/tutorial/inputoutput.html#formatted-string-literals.\n",
        "print(f\"s is a ({type(s)}) with value = {s}\")"
      ],
      "execution_count": null,
      "outputs": []
    },
    {
      "cell_type": "code",
      "metadata": {
        "id": "xLENirI4RkX_"
      },
      "source": [
        "i = int(\"46543\")\n",
        "print(f\"i ({type(i)}) = {i}\")\n",
        "\n",
        "f = float(\"1.5e7\")  # 1.5 * 10^7\n",
        "print(f\"f ({type(f)}) = {f}\")"
      ],
      "execution_count": null,
      "outputs": []
    },
    {
      "cell_type": "markdown",
      "metadata": {
        "id": "g1FkgCBo0gji"
      },
      "source": [
        "## Exercice"
      ]
    },
    {
      "cell_type": "code",
      "metadata": {
        "id": "VF1Li0V00gHs"
      },
      "source": [
        "number_tickets = \"1475\"\n",
        "ticket_price   = \"$47\"\n",
        "discount       = \"20%\"\n",
        "\n",
        "# write a code (at most 2 lines !) that displays\n",
        "# Total cost is xxxx.xx$"
      ],
      "execution_count": null,
      "outputs": []
    },
    {
      "cell_type": "code",
      "metadata": {
        "id": "qY1QYIpy1E-J"
      },
      "source": [
        "#@title Solution\n",
        "total_cost =  int(number_tickets)* int(ticket_price[1:]) * (1 - int(discount[:-1])/100)\n",
        "print(f\"Total cost is ${total_cost}\")"
      ],
      "execution_count": null,
      "outputs": []
    },
    {
      "cell_type": "markdown",
      "metadata": {
        "id": "DRAc4zCyDmE_"
      },
      "source": [
        "# Control-Flow\n"
      ]
    },
    {
      "cell_type": "markdown",
      "metadata": {
        "id": "d0PGIIsP8S3K"
      },
      "source": [
        "## if, elif, else\n",
        "\n"
      ]
    },
    {
      "cell_type": "markdown",
      "metadata": {
        "id": "MHJdc4SlDoBr"
      },
      "source": [
        "\n",
        "\n",
        "```\n",
        "# This is formatted as code\n",
        "```\n",
        "\n",
        "**Indentation matters !** (*It's a real part of the Python syntax)"
      ]
    },
    {
      "cell_type": "code",
      "metadata": {
        "id": "4V6TQD7bWRi9"
      },
      "source": [
        "a = 2\n",
        "b = 1\n",
        "if a > b:\n",
        "    print(\"a > b\")"
      ],
      "execution_count": null,
      "outputs": []
    },
    {
      "cell_type": "code",
      "metadata": {
        "id": "5JzbdscKDuv4"
      },
      "source": [
        "a = 4\n",
        "b = 3\n",
        "if a > b:\n",
        "    print(\"a > b\") # Note the indentation.\n",
        "                   # Can be arbitrary but should be consistent!\n",
        "                   # Convention is 4 spaces. No tabs.\n",
        "    if a == 2:\n",
        "        print('a == 2 and a > b')\n",
        "        \n",
        "elif a == b:\n",
        "    print(\"a == b\")\n",
        "# Note that the following statement is true, but isn't triggered b/c we already\n",
        "# triggered on the first predicate condition, `if a > b`...\n",
        "elif a == 4:\n",
        "    print(\"a == 4\")\n",
        "else:\n",
        "    print(\"a < b\")\n",
        "\n",
        "print(\"Done !\")"
      ],
      "execution_count": null,
      "outputs": []
    },
    {
      "cell_type": "markdown",
      "metadata": {
        "id": "6f8sOSkT2OZ-"
      },
      "source": [
        "## while\n"
      ]
    },
    {
      "cell_type": "code",
      "metadata": {
        "id": "Z_wpH5Dp2To6"
      },
      "source": [
        "n = 1\n",
        "while n < 1000:\n",
        "    # The following is not a simple equation!\n",
        "    # It first computes the value (n+1), then takes the result and stores\n",
        "    # it in a variable called \"n\".\n",
        "    n = n+1\n",
        "print(n) # What is this equal to?"
      ],
      "execution_count": null,
      "outputs": []
    },
    {
      "cell_type": "markdown",
      "metadata": {
        "id": "ziy9angI8DnD"
      },
      "source": [
        "## for and ranges"
      ]
    },
    {
      "cell_type": "code",
      "metadata": {
        "id": "O5i-pUMZXVbI"
      },
      "source": [
        "for i in range(10):\n",
        "    print(i)"
      ],
      "execution_count": null,
      "outputs": []
    },
    {
      "cell_type": "code",
      "metadata": {
        "id": "OmrtNRaAbe8e"
      },
      "source": [
        "# We remark that there are several variants of this function, useful\n",
        "# in various scenarios. They are:\n",
        "# range(stop)            <-- This is what we just saw above\n",
        "# range(start,stop)      <-- Note that we go up to but not inclusive of \"stop\".\n",
        "# range(start,stop,step)\n",
        "# - stop necessary\n",
        "# - start defaults to 0\n",
        "# - step defaults to 1\n"
      ],
      "execution_count": null,
      "outputs": []
    },
    {
      "cell_type": "code",
      "metadata": {
        "id": "R4VkKAPAbpp0"
      },
      "source": [
        "for i in range(5, 10):\n",
        "  print(i)"
      ],
      "execution_count": null,
      "outputs": []
    },
    {
      "cell_type": "code",
      "metadata": {
        "id": "ry9-Vgiwbugn"
      },
      "source": [
        "# Here, we showcase not just that we can start and stop at arbitrary indices...\n",
        "# but also note that when i = 101 the loop terminates! That's why we only print\n",
        "# from 61 --> 91.\n",
        "for i in range(61, 100, 10):\n",
        "  print(i)"
      ],
      "execution_count": null,
      "outputs": []
    },
    {
      "cell_type": "code",
      "metadata": {
        "id": "6zLvRRsQcJuD"
      },
      "source": [
        "# The following code *does NOT* work....functions like `range` aren't expecting\n",
        "# keyword arguments. They are positional in nature.\n",
        "# for i in range(stop = 10, step = 2):  <-- We might hope this yields {0, 2, 4, ... 10}\n",
        "#   print(i)"
      ],
      "execution_count": null,
      "outputs": []
    },
    {
      "cell_type": "code",
      "metadata": {
        "id": "_mz2xqGUD8MN"
      },
      "source": [
        "a = 1\n",
        "b = 1\n",
        "n = 10\n",
        "for i in range(n):\n",
        "    print(a)\n",
        "    sumab = a+b\n",
        "    a = b\n",
        "    b = sumab\n",
        "# What is this computing ?"
      ],
      "execution_count": null,
      "outputs": []
    },
    {
      "cell_type": "markdown",
      "metadata": {
        "id": "AdeRoqKzE9GS"
      },
      "source": [
        "Break/continue"
      ]
    },
    {
      "cell_type": "code",
      "metadata": {
        "id": "yWgc5ANlE8mw"
      },
      "source": [
        "for i in range(10, 30):\n",
        "    if i % 2 == 0:\n",
        "        continue # Skip to the next iteration\n",
        "    elif i == 27:\n",
        "        break # Stop the loop\n",
        "    else:\n",
        "        print(i)"
      ],
      "execution_count": null,
      "outputs": []
    },
    {
      "cell_type": "markdown",
      "metadata": {
        "id": "8TdIGbJfej_w"
      },
      "source": [
        "More for loops"
      ]
    },
    {
      "cell_type": "code",
      "metadata": {
        "id": "Ji26iKtHejoy"
      },
      "source": [
        "for s in \"abcdefgh\":\n",
        "    print(s)"
      ],
      "execution_count": null,
      "outputs": []
    },
    {
      "cell_type": "markdown",
      "metadata": {
        "id": "syIRf-pm28FE"
      },
      "source": [
        "## Exercice"
      ]
    },
    {
      "cell_type": "code",
      "metadata": {
        "id": "pFARaKmk3FL2"
      },
      "source": [
        "# Write a code that sums up numbers from 1 to 100"
      ],
      "execution_count": null,
      "outputs": []
    },
    {
      "cell_type": "code",
      "metadata": {
        "id": "QhEoDg5kjQmd",
        "cellView": "form"
      },
      "source": [
        "#@title Solution\n",
        "i = 0\n",
        "for j in range(100):\n",
        "    i = i + j\n",
        "print(i)\n",
        "\n",
        "# Or, better:\n",
        "print(sum(range(100)))"
      ],
      "execution_count": null,
      "outputs": []
    },
    {
      "cell_type": "markdown",
      "metadata": {
        "id": "I9DlbXpbX78D"
      },
      "source": [
        "# Exercice"
      ]
    },
    {
      "cell_type": "code",
      "metadata": {
        "id": "lweg4g8cX7j1"
      },
      "source": [
        "# Write a code that sums up numbers from 20, 23, 26, 29, 32, 35, ..., 98 (including 98)"
      ],
      "execution_count": null,
      "outputs": []
    },
    {
      "cell_type": "code",
      "metadata": {
        "id": "8U46OPpFYU5w",
        "cellView": "form"
      },
      "source": [
        "#@title Solution\n",
        "i = 0\n",
        "for j in range(20, 99, 3):\n",
        "    i = i + j\n",
        "print(i)\n",
        "\n",
        "# Or, better:\n",
        "print(sum(range(20, 99, 3)))"
      ],
      "execution_count": null,
      "outputs": []
    },
    {
      "cell_type": "markdown",
      "metadata": {
        "id": "yebwagnvYfkK"
      },
      "source": [
        "# Exercice"
      ]
    },
    {
      "cell_type": "code",
      "metadata": {
        "id": "n6h0_OHJYfJs"
      },
      "source": [
        "# A stock prediction calculator\n",
        "\n",
        "# A stock is worth 87$ today\n",
        "# You hold 7 shares\n",
        "# It's (annual) growth rate is 4%\n",
        "# After how many month will your portfolio be worth 700$ ?\n",
        "\n",
        "# Hint: a portfolio value grow by portfolio*annual_growth_rate/12 every month"
      ],
      "execution_count": null,
      "outputs": []
    },
    {
      "cell_type": "code",
      "metadata": {
        "id": "8UHAdl-qYq__",
        "cellView": "form"
      },
      "source": [
        "#@title Solution \n",
        "portfolio = 87 * 7\n",
        "month = 0\n",
        "while portfolio < 700:\n",
        "    portfolio += portfolio * 0.04 / 12\n",
        "    month     += 1\n",
        "print(month)"
      ],
      "execution_count": null,
      "outputs": []
    },
    {
      "cell_type": "markdown",
      "metadata": {
        "id": "PbH4pmouDR60"
      },
      "source": [
        "## Exercice"
      ]
    },
    {
      "cell_type": "code",
      "metadata": {
        "id": "UKjTmZ073IFp"
      },
      "source": [
        "# A stock prediction calculator, bis\n",
        "\n",
        "# A stock is worth 87$ today\n",
        "# You hold 7 shares\n",
        "# It's (annual) growth rate is 4%\n",
        "# Every month you receive 0.5% (of your portfolio value) in dividends\n",
        "# After how many month will you have received 30$ ?\n",
        "# Display (nicely) your portfolio value and accumulated dividends month by month"
      ],
      "execution_count": null,
      "outputs": []
    },
    {
      "cell_type": "code",
      "metadata": {
        "id": "-XoubNKujWfK",
        "cellView": "form"
      },
      "source": [
        "#@title Solution \n",
        "portfolio = 87 * 7\n",
        "dividends = 0\n",
        "dividends_rate_monthly = 0.001\n",
        "growth_rate_annual     = 0.04\n",
        "stop_at = 30\n",
        "month = 0\n",
        "print(\"Month : Portfolio Dividents\")\n",
        "while dividends < stop_at:\n",
        "    dividends += portfolio * dividends_rate_monthly\n",
        "    portfolio += portfolio * growth_rate_annual / 12\n",
        "    month     += 1\n",
        "    print(f\"  {month:<3d} :       {portfolio:<4.0f}    {dividends:<6.2f}\")"
      ],
      "execution_count": null,
      "outputs": []
    },
    {
      "cell_type": "markdown",
      "metadata": {
        "id": "Rk0RUZYcBSro"
      },
      "source": [
        "# Containers\n"
      ]
    },
    {
      "cell_type": "markdown",
      "metadata": {
        "id": "gzrUpMNRCs7v"
      },
      "source": [
        "## Lists"
      ]
    },
    {
      "cell_type": "code",
      "metadata": {
        "id": "gAXg7i25BVsk"
      },
      "source": [
        "# A list of 3 integers\n",
        "a = [1, 2, 3]\n",
        "print(a)\n",
        "\n",
        "# 3 strings\n",
        "b = [\"A\", \"B\", \"C\"]\n",
        "print(b)\n",
        "\n",
        "# A mix of real number, integer and string\n",
        "c = [1e-4, 1, \"C\"]\n",
        "print(c)\n",
        "\n",
        "# A mix of lists !\n",
        "L = [a, b, c]\n",
        "print(L)\n",
        "\n",
        "# The length of a list\n",
        "print(len(L))"
      ],
      "execution_count": null,
      "outputs": []
    },
    {
      "cell_type": "markdown",
      "metadata": {
        "id": "nRqehC0RBlPa"
      },
      "source": [
        "Indexing is like in strings"
      ]
    },
    {
      "cell_type": "code",
      "metadata": {
        "id": "sUoPzXO9Bvs8"
      },
      "source": [
        "# A list\n",
        "a = ['A', 'B', 'C', 'D', 'E', 'F', 'G']\n",
        "print(a)\n",
        "\n",
        "# The first element of the list\n",
        "print(a[0])\n",
        "\n",
        "# Change the second element\n",
        "a[1] = 'Abis'\n",
        "print(a)"
      ],
      "execution_count": null,
      "outputs": []
    },
    {
      "cell_type": "code",
      "metadata": {
        "id": "36Og8ZxlCYQj"
      },
      "source": [
        "a = ['A', 'B', 'C', 'D', 'E', 'F', 'G']\n",
        "a1 = a[2:5]\n",
        "print(a1)\n",
        "a2 = a[::2]\n",
        "print(a2)\n",
        "a3 = a[1::3]\n",
        "print(a3)"
      ],
      "execution_count": null,
      "outputs": []
    },
    {
      "cell_type": "markdown",
      "metadata": {
        "id": "HnF9jPk8MDSX"
      },
      "source": [
        "Including negative start/end/step"
      ]
    },
    {
      "cell_type": "code",
      "metadata": {
        "id": "uNVXkHt5MGVl"
      },
      "source": [
        "a = ['A', 'B', 'C', 'D', 'E', 'F', 'G']\n",
        "print(a[-4])"
      ],
      "execution_count": null,
      "outputs": []
    },
    {
      "cell_type": "code",
      "metadata": {
        "id": "nEEDWGuuMQiB"
      },
      "source": [
        "# Quiz\n",
        "a = ['A', 'B', 'C', 'D', 'E', 'F', 'G']\n",
        "print(a[-6:5])"
      ],
      "execution_count": null,
      "outputs": []
    },
    {
      "cell_type": "markdown",
      "metadata": {
        "id": "z1fIc1rf_Fxh"
      },
      "source": [
        "Appending and removing"
      ]
    },
    {
      "cell_type": "code",
      "metadata": {
        "id": "deus-0BXI0Wd"
      },
      "source": [
        "# Create list\n",
        "l = [1, 2]\n",
        "print(l)\n",
        "\n",
        "# Add `1` at the end\n",
        "l.append(1)\n",
        "print(l)\n",
        "\n",
        "# Remove the second entry\n",
        "del l[1]\n",
        "print(l)"
      ],
      "execution_count": null,
      "outputs": []
    },
    {
      "cell_type": "markdown",
      "metadata": {
        "id": "dUT7SERJ_5L0"
      },
      "source": [
        "List comprehension, the most Pythonic thing there is.\n",
        "\n",
        "Don't abuse it :-)"
      ]
    },
    {
      "cell_type": "code",
      "metadata": {
        "id": "eQsnLHXWIE9a"
      },
      "source": [
        "# 1. Create v[i] = i^2 (square) for i = 0, 1, ..., 9\n",
        "v = [i**2 for i in range(10)]\n",
        "print(v)\n",
        "\n",
        "# 2. Create v[i] = 0 + 1 + ... + i for i = 0, 1, ..., 9\n",
        "v = [sum(range(i)) for i in range(10)]\n",
        "print(v)\n",
        "\n",
        "# 3. Like (1) but only if i is even\n",
        "v = [i**2 for i in range(10) if i % 2 == 0]\n",
        "print(v)"
      ],
      "execution_count": null,
      "outputs": []
    },
    {
      "cell_type": "markdown",
      "metadata": {
        "id": "J7yK_d6XIfuh"
      },
      "source": [
        "### Exercises"
      ]
    },
    {
      "cell_type": "code",
      "metadata": {
        "id": "d9BvkulC6jt-"
      },
      "source": [
        "# Compute and print the sum of the elements in a\n",
        "a = [3, 4, 2, 3, 5, 4, 8, 3, 5, 4, 8, 1, 2, 0]"
      ],
      "execution_count": null,
      "outputs": []
    },
    {
      "cell_type": "code",
      "metadata": {
        "id": "5RngloD4ZmHH",
        "cellView": "form"
      },
      "source": [
        "#@title Solution\n",
        "print(sum(a))"
      ],
      "execution_count": null,
      "outputs": []
    },
    {
      "cell_type": "code",
      "metadata": {
        "id": "u3Kegp9g6oSm"
      },
      "source": [
        "# Compute and print the sum of the elements in b, if such elements are greater than 5\n",
        "b = [2, 4, 0, 3, 1, 6, 7, 4, 2, 1, 8, 9, 3, 0]"
      ],
      "execution_count": null,
      "outputs": []
    },
    {
      "cell_type": "code",
      "metadata": {
        "id": "5UzCVjs7ZvL9",
        "cellView": "form"
      },
      "source": [
        "#@title Solution\n",
        "print(sum([v for v in b if v > 5]))"
      ],
      "execution_count": null,
      "outputs": []
    },
    {
      "cell_type": "code",
      "metadata": {
        "id": "ZeO6BdN37KB6"
      },
      "source": [
        "# Create a list of the words \"UUID=0\", \"UUID=1\", ..., \"UUID=50\""
      ],
      "execution_count": null,
      "outputs": []
    },
    {
      "cell_type": "code",
      "metadata": {
        "id": "s0URRvICZ6I0",
        "cellView": "form"
      },
      "source": [
        "#@title Solution\n",
        "l = [f\"UUID={i}\" for i in range(50)]\n",
        "print(l)\n",
        "\n",
        "# Or\n",
        "l = [\"UUID=\" + str(i) for i in range(50)]\n",
        "print(l)"
      ],
      "execution_count": null,
      "outputs": []
    },
    {
      "cell_type": "markdown",
      "metadata": {
        "id": "goMGjmZLCvng"
      },
      "source": [
        "## Tuples\n",
        "\n",
        "Like lists, but immutable. Cannot be changed."
      ]
    },
    {
      "cell_type": "code",
      "metadata": {
        "id": "8UWi0-DDCyAr"
      },
      "source": [
        "l = [1, \"Foo\", 3.14, 2.71, \"42\"]\n",
        "print(type(l))\n",
        "print(l)\n",
        "\n",
        "a = (1, \"Foo\", 3.14, 2.71, \"42\")\n",
        "print(type(a))\n",
        "print(a)\n",
        "\n",
        "#a[0] = 2 # Error\n",
        "#a.append(2) # Error\n",
        "#del a[1] # Error"
      ],
      "execution_count": null,
      "outputs": []
    },
    {
      "cell_type": "markdown",
      "metadata": {
        "id": "iKc04IMFBE2v"
      },
      "source": [
        "But otherwise, they support most of the same operations as lists"
      ]
    },
    {
      "cell_type": "code",
      "metadata": {
        "id": "SpKGyVDnC2vz"
      },
      "source": [
        "print(len(a))\n",
        "print(a[0])\n",
        "print(a[1::3])"
      ],
      "execution_count": null,
      "outputs": []
    },
    {
      "cell_type": "markdown",
      "metadata": {
        "id": "sxyl-92w694F"
      },
      "source": [
        "You typically want to use lists when all elements are \"the same\" and tuples when they represent different things (properties of an entity for instance)"
      ]
    },
    {
      "cell_type": "markdown",
      "metadata": {
        "id": "AnVSzJbFDCIu"
      },
      "source": [
        "## Dictionaries\n",
        "\n",
        "Dictionaries are (mutable) collections of (key, value) pairs."
      ]
    },
    {
      "cell_type": "code",
      "metadata": {
        "id": "Bi-5drHGDLDn"
      },
      "source": [
        "# l = [1,2,3] <-- list\n",
        "# t = (1,2,3) <-- tuple\n",
        "D = {\"John\":790, \"Alex\":810, \"Bob\":430, \"Steve\":530} # <-- dictionary\n",
        "print(D)\n",
        "print(len(D))\n",
        "print(D[\"John\"])\n",
        "# print(D[\"Bob\"])"
      ],
      "execution_count": null,
      "outputs": []
    },
    {
      "cell_type": "markdown",
      "metadata": {
        "id": "u31uvu3RBtUC"
      },
      "source": [
        "Iterating"
      ]
    },
    {
      "cell_type": "code",
      "metadata": {
        "id": "pgBIAETnFRoX"
      },
      "source": [
        "for (name, score) in D.items():\n",
        "    if score >= 700:\n",
        "        print(f\"{name}'s score: {score} (good)\")\n",
        "    else:\n",
        "        print(f\"{name}'s score: {score} (bad)\")"
      ],
      "execution_count": null,
      "outputs": []
    },
    {
      "cell_type": "code",
      "metadata": {
        "id": "Yolcrlh7FtEl"
      },
      "source": [
        "for k in D.keys():\n",
        "    print(f\"name {k}\")\n",
        "    \n",
        "for v in D.values():\n",
        "    print(f\"score {v}\")"
      ],
      "execution_count": null,
      "outputs": []
    },
    {
      "cell_type": "markdown",
      "metadata": {
        "id": "B0Dyio59Bvy_"
      },
      "source": [
        "Assignment"
      ]
    },
    {
      "cell_type": "code",
      "metadata": {
        "id": "fzKopFS6OJV9"
      },
      "source": [
        "# Add John if it doesn't exist, otherwise change it\n",
        "if \"John\" in D:\n",
        "    D[\"John\"] = D[\"John\"] - 50\n",
        "else:\n",
        "    D[\"John\"] = 700\n",
        "print(D)\n",
        "\n",
        "# Set Leo \n",
        "D[\"Leo\"] = 1000\n",
        "print(D)\n",
        "\n",
        "# Remove Leo\n",
        "del D[\"John\"]\n",
        "print(D)"
      ],
      "execution_count": null,
      "outputs": []
    },
    {
      "cell_type": "markdown",
      "metadata": {
        "id": "ex3PMovpF8ZD"
      },
      "source": [
        "### Exercise\n",
        "We have a \"database\" of people with email, age and score\n"
      ]
    },
    {
      "cell_type": "code",
      "metadata": {
        "id": "2swN9jjoKswD"
      },
      "source": [
        "data = {'Becki': ('becki@aol.net', 50, 504),\n",
        "        'Camilla': ('camilla@outlook.com', 59, 412),\n",
        "        'Debi': ('debi@outlook.com', 51, 685),\n",
        "        'Elizabeth': ('elizabeth@gmail.com', 24, 374),\n",
        "        'Emerson': ('emerson@gmail.com', 36, 594),\n",
        "        'Juliane': ('juliane@outlook.com', 18, 604),\n",
        "        'Katelynn': ('katelynn@gmail.com', 20, 375),\n",
        "        'Mary': ('mary@outlook.com', 54, 637),\n",
        "        'Nena': ('nena@gmail.com', 53, 484),\n",
        "        'Timothy': ('timothy@outlook.com', 34, 524),\n",
        "        'Yolando': ('yolando@gmail.com', 18, 659)}"
      ],
      "execution_count": null,
      "outputs": []
    },
    {
      "cell_type": "code",
      "metadata": {
        "id": "ZtdDM5CLDj9L"
      },
      "source": [
        "# Print the names, email and score of people with a score larger than 650"
      ],
      "execution_count": null,
      "outputs": []
    },
    {
      "cell_type": "code",
      "metadata": {
        "id": "J9slzyOl8VhZ"
      },
      "source": [
        "#@title Solution\n",
        "for name, info in data.items():\n",
        "    if(info[2] > 650):\n",
        "        print(f\"{name},{info[0]},{info[1]}\")"
      ],
      "execution_count": null,
      "outputs": []
    },
    {
      "cell_type": "markdown",
      "metadata": {
        "id": "ehwL19X3WWvo"
      },
      "source": [
        "# Reading and writing files"
      ]
    },
    {
      "cell_type": "markdown",
      "metadata": {
        "id": "MRq-o1YqEfpM"
      },
      "source": [
        "Reading files.\n",
        "First way. Using explicit `open` and `close`."
      ]
    },
    {
      "cell_type": "code",
      "metadata": {
        "id": "5AZgOrcNWpSO"
      },
      "source": [
        "# Open the file and create a `link` to it with f\n",
        "f = open(\"text.txt\",'r')\n",
        "\n",
        "# Iterates through all lines\n",
        "for l in f:\n",
        "    # every line ends with `\\n` which is the newline character\n",
        "    # we remove it before printing\n",
        "    print(l.strip('\\n'))\n",
        "\n",
        "# IMPORTANT! Close the file\n",
        "f.close() "
      ],
      "execution_count": null,
      "outputs": []
    },
    {
      "cell_type": "markdown",
      "metadata": {
        "id": "kFj9eZ5QE5E1"
      },
      "source": [
        "Second way. Using the `with` construct. No need to close, it's automatic."
      ]
    },
    {
      "cell_type": "code",
      "metadata": {
        "id": "0MWUnmc-EfBD"
      },
      "source": [
        "with open(\"text.txt\",\"r\") as f:\n",
        "    for l in f:\n",
        "        print(l.strip('\\n'))"
      ],
      "execution_count": null,
      "outputs": []
    },
    {
      "cell_type": "markdown",
      "metadata": {
        "id": "H-knql6mFJwH"
      },
      "source": [
        "Writing files"
      ]
    },
    {
      "cell_type": "code",
      "metadata": {
        "id": "d35qeQ4K_4Uw"
      },
      "source": [
        "with open(\"text-write.txt\", \"w\") as f:\n",
        "    f.write(\"First line\\n\") \n",
        "    f.write(\"Second line\\n\")"
      ],
      "execution_count": null,
      "outputs": []
    },
    {
      "cell_type": "code",
      "metadata": {
        "id": "R3lT8LA7FW-B"
      },
      "source": [
        "!cat text-write.txt # Read file using shell command"
      ],
      "execution_count": null,
      "outputs": []
    },
    {
      "cell_type": "markdown",
      "metadata": {
        "id": "De0JIcZIRPt9"
      },
      "source": [
        "### Exercise\n"
      ]
    },
    {
      "cell_type": "code",
      "metadata": {
        "id": "5Z5GS5zjUPPP"
      },
      "source": [
        "# TODO:\n",
        "# (1) Read dist.female.first and dist.male.first files\n",
        "#     Each file has many lines, each following the format\n",
        "#         NAMES         x y z\n",
        "#     Only the first word (the name) matters. You can ignore x, y and z\n",
        "# (2) For each file, go through all lines, read the name (by splitting) the line\n",
        "# (3) Find the names in common between the two files\n",
        "\n",
        "# Hint:\n",
        "line = \"    Name     12 54 54\\n\"\n",
        "print(line.split()) # Returns a list of the various words"
      ],
      "execution_count": null,
      "outputs": []
    },
    {
      "cell_type": "code",
      "metadata": {
        "cellView": "form",
        "id": "4-eNUQ-WRppc"
      },
      "source": [
        "#@title Solution\n",
        "names = {}\n",
        "with open(\"dist.female.first\",'r') as f:\n",
        "    for line in f:\n",
        "        name = line.split()[0]\n",
        "        names[name] = 1\n",
        "with open(\"dist.male.first\",'r') as f:\n",
        "    for line in f:\n",
        "        name = line.split()[0]\n",
        "        if name in names:            \n",
        "            names[name] += 1\n",
        "        else:\n",
        "            names[name] = 1\n",
        "print(n)\n",
        "for (k,v) in names.items():\n",
        "    if v == 2:\n",
        "        print(k)"
      ],
      "execution_count": null,
      "outputs": []
    },
    {
      "cell_type": "markdown",
      "metadata": {
        "id": "OC77P0-Ikn3i"
      },
      "source": [
        "### Harder exercise"
      ]
    },
    {
      "cell_type": "markdown",
      "metadata": {
        "id": "Gs2lkLs4p7JN"
      },
      "source": [
        "The text-file `star_wars_4th.txt` contains the 4th Star Wars script.\n",
        "\n",
        "We want you to find the 10 most common words of more than 4 characters.\n"
      ]
    },
    {
      "cell_type": "code",
      "metadata": {
        "id": "3gkpPhANlVG1"
      },
      "source": [
        "# Hints:\n",
        "\n",
        "# Break string into words\n",
        "s = \"Comment est mon anglais?\"\n",
        "print(s.split()) # = [\"Comment\", \"est\", \"mon\", \"anglais?\"]\n",
        "\n",
        "# Convert to lowercases\n",
        "s = \"INCROYABLE\"\n",
        "print(s.lower()) # = \"incroyable\""
      ],
      "execution_count": null,
      "outputs": []
    },
    {
      "cell_type": "markdown",
      "metadata": {
        "id": "3RISJlWYFjta"
      },
      "source": [
        "*TODO*: \n",
        "0. Initialize an empty dictionnary.\n",
        "1. read file line by line\n",
        "    - Break line into words\n",
        "    - Convert each word to lower case. BONUS: remove any punctuation\n",
        "    - If the word has more than 4 characters:\n",
        "        - If the word is already in the dictionnary, increment its count by 1        \n",
        "        - Else, add word to dictionnary with count of 1\n",
        "2. Convert dictionnary to list of (word, count). Use list(dict.items()) to that.\n",
        "3. Sort (descending) by word count. Google to find out how.\n",
        "4. Print the 10 most frequent"
      ]
    },
    {
      "cell_type": "code",
      "metadata": {
        "cellView": "form",
        "id": "DiuqDObpQ1FO"
      },
      "source": [
        "#@title Solution\n",
        "import string\n",
        "words = {} # Store word:count pairs\n",
        "with open(\"star_wars_4th.txt\",'r') as f:\n",
        "    for line in f:\n",
        "        for w_ in line.split():\n",
        "            w = w_.lower()\n",
        "            if len(w) > 4:\n",
        "                if w in words:\n",
        "                    words[w] += 1\n",
        "                else:\n",
        "                    words[w] = 1\n",
        "words = list(words.items())\n",
        "words = sorted(words, key=lambda x:x[1], reverse=True)\n",
        "words[:10]               "
      ],
      "execution_count": null,
      "outputs": []
    },
    {
      "cell_type": "markdown",
      "metadata": {
        "id": "mKBfjPxJX5nh"
      },
      "source": [
        "# Functions"
      ]
    },
    {
      "cell_type": "code",
      "metadata": {
        "id": "NUK0hXJhiurr"
      },
      "source": [
        "# Basic function\n",
        "def fooadd(x, y):\n",
        "    return x+y\n",
        "\n",
        "a = fooadd(1, 5)   \n",
        "print(a)\n",
        "b = fooadd(2, 5)\n",
        "print(b)"
      ],
      "execution_count": null,
      "outputs": []
    },
    {
      "cell_type": "code",
      "metadata": {
        "id": "YrUJvZpHSz4g"
      },
      "source": [
        "# Even functions are objects!\n",
        "print(type(fooadd))"
      ],
      "execution_count": null,
      "outputs": []
    },
    {
      "cell_type": "code",
      "metadata": {
        "id": "JxCcAel-l6WK"
      },
      "source": [
        "# This means this is allowed\n",
        "f = foo\n",
        "print(f(1,2))"
      ],
      "execution_count": null,
      "outputs": []
    },
    {
      "cell_type": "markdown",
      "metadata": {
        "id": "XfaEBpp9H6ey"
      },
      "source": [
        "Default arguments"
      ]
    },
    {
      "cell_type": "code",
      "metadata": {
        "id": "Zr2FYACiS3iR"
      },
      "source": [
        "# Default arguments\n",
        "def bar(x, y=2, z=3):\n",
        "    print(x+y+z)\n",
        "    \n",
        "# Positional arguments\n",
        "bar(1)\n",
        "bar(1, 3)\n",
        "bar(1, 3, 5)\n",
        "\n",
        "# Position + keyword arguments\n",
        "bar(1, z=2)\n",
        "bar(z=1, x=10)"
      ],
      "execution_count": null,
      "outputs": []
    },
    {
      "cell_type": "markdown",
      "metadata": {
        "id": "UhdsFQ8nHOHw"
      },
      "source": [
        "### Exercice: function definition\n",
        "\n",
        "Define a 3-lines function greet(names, msg) where `names` is a list of names (strings) and that prints, for all `name` in `names`\n",
        "```\n",
        "msg name!\n",
        "```\n",
        "where `msg` takes the default value `Hello`, but can be overridden if provided."
      ]
    },
    {
      "cell_type": "code",
      "metadata": {
        "id": "gncZW-o1ELh4"
      },
      "source": [
        "# Build function greet(...) as defined above"
      ],
      "execution_count": null,
      "outputs": []
    },
    {
      "cell_type": "code",
      "metadata": {
        "cellView": "form",
        "id": "iGaiIZAkRwP8"
      },
      "source": [
        "#@title Solution\n",
        "def greet(names, msg=\"Hello\"):\n",
        "    for n in names:\n",
        "        print(\"{} {}!\".format(msg, n))"
      ],
      "execution_count": null,
      "outputs": []
    },
    {
      "cell_type": "code",
      "metadata": {
        "id": "iADVWxYCUPcK"
      },
      "source": [
        "# This should then be working :        \n",
        "greet([\"Leopold\", \"Cindy\", \"John\", \"Bob\"], msg=\"Coucou\")"
      ],
      "execution_count": null,
      "outputs": []
    },
    {
      "cell_type": "markdown",
      "metadata": {
        "id": "XVDemxqEDidh"
      },
      "source": [
        "# Iterators\n",
        "\n",
        "Anything we can do `for x in ...` is an iterator."
      ]
    },
    {
      "cell_type": "code",
      "metadata": {
        "id": "KSECKhg5DsPU"
      },
      "source": [
        "for i in range(5):\n",
        "    print(i)"
      ],
      "execution_count": null,
      "outputs": []
    },
    {
      "cell_type": "code",
      "metadata": {
        "id": "hpg1UDZOELup"
      },
      "source": [
        "for s in \"a string!\":\n",
        "    print(s)"
      ],
      "execution_count": null,
      "outputs": []
    },
    {
      "cell_type": "code",
      "metadata": {
        "id": "nkyefeGxF7fw"
      },
      "source": [
        "for l in [1, 2, 3]:\n",
        "    print(l)"
      ],
      "execution_count": null,
      "outputs": []
    },
    {
      "cell_type": "code",
      "metadata": {
        "id": "Rl8mmF7cxwaW"
      },
      "source": [
        "d = {\"a\":1, \"b\":2, \"c\":100}\n",
        "for (k, v) in d.items():\n",
        "    print(k)\n",
        "    print(v)\n",
        "    "
      ],
      "execution_count": null,
      "outputs": []
    },
    {
      "cell_type": "markdown",
      "metadata": {
        "id": "Nmn4PXzGF9pk"
      },
      "source": [
        "Those are all iterators. \n",
        "Those are objects that one can iterate over using `for x in ...`\n",
        "A iterator is like a list but that does not require the construction of all the elements beforehand."
      ]
    },
    {
      "cell_type": "markdown",
      "metadata": {
        "id": "eUw330DmnXMO"
      },
      "source": [
        "Generators.\n",
        "We use the keyword yield to create a simple iterator."
      ]
    },
    {
      "cell_type": "code",
      "metadata": {
        "id": "Rhdw-cFIGPTw"
      },
      "source": [
        "def squares10():\n",
        "    for n in range(10):\n",
        "        yield n**2\n",
        "\n",
        "for x in squares10():\n",
        "    print(x)   "
      ],
      "execution_count": null,
      "outputs": []
    },
    {
      "cell_type": "markdown",
      "metadata": {
        "id": "fGbWVn4fGeN1"
      },
      "source": [
        "### Exercise: create a generator for the $n$ first fibonnaci numbers\n",
        "Create a generator for the first $n$ elements of the Fibonacci sequence:\n",
        "$$ n_0 = 1, n_1 = 1, n_{i+1} = n_i + n_{i-1} $$"
      ]
    },
    {
      "cell_type": "code",
      "metadata": {
        "id": "TBCdcrYBnplF"
      },
      "source": [
        "# TODO: define a function fibo(n) yielding the first n Fibonnaci numbers.\n",
        "# Use it to print the first 10."
      ],
      "execution_count": null,
      "outputs": []
    },
    {
      "cell_type": "code",
      "metadata": {
        "id": "4b5Mo7BuneDe"
      },
      "source": [
        "# Hint: this prints the first n Fibonnaci numbers\n",
        "n = 10\n",
        "a = 1\n",
        "b = 1\n",
        "for i in range(n):\n",
        "    print(a)\n",
        "    (a, b) = (b, a+b)"
      ],
      "execution_count": null,
      "outputs": []
    },
    {
      "cell_type": "code",
      "metadata": {
        "cellView": "form",
        "id": "6x1ydXmnR75F"
      },
      "source": [
        "#@title Solution\n",
        "def fibo(n):\n",
        "    a = 1\n",
        "    b = 1\n",
        "    for i in range(n):\n",
        "        yield a\n",
        "        (a, b) = (b, a+b)"
      ],
      "execution_count": null,
      "outputs": []
    },
    {
      "cell_type": "code",
      "metadata": {
        "id": "wuaBYIKhCIMI"
      },
      "source": [
        "# This should then work\n",
        "for x in fibo(10):\n",
        "    print(x)"
      ],
      "execution_count": null,
      "outputs": []
    },
    {
      "cell_type": "markdown",
      "metadata": {
        "id": "jB75ZryjKA35"
      },
      "source": [
        "### Extra Exercise: reverse, map, filter\n",
        "\n",
        "Reverse : Create a generator that takes a collection (like a list) as input, and generates the reverse list\n",
        "\n",
        "Map : Create a generator that takes a function and an iterable, and returns the function applied on each element\n",
        "\n",
        "Filter: Create a generator that takes a function f, and iterable, and generate the elements e for which the function f(e) returns True.\n",
        "\n",
        "Trick for printing: ```list(g)```  returns a list of the elements generated by g."
      ]
    },
    {
      "cell_type": "code",
      "metadata": {
        "id": "U5rGT1L9EUJH"
      },
      "source": [
        "# Define the myreverse, mymap and myfilter functions    "
      ],
      "execution_count": null,
      "outputs": []
    },
    {
      "cell_type": "code",
      "metadata": {
        "cellView": "form",
        "id": "AzfqMq2XSFnq"
      },
      "source": [
        "#@title Solution\n",
        "def myreverse(l):\n",
        "    for i in range(len(l)-1,-1,-1):\n",
        "        yield l[i]\n",
        "\n",
        "def mymap(f, l):\n",
        "    for x in l:\n",
        "        yield f(x)\n",
        "\n",
        "def myfilter(f, l):\n",
        "    for x in l:\n",
        "        if f(x):\n",
        "            yield x\n"
      ],
      "execution_count": null,
      "outputs": []
    },
    {
      "cell_type": "code",
      "metadata": {
        "id": "NYpOedcoUWKa"
      },
      "source": [
        "# This should then be working:\n",
        "def fun_square(x):\n",
        "    return x**2\n",
        "def fun_even(x):\n",
        "    return x % 2 == 0\n",
        "l = [1,2,3,4]\n",
        "print(list(myreverse(l)))\n",
        "print(list(mymap(fun_square, l)))  # Using Lambda functions would be nicer\n",
        "print(list(myfilter(fun_even, l)))"
      ],
      "execution_count": null,
      "outputs": []
    },
    {
      "cell_type": "markdown",
      "metadata": {
        "id": "jFaDudyQBNJs"
      },
      "source": [
        "# Everything is a reference (AKA How to stop being confused)"
      ]
    },
    {
      "cell_type": "markdown",
      "metadata": {
        "id": "j0KmZcsXpSac"
      },
      "source": [
        "What confusion are we talking about ?"
      ]
    },
    {
      "cell_type": "code",
      "metadata": {
        "id": "ak8lr_gCpQ1o"
      },
      "source": [
        "def fun(x):\n",
        "    x = 2\n",
        "x = 1\n",
        "fun(x)\n",
        "print(x) # ???"
      ],
      "execution_count": null,
      "outputs": []
    },
    {
      "cell_type": "code",
      "metadata": {
        "id": "QTZKX09ApcSJ"
      },
      "source": [
        "def fun(x):\n",
        "    x[0] = 2\n",
        "x = [1]\n",
        "fun(x)\n",
        "print(x) # ???"
      ],
      "execution_count": null,
      "outputs": []
    },
    {
      "cell_type": "markdown",
      "metadata": {
        "id": "FsGG4QdtcCS1"
      },
      "source": [
        "### Variable binding"
      ]
    },
    {
      "cell_type": "markdown",
      "metadata": {
        "id": "ubM4QjbVX2WL"
      },
      "source": [
        "When we write\n",
        "```\n",
        "a = ...\n",
        "a = ...\n",
        "```\n",
        "we simply \"rebind\" a: it points (refers) to something else. The underlying data may or may not be modified.\n",
        "\n"
      ]
    },
    {
      "cell_type": "code",
      "metadata": {
        "id": "BVak7bHLAwHL"
      },
      "source": [
        "a = 2\n",
        "a = 3\n",
        "print(a)"
      ],
      "execution_count": null,
      "outputs": []
    },
    {
      "cell_type": "code",
      "metadata": {
        "id": "oKdomzzBY1Bk"
      },
      "source": [
        "a = \"Stanford\"\n",
        "b = a\n",
        "a = \"ICME\"\n",
        "print(b)"
      ],
      "execution_count": null,
      "outputs": []
    },
    {
      "cell_type": "code",
      "metadata": {
        "id": "a-rvPFT5ZUiq"
      },
      "source": [
        "a = [1, 2, 3]\n",
        "b = a\n",
        "a[0] = \"ICME\"\n",
        "print(b)"
      ],
      "execution_count": null,
      "outputs": []
    },
    {
      "cell_type": "code",
      "metadata": {
        "id": "rR9l7H7DA17a"
      },
      "source": [
        "a = [1, 2]\n",
        "t = (a, 1, \"String\")\n",
        "a[0] = [3, 4]\n",
        "print(t)"
      ],
      "execution_count": null,
      "outputs": []
    },
    {
      "cell_type": "markdown",
      "metadata": {
        "id": "i9RbBtl5zVJ1"
      },
      "source": [
        "Puzzle: Can you now explain this ?"
      ]
    },
    {
      "cell_type": "code",
      "metadata": {
        "id": "SKsDozyYzUMH"
      },
      "source": [
        "l = []\n",
        "L = [l, l]\n",
        "L[0].append(1)\n",
        "print(L)"
      ],
      "execution_count": null,
      "outputs": []
    },
    {
      "cell_type": "markdown",
      "metadata": {
        "id": "COZ1ZjWUbLXX"
      },
      "source": [
        "### Immutable vs Mutable\n",
        "In Python, an object is either mutable or immutable. Mutable object can be changed. Immutable can't."
      ]
    },
    {
      "cell_type": "markdown",
      "metadata": {
        "id": "V5FfALuLAoN5"
      },
      "source": [
        "- Lists, dictionnaries are mutable\n",
        "- **Tuple**, int, string, double are immutable\n",
        "- Complex structures are usually mutable\n"
      ]
    },
    {
      "cell_type": "code",
      "metadata": {
        "id": "s-TI1jZCbK8L"
      },
      "source": [
        "a = [1, 2, 3, 4]\n",
        "a[2] = 10 # OK: list are mutable"
      ],
      "execution_count": null,
      "outputs": []
    },
    {
      "cell_type": "code",
      "metadata": {
        "id": "yFvKXbRJbcy1"
      },
      "source": [
        "s = \"abcdef\"\n",
        "# s[0] = 'e' # NOT OK: immutable"
      ],
      "execution_count": null,
      "outputs": []
    },
    {
      "cell_type": "code",
      "metadata": {
        "id": "KA99i_FRbe1n"
      },
      "source": [
        "t = (1, 4, 2)\n",
        "# t[1] = 3 # NOT OK: immutable"
      ],
      "execution_count": null,
      "outputs": []
    },
    {
      "cell_type": "code",
      "metadata": {
        "id": "SMuM89enbhFl"
      },
      "source": [
        "t = ([1, 2], \"test\") # Quid ?"
      ],
      "execution_count": null,
      "outputs": []
    },
    {
      "cell_type": "code",
      "metadata": {
        "id": "lZtS_qYCbuuS"
      },
      "source": [
        "# Mutable in immutable\n",
        "t[0][0] = 3 # OK: list mutable\n",
        "print(t)\n",
        "# t[0] = [4, 5] # NOT OK: tuple immutable"
      ],
      "execution_count": null,
      "outputs": []
    },
    {
      "cell_type": "markdown",
      "metadata": {
        "id": "qFyCs0axcFSx"
      },
      "source": [
        "### Function arguments"
      ]
    },
    {
      "cell_type": "markdown",
      "metadata": {
        "id": "NNmsMWowYCn0"
      },
      "source": [
        "Functions take their arguments by reference."
      ]
    },
    {
      "cell_type": "code",
      "metadata": {
        "id": "FUIIZFqQtpYj"
      },
      "source": [
        "def fun(x):\n",
        "    # x is the same as if we did \n",
        "    # x = a\n",
        "a = 3 # Something\n",
        "fun(a)"
      ],
      "execution_count": null,
      "outputs": []
    },
    {
      "cell_type": "markdown",
      "metadata": {
        "id": "mUXJuB_UDrtZ"
      },
      "source": [
        "### Quizzes"
      ]
    },
    {
      "cell_type": "code",
      "metadata": {
        "id": "jwWblHmYzc_Q"
      },
      "source": [
        "# Quiz\n",
        "a = 1\n",
        "b = a\n",
        "b = 2\n",
        "print(a)"
      ],
      "execution_count": null,
      "outputs": []
    },
    {
      "cell_type": "code",
      "metadata": {
        "id": "RLgwd3UFA4_z"
      },
      "source": [
        "# Quiz\n",
        "def fun(x):\n",
        "    x = 2\n",
        "    return 1\n",
        "a = 3\n",
        "fun(a)\n",
        "print(a)"
      ],
      "execution_count": null,
      "outputs": []
    },
    {
      "cell_type": "code",
      "metadata": {
        "id": "2FdBRCqmEbFs"
      },
      "source": [
        "# Quiz\n",
        "def fun(x):\n",
        "    x[0] = 1\n",
        "a = [9, 8, 7]\n",
        "fun(a)\n",
        "print(a)"
      ],
      "execution_count": null,
      "outputs": []
    },
    {
      "cell_type": "code",
      "metadata": {
        "id": "h0oASjHKzCIs"
      },
      "source": [
        "# Quiz\n",
        "def fun(x):\n",
        "    x[0] = 1\n",
        "a = [9, 8, 7]\n",
        "fun(a)\n",
        "print(a)"
      ],
      "execution_count": null,
      "outputs": []
    },
    {
      "cell_type": "code",
      "metadata": {
        "id": "0-VsYBHo0RwO"
      },
      "source": [
        "# Quiz\n",
        "def fun(x):\n",
        "    x[0][0] = 3\n",
        "a = [(1,2),5,6]\n",
        "fun(a)\n",
        "print(a)"
      ],
      "execution_count": null,
      "outputs": []
    },
    {
      "cell_type": "markdown",
      "metadata": {
        "id": "Ofo01pxsWq3u"
      },
      "source": [
        "### Copy and Deepcopy\n",
        "\n",
        "Python's objects have the copy and deepcopy functions.\n",
        "\n",
        "`copy` does a *shallow* copy of an object. It copies the object, but the other objects it references are not copied.\n",
        "\n",
        "`deepcopy` does a *deep* copy (as the name indicates). It copies the object and all referenced data-strucutres, recursively.\n"
      ]
    },
    {
      "cell_type": "code",
      "metadata": {
        "id": "_KwUmY4-W8I2"
      },
      "source": [
        "import copy\n",
        "\n",
        "A1 = [1, 2]\n",
        "A2 = [3, 4]\n",
        "A3 = [5, 6]"
      ],
      "execution_count": null,
      "outputs": []
    },
    {
      "cell_type": "code",
      "metadata": {
        "id": "15BjpbSkPI9x"
      },
      "source": [
        "# Like before\n",
        "L1 = [A1, A2]\n",
        "L2 = L1 # L1 and L2 point to the same lists, so modifying one modifies the other\n",
        "L1[0] = A3\n",
        "print(L1)\n",
        "print(L2)\n"
      ],
      "execution_count": null,
      "outputs": []
    },
    {
      "cell_type": "code",
      "metadata": {
        "id": "Sf98hHz2PKP4"
      },
      "source": [
        "# Using a copy\n",
        "L1 = [A1, A2]\n",
        "L2 = L1.copy()\n",
        "L2[0] = A3\n",
        "print(L1)\n",
        "print(L2)"
      ],
      "execution_count": null,
      "outputs": []
    },
    {
      "cell_type": "code",
      "metadata": {
        "id": "k2Rup3upPLbp"
      },
      "source": [
        "# However...\n",
        "A2[0] = 0\n",
        "print(L1)\n",
        "print(L2)"
      ],
      "execution_count": null,
      "outputs": []
    },
    {
      "cell_type": "code",
      "metadata": {
        "id": "76CT0gTgPMkV"
      },
      "source": [
        "# Using a deepcopy\n",
        "L1 = [A1, A2]\n",
        "L2 = copy.deepcopy(L1)\n",
        "A2[0] = 0\n",
        "print(L1)\n",
        "print(L2)"
      ],
      "execution_count": null,
      "outputs": []
    },
    {
      "cell_type": "markdown",
      "metadata": {
        "id": "-l7B7MyMX4D0"
      },
      "source": [
        "# Classes"
      ]
    },
    {
      "cell_type": "code",
      "metadata": {
        "id": "Fxnw1HW0k00C"
      },
      "source": [
        "class Complex:  \n",
        "    def __init__(self, real, imag):\n",
        "        self.r = real\n",
        "        self.i = imag\n",
        "    def add(self, other):\n",
        "        c = Complex(0, 0)\n",
        "        c.r = self.r + other.r\n",
        "        c.i = self.i + other.i    \n",
        "        return c\n",
        "    def sub(self, other):\n",
        "        c = Complex(0, 0)\n",
        "        c.r = self.r - other.r\n",
        "        c.i = self.i - other.i    \n",
        "        return c"
      ],
      "execution_count": null,
      "outputs": []
    },
    {
      "cell_type": "markdown",
      "metadata": {
        "id": "C9ZwTl1ip_Iv"
      },
      "source": [
        "### Exercice: complex multiplication\n",
        "In the above code, implement the complex product\n",
        "\n",
        "As a reminder, \n",
        "(a + bi)*(c + di) = (ac - bd) + (ad + bc)i"
      ]
    },
    {
      "cell_type": "markdown",
      "metadata": {
        "id": "CtsaluKBfU4B"
      },
      "source": [
        "### Exercise: better Complex class\n",
        "Can you find out how to be able to write instead\n",
        "```\n",
        "a = Complex(1, 2)\n",
        "b = Complex(2, 3)\n",
        "c = a + b \n",
        "d = a * b\n",
        "print(c)\n",
        "```\n",
        "?"
      ]
    },
    {
      "cell_type": "markdown",
      "metadata": {
        "id": "39QVzqterpH7"
      },
      "source": [
        "# Modules\n",
        "Modules are Python way of organizing large codes.\n",
        "When you have many files doing many different things, you need to find ways to organize that. You cannot just rely on every function having a unique name.\n",
        "\n",
        "We already saw and use some"
      ]
    },
    {
      "cell_type": "code",
      "metadata": {
        "id": "oAVu7ZcRr2zc"
      },
      "source": [
        "import math\n",
        "import random\n",
        "import string"
      ],
      "execution_count": null,
      "outputs": []
    },
    {
      "cell_type": "markdown",
      "metadata": {
        "id": "RyPx_oNzr8Tb"
      },
      "source": [
        "Modules, functions and variables can be imported in various ways"
      ]
    },
    {
      "cell_type": "code",
      "metadata": {
        "id": "DxvUqcjIsAFA"
      },
      "source": [
        "# (1)\n",
        "import math\n",
        "print(math.pi)\n",
        "print(math.sqrt(2))\n",
        "    \n",
        "# (2)\n",
        "import math as m\n",
        "print(m.pi)\n",
        "print(m.sqrt(2))\n",
        "\n",
        "# (3)\n",
        "from math import pi, sqrt\n",
        "print(pi)\n",
        "print(sqrt(2))\n",
        "\n",
        "# (4) [Bad]\n",
        "from math import *\n",
        "print(pi)\n",
        "print(sqrt(2))\n",
        "print(exp(1))"
      ],
      "execution_count": null,
      "outputs": []
    },
    {
      "cell_type": "markdown",
      "metadata": {
        "id": "jxbuxs8As0H2"
      },
      "source": [
        "# Extra-Exercises\n",
        "Taken from https://developers.google.com/edu/python/.\n",
        "No solutions for those"
      ]
    },
    {
      "cell_type": "code",
      "metadata": {
        "id": "gZJSC92Hs3Gq"
      },
      "source": [
        "# (1) Create function mixing(a, b) that, given two strings a & b, returns a<space>b (a and b separated by a space), \n",
        "# but swapping the first two characters of a and b\n",
        "# and returns the result\n",
        "#\n",
        "# Example\n",
        "# mixing(\"stanford\", \"python\") returns \"pyanford stthon\"\n",
        "\n",
        "def mixing(a, b):\n",
        "    # Your code here. Remove 'pass'.\n",
        "    pass\n",
        "\n",
        "# Check\n",
        "print(mixing(\"stanford\", \"python\")) # =?= pyanford stthon\n",
        "print(mixing(\"educ\", \"128\"))        # =?= 12uc ed8"
      ],
      "execution_count": null,
      "outputs": []
    },
    {
      "cell_type": "code",
      "metadata": {
        "id": "Xaz-ADnuutc4"
      },
      "source": [
        "# (2) Create function ing(a) that, given a string a,\n",
        "# if it has length < 3, leave it unchanged\n",
        "# else if it ends in \"ing\", append \"ly\"\n",
        "# otherwise, append \"ing\"\n",
        "# and return the result\n",
        "\n",
        "def ing(a):\n",
        "    # Your code here. Remove 'pass'.\n",
        "    pass\n",
        "\n",
        "# Check\n",
        "print(ing(\"python\"))      # =?= pythoning\n",
        "print(ing(\"engineering\")) # =?= engineeringly\n",
        "print(ing(\"ly\"))          # =?= ly"
      ],
      "execution_count": null,
      "outputs": []
    },
    {
      "cell_type": "code",
      "metadata": {
        "id": "0gSvLsshvbYF"
      },
      "source": [
        "# (3) Create a function trim(l) that, given a list l, remove all identical adjacent elements\n",
        "# and return the result. It should not modify its input.\n",
        "\n",
        "def trim(l):\n",
        "    # Your code here. Remove 'pass'.\n",
        "    pass\n",
        "\n",
        "# Check\n",
        "print(trim([1, 2, 3, 3, 4, 2, 2]))  # =?= [1, 2, 3, 4, 2]\n",
        "print(trim([]))                     # =?= []\n",
        "print(trim([1, 2, 1, 2]))           # =?= [1, 2, 1, 2]"
      ],
      "execution_count": null,
      "outputs": []
    },
    {
      "cell_type": "markdown",
      "metadata": {
        "id": "qp8M9Oz8wf6u"
      },
      "source": [
        "## More creative exercises\n",
        "\n",
        "A couple more ideas of exercises. Be creative here!\n",
        "Inspired from http://www.practicepython.org/\n",
        "\n",
        "*   Create a password generator. Given `n`, your function should return a strong random password of `n` characters.\n",
        "*   Reverse Word Order. Given a string, your function should return the same string but with the words in reversed order (the words themselves should be unchanged)\n",
        "\n"
      ]
    },
    {
      "cell_type": "markdown",
      "metadata": {
        "id": "PK-sBd2opx3G"
      },
      "source": [
        "This Python class https://dabeaz-course.github.io/practical-python/Notes/Contents.html is of very high quality and has many exercices throughout. Highly recommanded."
      ]
    }
  ]
}
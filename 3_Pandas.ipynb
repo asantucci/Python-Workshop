{
  "nbformat": 4,
  "nbformat_minor": 0,
  "metadata": {
    "colab": {
      "name": "Copy of Pandas.ipynb",
      "private_outputs": true,
      "provenance": [],
      "collapsed_sections": [],
      "include_colab_link": true
    },
    "kernelspec": {
      "display_name": "Python 3",
      "language": "python",
      "name": "python3"
    },
    "language_info": {
      "codemirror_mode": {
        "name": "ipython",
        "version": 3
      },
      "file_extension": ".py",
      "mimetype": "text/x-python",
      "name": "python",
      "nbconvert_exporter": "python",
      "pygments_lexer": "ipython3",
      "version": "3.7.3"
    }
  },
  "cells": [
    {
      "cell_type": "markdown",
      "metadata": {
        "id": "view-in-github",
        "colab_type": "text"
      },
      "source": [
        "<a href=\"https://colab.research.google.com/github/asantucci/Python-Workshop/blob/main/Pandas.ipynb\" target=\"_parent\"><img src=\"https://colab.research.google.com/assets/colab-badge.svg\" alt=\"Open In Colab\"/></a>"
      ]
    },
    {
      "cell_type": "markdown",
      "metadata": {
        "id": "ajFD2tfFsdYe"
      },
      "source": [
        "# Pandas\n"
      ]
    },
    {
      "cell_type": "code",
      "metadata": {
        "id": "4z4cZIIOyywG"
      },
      "source": [
        "import pandas as pd\n",
        "import numpy as np\n",
        "import matplotlib.pyplot as plt\n",
        "!pip install --upgrade plotly"
      ],
      "execution_count": null,
      "outputs": []
    },
    {
      "cell_type": "markdown",
      "metadata": {
        "id": "7KcMcq0RQbdD"
      },
      "source": [
        "# Covid-19 Analysis !"
      ]
    },
    {
      "cell_type": "code",
      "metadata": {
        "id": "kPLvVuaDQfHY"
      },
      "source": [
        "df = pd.read_csv(\"https://raw.githubusercontent.com/nytimes/covid-19-data/master/us-states.csv\",parse_dates=[0])\n",
        "print(df)"
      ],
      "execution_count": null,
      "outputs": []
    },
    {
      "cell_type": "code",
      "metadata": {
        "id": "uoItxDhcQzVt"
      },
      "source": [
        "cases_states = df.pivot(index='date',columns='state',values='cases')\n",
        "cases_states = cases_states.fillna(0)\n",
        "print(cases_states)\n",
        "cases_states.plot(y=['California','New York','Florida'])"
      ],
      "execution_count": null,
      "outputs": []
    },
    {
      "cell_type": "code",
      "metadata": {
        "id": "LVQiiw84Q5MF"
      },
      "source": [
        "daily_cases_states = cases_states.diff()\n",
        "daily_cases_states = daily_cases_states.fillna(0)\n",
        "print(daily_cases_states)\n",
        "daily_cases_states.plot(y=['California','New York','Florida'])"
      ],
      "execution_count": null,
      "outputs": []
    },
    {
      "cell_type": "markdown",
      "metadata": {
        "id": "5eOnS4QHmzb4"
      },
      "source": [
        "# Dataframes"
      ]
    },
    {
      "cell_type": "code",
      "metadata": {
        "id": "sVQrEKEXnGbc"
      },
      "source": [
        "# Build a DF from a dictionnary\n",
        "data = {\n",
        "    'Name':['Leo', 'Bob', 'John'],\n",
        "    'WakeupTime':[pd.Timestamp('07:00:00'), pd.Timestamp('08:30:00'), pd.Timestamp('07:30:00')],\n",
        "    'GPA':np.arange(1.0, 4.0),\n",
        "    'School':'Stanford',\n",
        "    'Siblings':np.array([1, 2, 0]),    \n",
        "}\n",
        "df = pd.DataFrame(data) \n",
        "df"
      ],
      "execution_count": null,
      "outputs": []
    },
    {
      "cell_type": "code",
      "metadata": {
        "id": "Ra-CcizP10Dw"
      },
      "source": [
        "# Make a column the index\n",
        "df2 = df.set_index('Name')\n",
        "df2"
      ],
      "execution_count": null,
      "outputs": []
    },
    {
      "cell_type": "code",
      "metadata": {
        "id": "yCrH6K40KivP"
      },
      "source": [
        "# From CSV (the most useful !). Even using URL !\n",
        "df = pd.read_csv(\"https://web.stanford.edu/~lcambier/pc/names.csv\")\n",
        "df"
      ],
      "execution_count": null,
      "outputs": []
    },
    {
      "cell_type": "markdown",
      "metadata": {
        "id": "lBNpJwAwxPFG"
      },
      "source": [
        "### Exercice"
      ]
    },
    {
      "cell_type": "code",
      "metadata": {
        "id": "ltvJlDQYxXAC"
      },
      "source": [
        "# Build the dataframe where *names are the indices*\n",
        "# and email & age are the columns. Adjust column names accordingly.\n",
        "\n",
        "names  = ['Leo', 'Bob', 'Jess', 'Casey', 'John', 'Cherr']\n",
        "emails = ['lc@comp.com', 'bob@stanford.edu', 'j@e.ss', 'casey@my.me', 'john@deer.us', 'cherr@y.net']\n",
        "ages   = np.random.randint(1, 30, 6)"
      ],
      "execution_count": null,
      "outputs": []
    },
    {
      "cell_type": "code",
      "metadata": {
        "cellView": "form",
        "id": "WSMfEIppbWMy"
      },
      "source": [
        "#@title Solution\n",
        "df = pd.DataFrame({'Email':emails, 'Age':ages}, index=names)\n",
        "df"
      ],
      "execution_count": null,
      "outputs": []
    },
    {
      "cell_type": "markdown",
      "metadata": {
        "id": "rK48jcAmo0Oo"
      },
      "source": [
        "### Analyzing data"
      ]
    },
    {
      "cell_type": "code",
      "metadata": {
        "id": "txGRKY50SL2f"
      },
      "source": [
        "# Create some data\n",
        "months = pd.date_range(start='20190101', periods=12, freq='M')\n",
        "change = np.random.normal(0,1.2,(12, 3))\n",
        "stocks = ['GOOG', 'TSLA', 'APPL']\n",
        "df = pd.DataFrame(change, index=months, columns=stocks)\n",
        "df"
      ],
      "execution_count": null,
      "outputs": []
    },
    {
      "cell_type": "markdown",
      "metadata": {
        "id": "tJc0nwMESxMT"
      },
      "source": [
        "Quick glance at data"
      ]
    },
    {
      "cell_type": "code",
      "metadata": {
        "id": "5SipfFHNo2M-"
      },
      "source": [
        "print(df.head(3), '\\n')\n",
        "print(df.tail(2), '\\n')\n",
        "print(df.describe(), '\\n')"
      ],
      "execution_count": null,
      "outputs": []
    },
    {
      "cell_type": "markdown",
      "metadata": {
        "id": "afEb_i4iSykE"
      },
      "source": [
        "Selecting data"
      ]
    },
    {
      "cell_type": "code",
      "metadata": {
        "id": "Tvla0LCAqkFS"
      },
      "source": [
        "## Selection using labels\n",
        "\n",
        "# One columns\n",
        "print(df['GOOG'], '\\n')\n",
        "\n",
        "# A slice of rows\n",
        "print(df[2:5], '\\n')\n",
        "\n",
        "# Multiple rows & columns\n",
        "# Endpoints INCLUDED, unlike in regular Python slicing syntax\n",
        "print(df.loc['2019-07-31':'2019-09-30',['TSLA','GOOG']], '\\n')"
      ],
      "execution_count": null,
      "outputs": []
    },
    {
      "cell_type": "code",
      "metadata": {
        "id": "TiMIRdN-sRsF"
      },
      "source": [
        "## Selection using conditions\n",
        "\n",
        "print(df, '\\n')\n",
        "print(df.loc[df['GOOG'] > 2.5,:], '\\n')         # Some rows\n",
        "print(df.loc[df.index >= '2019-08-15',:], '\\n') # Some rows\n",
        "print(df[df > 0.5], '\\n')                       # All data"
      ],
      "execution_count": null,
      "outputs": []
    },
    {
      "cell_type": "markdown",
      "metadata": {
        "id": "FqT5-0zB-7Pk"
      },
      "source": [
        "## Groupby"
      ]
    },
    {
      "cell_type": "code",
      "metadata": {
        "id": "IbXhaAA2-9zq"
      },
      "source": [
        "data = {'Name': ['Tom\\'s Pizza', 'Leo\\'s Taqueria', 'John\\'s Burgers', 'Cindy\\'s Peluqueria', 'Sergio\\'s Tacos', 'Bazyli\\'s Pub'],\n",
        "        'Location':['NYC','SF','WDC','SF','SF','NYC'],\n",
        "        'Num Customers':[5, 3, 8, 4, 6, 8],\n",
        "        'Revenue':[32.6, 54.6, 43.8, 43.6, 32.6, 97.5]}\n",
        "df = pd.DataFrame(data)\n",
        "df"
      ],
      "execution_count": null,
      "outputs": []
    },
    {
      "cell_type": "code",
      "metadata": {
        "id": "FDF0VI2bfEPk"
      },
      "source": [
        "groups = df.groupby('Location')\n",
        "for n,g in groups:\n",
        "    print(\"-------\\nGroup {}\\n\".format(n))\n",
        "    print(g.mean())\n",
        "df2 = groups.mean()\n",
        "# df2 = df.groupby('Location').max()\n",
        "print(df2)\n"
      ],
      "execution_count": null,
      "outputs": []
    },
    {
      "cell_type": "markdown",
      "metadata": {
        "id": "KR38BuCOzFk4"
      },
      "source": [
        "## Pivot"
      ]
    },
    {
      "cell_type": "code",
      "metadata": {
        "id": "PeRJacxizUPK"
      },
      "source": [
        "df = pd.DataFrame({'date':['2020-01-01','2020-01-01','2020-02-01','2020-02-01'],\n",
        "                   'crypto':['BTC','ETH','ETH','BTC'],\n",
        "                   'price':['8192','350','405','9510'],\n",
        "                   'exchange':['Coinbase','Bitconnect','Bitconnect','Bitconnect']})\n",
        "df"
      ],
      "execution_count": null,
      "outputs": []
    },
    {
      "cell_type": "code",
      "metadata": {
        "id": "b6BTZ8D93NKu"
      },
      "source": [
        "df2 = df.pivot(index='date',columns='crypto',values='price')\n",
        "df2"
      ],
      "execution_count": null,
      "outputs": []
    },
    {
      "cell_type": "code",
      "metadata": {
        "id": "XlOnExA-KTZ1"
      },
      "source": [
        "df = pd.read_csv('https://web.stanford.edu/~lcambier/pc/stocks.csv',parse_dates=[1])\n",
        "df"
      ],
      "execution_count": null,
      "outputs": []
    },
    {
      "cell_type": "code",
      "metadata": {
        "id": "e1ywX_rRR7rN"
      },
      "source": [
        "df2 = df.pivot(index='Date',columns='Stock',values='Open')\n",
        "df2.plot(y=['APPL','SBUX'])\n",
        "plt.show()"
      ],
      "execution_count": null,
      "outputs": []
    },
    {
      "cell_type": "markdown",
      "metadata": {
        "id": "bZrg_VaEQW_E"
      },
      "source": [
        "# Fancy Plotting !"
      ]
    },
    {
      "cell_type": "code",
      "metadata": {
        "id": "sXqpKUbBQlql"
      },
      "source": [
        "import pandas as pd\n",
        "import numpy as np\n",
        "import urllib.request\n",
        "import plotly.express as px\n",
        "import json\n",
        "\n",
        "with urllib.request.urlopen('https://raw.githubusercontent.com/plotly/datasets/master/geojson-counties-fips.json') as response:\n",
        "    counties = json.load(response)\n",
        "\n",
        "df = pd.read_csv('https://raw.githubusercontent.com/nytimes/covid-19-data/master/us-counties.csv', dtype={\"fips\": str, \"state\": str, \"county\": str})\n",
        "df.loc[df['county'] == \"New York City\",'fips'] = \"36061\"\n",
        "df = df.groupby(['fips', 'state', 'county']).sum()\n",
        "df = df.reset_index()\n",
        "df['Deaths (log10)'] = np.log10(df['deaths'])\n",
        "\n",
        "fig = px.choropleth(df, locations='fips',\n",
        "                        color='Deaths (log10)',\n",
        "                        scope='usa',\n",
        "                        geojson=counties,\n",
        "                        hover_data=['deaths'])\n",
        "fig.show()"
      ],
      "execution_count": null,
      "outputs": []
    },
    {
      "cell_type": "markdown",
      "metadata": {
        "id": "QxWpoBMtgeM-"
      },
      "source": [
        "# Exercice: bikes in Montreal\n",
        "\n",
        "Link to data: https://stanford.edu/~lcambier/pc/bikes.csv"
      ]
    },
    {
      "cell_type": "code",
      "metadata": {
        "id": "Lmnybd3Oggme"
      },
      "source": [
        "# (1)\n",
        "# TODO: Properly read bikes.csv. \n",
        "# - Use ; as a separator\n",
        "# - Parse the column 'Date' as dates and note that the day comes first in the CSV (\"non-US\" way)\n",
        "# Checkout https://pandas.pydata.org/pandas-docs/stable/reference/api/pandas.read_csv.html\n",
        "# Yes it's a little scary, it would not be Pandas otherwise :-)\n",
        "# Search \"dayfirst\" and you'll find the option\n",
        "# Print the first 15 and check what you just read"
      ],
      "execution_count": null,
      "outputs": []
    },
    {
      "cell_type": "code",
      "metadata": {
        "cellView": "form",
        "id": "uTtm6PU_cvEU"
      },
      "source": [
        "#@title Solution\n",
        "df = pd.read_csv('https://stanford.edu/~lcambier/pc/bikes.csv',sep=';',parse_dates=[\"Date\"],dayfirst=True)\n",
        "df = df.set_index('Date')\n",
        "print(df.head(15))"
      ],
      "execution_count": null,
      "outputs": []
    },
    {
      "cell_type": "code",
      "metadata": {
        "id": "wIQWfs7j-hOt"
      },
      "source": [
        "# (2)\n",
        "# TODO: Plot the number of bikes in \"du Parc\" as a function of time\n",
        "# Label the axes and put a title"
      ],
      "execution_count": null,
      "outputs": []
    },
    {
      "cell_type": "code",
      "metadata": {
        "cellView": "form",
        "id": "-RjufntVczDw"
      },
      "source": [
        "#@title Solution\n",
        "df.plot(y='du Parc')\n",
        "plt.xlabel('Date')\n",
        "plt.ylabel('Number of bikes')\n",
        "plt.title('Du Parc\\'s bikes');"
      ],
      "execution_count": null,
      "outputs": []
    },
    {
      "cell_type": "code",
      "metadata": {
        "id": "1WKStiJoK-b-"
      },
      "source": [
        "# (3)\n",
        "# TODO (bonus): Can you try to smooth out the curve ? \n",
        "# Use a 1-week moving average.\n",
        "# You'll have to google that"
      ],
      "execution_count": null,
      "outputs": []
    },
    {
      "cell_type": "code",
      "metadata": {
        "id": "d214QiA72bDn",
        "cellView": "form"
      },
      "source": [
        "#@title Solution\n",
        "df.rolling(7).mean().plot(y=['du Parc'])"
      ],
      "execution_count": null,
      "outputs": []
    },
    {
      "cell_type": "code",
      "metadata": {
        "id": "6vY0-BUND1T2"
      },
      "source": [
        "# (4) \n",
        "# TODO (bonus 2)\n",
        "#  1. Create a column holding the weekday\n",
        "#     df.index.weekday will give you that column.\n",
        "#  2. Sum all cyclists in each neighborhood for each week day\n",
        "#     Make a bar plot of the cyclists/day for each neighborhood\n",
        "#  3. Sum all neighborhood and make a pie chart of the total number\n",
        "#     of cyclists/day\n",
        "# Hint: \n",
        "# - df.index.weekday returns the weekday for each date in the index\n",
        "# - df.sum(axis=...) sums accross rows (axis = 0) or columns (axis = 1)\n",
        "# - df.plot(kind=...) can do bar plots (kind = bar) or pie (kind = pie)"
      ],
      "execution_count": null,
      "outputs": []
    },
    {
      "cell_type": "code",
      "metadata": {
        "cellView": "form",
        "id": "DoOasbgXc3kp"
      },
      "source": [
        "#@title Solution\n",
        "df['Weekday'] = df.index.weekday\n",
        "df_per_week = df.groupby('Weekday').sum()\n",
        "print(df_per_week)\n",
        "df_per_week.plot(kind='bar')\n",
        "plt.title('Cyclists per day of the week per neighborhood')\n",
        "plt.show()"
      ],
      "execution_count": null,
      "outputs": []
    },
    {
      "cell_type": "code",
      "metadata": {
        "id": "NZmfCFyGz3zj",
        "cellView": "form"
      },
      "source": [
        "#@title Solution\n",
        "df_per_week_all = df_per_week.sum(axis=1)\n",
        "df_per_week_all.plot(kind='pie')\n",
        "plt.title('Cyclists per day of the week')\n",
        "plt.show()"
      ],
      "execution_count": null,
      "outputs": []
    },
    {
      "cell_type": "markdown",
      "metadata": {
        "id": "2YSxL9FSBz-j"
      },
      "source": [
        "# Extra Exercice: 311 Customer complaints"
      ]
    },
    {
      "cell_type": "markdown",
      "metadata": {
        "id": "PH7APrVLMTua"
      },
      "source": [
        "Link to data: https://stanford.edu/~lcambier/pc/311.csv"
      ]
    },
    {
      "cell_type": "markdown",
      "metadata": {
        "id": "fNGqHQWY8-40"
      },
      "source": [
        "## Read the data"
      ]
    },
    {
      "cell_type": "code",
      "metadata": {
        "id": "i811pYB49DK2"
      },
      "source": [
        "# TODO: Read the data, get a sense of what's in it by displaying some rows, printing columns names, etc"
      ],
      "execution_count": null,
      "outputs": []
    },
    {
      "cell_type": "code",
      "metadata": {
        "cellView": "form",
        "id": "A2VSAZKJdH-4"
      },
      "source": [
        "#@title Solution\n",
        "df = pd.read_csv('https://stanford.edu/~lcambier/pc/311.csv')\n",
        "print(df.head(5))\n",
        "print(df.describe())\n",
        "print(df.columns)"
      ],
      "execution_count": null,
      "outputs": []
    },
    {
      "cell_type": "markdown",
      "metadata": {
        "id": "P3CgGXasCdaP"
      },
      "source": [
        "## Most common complaints"
      ]
    },
    {
      "cell_type": "code",
      "metadata": {
        "id": "UP3xVO0PAW1B"
      },
      "source": [
        "# TODO: Find the 10 most common complaint and visualize the distribution of complaints\n",
        "# Hint:\n",
        "# - df[column].value_counts() can count the number of occurences of entries in a column"
      ],
      "execution_count": null,
      "outputs": []
    },
    {
      "cell_type": "code",
      "metadata": {
        "cellView": "form",
        "id": "BVqp5pELdMKg"
      },
      "source": [
        "#@title Solution\n",
        "ct = df['Complaint Type'].value_counts()\n",
        "print(ct.head(10))\n",
        "ct.plot(kind='pie')"
      ],
      "execution_count": null,
      "outputs": []
    },
    {
      "cell_type": "markdown",
      "metadata": {
        "id": "YqQlbScNCfrN"
      },
      "source": [
        "## Plumbing complaints per borough"
      ]
    },
    {
      "cell_type": "code",
      "metadata": {
        "id": "WGxcCeC2BSyg"
      },
      "source": [
        "# TODO: Find the borough with the most PLUMBING complaints"
      ],
      "execution_count": null,
      "outputs": []
    },
    {
      "cell_type": "code",
      "metadata": {
        "cellView": "form",
        "id": "gikLu78ddQeS"
      },
      "source": [
        "#@title Solution\n",
        "df_p = df[df['Complaint Type'] == 'PLUMBING']\n",
        "df_p_vc = df_p['Borough'].value_counts()\n",
        "df_p_vc.plot(kind='bar')"
      ],
      "execution_count": null,
      "outputs": []
    },
    {
      "cell_type": "markdown",
      "metadata": {
        "id": "bsebVy8GKiyW"
      },
      "source": [
        "## Time of complaint"
      ]
    },
    {
      "cell_type": "code",
      "metadata": {
        "id": "oA8BWPoqKl4J"
      },
      "source": [
        "# (1) 'Created Date' is a string in df.\n",
        "# Convert it to a proper DatetimeIndex\n",
        "# and keep the hour only\n",
        "# Tip: https://pandas.pydata.org/pandas-docs/stable/generated/pandas.DatetimeIndex.html\n",
        "\n",
        "# (2) Count each occurance and plot the distribution\n"
      ],
      "execution_count": null,
      "outputs": []
    },
    {
      "cell_type": "code",
      "metadata": {
        "cellView": "form",
        "id": "EK4tYh-HdUt8"
      },
      "source": [
        "#@title Solution\n",
        "hour = pd.DatetimeIndex(df['Created Date']).hour\n",
        "\n",
        "hour_count = hour.value_counts()\n",
        "hour_count.plot(kind='bar')"
      ],
      "execution_count": null,
      "outputs": []
    },
    {
      "cell_type": "markdown",
      "metadata": {
        "id": "vzddkW_RCmL0"
      },
      "source": [
        "## Harder: Analyse complaints geographical distribution"
      ]
    },
    {
      "cell_type": "code",
      "metadata": {
        "id": "Q6aDXuxDDE7L"
      },
      "source": [
        "# TODO: Plot the position of the complaints\n",
        "# Tip: https://pandas.pydata.org/pandas-docs/stable/generated/pandas.DataFrame.plot.html"
      ],
      "execution_count": null,
      "outputs": []
    },
    {
      "cell_type": "code",
      "metadata": {
        "cellView": "form",
        "id": "H80SP7RKdboc"
      },
      "source": [
        "#@title Solution\n",
        "df.plot(kind='scatter',x='Longitude', y='Latitude')\n",
        "plt.show()"
      ],
      "execution_count": null,
      "outputs": []
    },
    {
      "cell_type": "code",
      "metadata": {
        "id": "ESNcoTN5GMGj"
      },
      "source": [
        "# (2) TODO: Plot the position of the complaints registered in Manhattan only\n",
        "\n",
        "# (3) Round the longitude and latitude to the nearest 0.01\n",
        "# Tip: np.around should be helpful\n",
        "\n",
        "# (4) Group data by (latitude, longitude), count the size of each group\n",
        "# and aggregate\n",
        "\n",
        "# (5) Plot the (longitude, latitude, size) on a xy scatter plot\n"
      ],
      "execution_count": null,
      "outputs": []
    },
    {
      "cell_type": "code",
      "metadata": {
        "cellView": "form",
        "id": "Qj42HE4_dg-0"
      },
      "source": [
        "#@title Solution (2)\n",
        "# (2)\n",
        "man = df['Borough'] == 'MANHATTAN' \n",
        "df[man].plot(kind='scatter',x='Longitude', y='Latitude')\n",
        "plt.show()"
      ],
      "execution_count": null,
      "outputs": []
    },
    {
      "cell_type": "code",
      "metadata": {
        "id": "-xAtcKbwWwh8",
        "cellView": "form"
      },
      "source": [
        "#@title Solution (3-4)\n",
        "df.loc[man,'Longitude'] = np.around(df.loc[man,'Longitude'], 2)\n",
        "df.loc[man,'Latitude'] = np.around(df.loc[man,'Latitude'], 2)\n",
        "s = df.loc[man,:].groupby(['Latitude','Longitude']).size()\n",
        "print(s.head(10))"
      ],
      "execution_count": null,
      "outputs": []
    },
    {
      "cell_type": "code",
      "metadata": {
        "id": "GWUVfNU_W55X",
        "cellView": "form"
      },
      "source": [
        "#@title Solution (5)\n",
        "ids = s.index\n",
        "plt.figure()\n",
        "plt.scatter(x=ids.levels[0][ids.codes[0]], y=ids.levels[1][ids.codes[1]], s=3*s.values)\n",
        "plt.show()"
      ],
      "execution_count": null,
      "outputs": []
    }
  ]
}
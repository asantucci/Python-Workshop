{
  "nbformat": 4,
  "nbformat_minor": 0,
  "metadata": {
    "colab": {
      "name": "Copy of Numpy.ipynb",
      "private_outputs": true,
      "provenance": [],
      "collapsed_sections": [],
      "toc_visible": true,
      "include_colab_link": true
    },
    "kernelspec": {
      "display_name": "Python 3",
      "language": "python",
      "name": "python3"
    },
    "language_info": {
      "codemirror_mode": {
        "name": "ipython",
        "version": 3
      },
      "file_extension": ".py",
      "mimetype": "text/x-python",
      "name": "python",
      "nbconvert_exporter": "python",
      "pygments_lexer": "ipython3",
      "version": "3.7.3"
    }
  },
  "cells": [
    {
      "cell_type": "markdown",
      "metadata": {
        "id": "view-in-github",
        "colab_type": "text"
      },
      "source": [
        "<a href=\"https://colab.research.google.com/github/asantucci/Python-Workshop/blob/main/2_Numerical_Python.ipynb\" target=\"_parent\"><img src=\"https://colab.research.google.com/assets/colab-badge.svg\" alt=\"Open In Colab\"/></a>"
      ]
    },
    {
      "cell_type": "markdown",
      "metadata": {
        "id": "2WzXZa7JvtxC"
      },
      "source": [
        "# Numpy & Matplotlib\n",
        "\n",
        "What data structures have we seen so far ?\n",
        "lists, tuples, dictionnaries, ...\n",
        "no real array!\n",
        "\n",
        "Numpy fixes that. Arrays are data structures where all elements are the same, can be randomly accessed and modified very efficiently."
      ]
    },
    {
      "cell_type": "code",
      "metadata": {
        "id": "btwh_Lk1AMMY"
      },
      "source": [
        "import numpy as np\n",
        "import matplotlib.pyplot as plt"
      ],
      "execution_count": null,
      "outputs": []
    },
    {
      "cell_type": "markdown",
      "metadata": {
        "id": "KczeqACaGCi_"
      },
      "source": [
        "# A stock simulation"
      ]
    },
    {
      "cell_type": "code",
      "metadata": {
        "id": "AL9R77WLGEom"
      },
      "source": [
        "# Stock simulation\n",
        "T = 100\n",
        "stock = np.zeros(T)\n",
        "mu = 1.2\n",
        "std = 5.0\n",
        "\n",
        "for t in range(1,T):\n",
        "    stock[t] = stock[t-1] + np.random.normal(mu,std)\n",
        "\n",
        "plt.plot(stock)\n",
        "plt.xlabel('Day')\n",
        "plt.ylabel('APPL ($)')\n",
        "plt.show()"
      ],
      "execution_count": null,
      "outputs": []
    },
    {
      "cell_type": "code",
      "metadata": {
        "id": "3l1_BqctGUSH"
      },
      "source": [
        "# Stock simulation\n",
        "\n",
        "T = 100\n",
        "n = 10\n",
        "stock = np.zeros((n,T))\n",
        "\n",
        "for t in range(1,T):\n",
        "    mu  = 1.2 * np.exp(-t/10)\n",
        "    std = 0.25 * (1 + np.sin(t))\n",
        "    stock[:,t] = stock[:,t-1] + np.random.normal(mu,std,n)\n",
        "\n",
        "plt.plot(stock.transpose())\n",
        "plt.xlabel('Day')\n",
        "plt.ylabel('APPL ($)')\n",
        "plt.show()"
      ],
      "execution_count": null,
      "outputs": []
    },
    {
      "cell_type": "markdown",
      "metadata": {
        "id": "mtmkbqngN6jP"
      },
      "source": [
        "# Numpy"
      ]
    },
    {
      "cell_type": "markdown",
      "metadata": {
        "id": "YvpsSZ-cHluM"
      },
      "source": [
        "1-d, 2-d and n-d arrays\n"
      ]
    },
    {
      "cell_type": "code",
      "metadata": {
        "id": "zV6o5ojbvbzI"
      },
      "source": [
        "a = np.array([1, 2, 3, 4])     # <-- Here, we create a 1D array from a list.\n",
        "b = np.array([ [1., 2., 3.],   # <-- Note we use a nested list...\n",
        "               [4., 5., 6.] ]) #     ... to create a 2D array\n",
        "# This last example shows that each nested list adds an Extent to the dimension.\n",
        "c = np.array([ [1], \n",
        "               [2], \n",
        "               [3] ])\n",
        "\n",
        "print(\"a\\n\", a)\n",
        "print(\"a.shape \", a.shape)\n",
        "\n",
        "print(\"b\\n\", b)\n",
        "print(\"b.shape \", b.shape)\n",
        "\n",
        "print(\"c\\n\", c)\n",
        "print(\"c.shape \", c.shape)"
      ],
      "execution_count": null,
      "outputs": []
    },
    {
      "cell_type": "markdown",
      "metadata": {
        "id": "CGe4vvnbHgUZ"
      },
      "source": [
        "Indexing and slicing"
      ]
    },
    {
      "cell_type": "code",
      "metadata": {
        "id": "BTLND5iYLexQ"
      },
      "source": [
        "# Here, we create a 4 x 3 2D array.\n",
        "A = np.array([[1, 2, 3], \n",
        "              [4, 5, 6], \n",
        "              [7, 8, 9], \n",
        "              [10, 11, 12]])\n",
        "\n",
        "# There's a built-in (overloaded) print method for numpy arrays.\n",
        "print(\"A\\n\", A, \"\\n\")\n",
        "\n",
        "# We can also access a single element if we provide an index for\n",
        "# *each* dimension of the array (in this case there are exactly 2).\n",
        "print(\"A[1,2]\\n\", A[1,2], \"\\n\")\n",
        "# We can also \"slice\" into arrays...either in the row dimension\n",
        "print(\"A[:,1]\\n\", A[:,1], \"\\n\")\n",
        "# ... the column dimension...\n",
        "print(\"A[0,:]\\n\", A[0,:], \"\\n\")\n",
        "# ... or we can even slice into multiple dimensions simultaneously.\n",
        "print(\"A[1:,:2]\\n\", A[1:,:2], \"\\n\")\n",
        "# Lastly, we demonstrate using a \"stride\" to index into a multi-dimensional array.\n",
        "# (Start from beg, go to end, use a stride-size of 2.)\n",
        "print(\"A[::2,:]\\n\", A[::2,:], \"\\n\")"
      ],
      "execution_count": null,
      "outputs": []
    },
    {
      "cell_type": "code",
      "metadata": {
        "id": "6BG8oq1KORiK"
      },
      "source": [
        "# Quiz: try to guess the result before running the cell!\n",
        "A = np.array([[1, 2, 3],\n",
        "              [4, 5, 6],\n",
        "              [7, 8, 9]])\n",
        "print(A[0:2,1:3])"
      ],
      "execution_count": null,
      "outputs": []
    },
    {
      "cell_type": "markdown",
      "metadata": {
        "id": "RPF9mGNMH2kk"
      },
      "source": [
        "Reshaping"
      ]
    },
    {
      "cell_type": "code",
      "metadata": {
        "cellView": "both",
        "id": "0R3RtqxyMHry"
      },
      "source": [
        "# Arrays are row major, and that is preserved.\n",
        "# I.e. each (nested) list is a row in a 2D array.\n",
        "A = np.array([[1, 2, 3], [4, 5, 6]])\n",
        "print(\"A\\n\", A, \"\\n\")\n",
        "\n",
        "# B = A.reshape((3, 2))\n",
        "# print(\"B\\n\", B)\n",
        "\n",
        "# Using '-1' can be interpreted as \"whatever you need to make it work\"... :)\n",
        "C = A.reshape((6, -1))\n",
        "print(\"C\\n\", C)\n",
        "print(C.shape)"
      ],
      "execution_count": null,
      "outputs": []
    },
    {
      "cell_type": "markdown",
      "metadata": {
        "id": "Kaqo-0PwOQYn"
      },
      "source": [
        "More initialization\n",
        "\n",
        "Here, we demonstrate various ways to initialize `numpy` arrays."
      ]
    },
    {
      "cell_type": "code",
      "metadata": {
        "id": "s3n6j7uKOR-I"
      },
      "source": [
        "# Just like `range`, but creates a numpy array.\n",
        "print(np.arange(10))\n",
        "# Note that the argument interpretation is exactly the same as `range(start, stop, step)`.\n",
        "print(np.arange(2, 13, 2))\n",
        "# We can also create an N-D array of zeros or ones...\n",
        "# We just have to specify (using a tuple) what the dimensions of our N-D array are.\n",
        "print(np.zeros((2, 3)))\n",
        "print(np.ones((3, 2)))\n",
        "# Here we draw from a uniform distribution over the interval [0, 1] and we do\n",
        "# so for each element in a 3x2 (2D) array.\n",
        "print(np.random.uniform(0, 1, (3, 2)))\n",
        "# This function is handy for doing linear interpolation between two points.\n",
        "# I.e. \"give me 5 points evenly spaced between -1 and 2\".\n",
        "print(np.linspace(-1, 2, 5))"
      ],
      "execution_count": null,
      "outputs": []
    },
    {
      "cell_type": "markdown",
      "metadata": {
        "id": "H83NKKIPgoKQ"
      },
      "source": [
        "## Operations on arrays"
      ]
    },
    {
      "cell_type": "markdown",
      "metadata": {
        "id": "cBRfuxLojNGz"
      },
      "source": [
        "Usual math operations"
      ]
    },
    {
      "cell_type": "markdown",
      "metadata": {
        "id": "Kcd-nOxygwQl"
      },
      "source": [
        "everything (`+, -, *, /, **, %`) is element-wise by default"
      ]
    },
    {
      "cell_type": "code",
      "metadata": {
        "id": "iEEviYhUgsFr"
      },
      "source": [
        "# Create two 3x2 arrays\n",
        "A = np.arange(6, dtype=float).reshape((3, 2))\n",
        "B = np.arange(5, 11, dtype=int).reshape((3, 2))\n",
        "print(A - B)  # Elemenet-wise subtraction...\n",
        "print(A * B)  # Element-wise multiplication...\n",
        "print(A / B)  # Element-wise division..."
      ],
      "execution_count": null,
      "outputs": []
    },
    {
      "cell_type": "code",
      "metadata": {
        "id": "4IRFXf2BhVaA"
      },
      "source": [
        "# Sizes have to match\n",
        "A = np.arange(6).reshape((3, 2))\n",
        "C = np.arange(4).reshape((2, 2))\n",
        "print(A)\n",
        "print(C)\n",
        "\n",
        "# A + C <-- Yields an error since the sizes are incompatible.\n",
        "#           In particular: `operands could not be broadcast with shapes (3, 2) (2, 2)`."
      ],
      "execution_count": null,
      "outputs": []
    },
    {
      "cell_type": "code",
      "metadata": {
        "id": "gS8a97V4IfNc"
      },
      "source": [
        "# More advanced stuff\n",
        "\n",
        "# Inner & Outer products of vectors (1d arrays)\n",
        "a = np.arange(5)\n",
        "b = np.arange(5, 10)\n",
        "# Element-wise\n",
        "print(a * b)\n",
        "# Inner product\n",
        "print(a.dot(b))\n",
        "# Outer product\n",
        "print(np.outer(a,b))"
      ],
      "execution_count": null,
      "outputs": []
    },
    {
      "cell_type": "code",
      "metadata": {
        "id": "-VJn5MsdnmQo"
      },
      "source": [
        "# We can also create a random array, then sort it...\n",
        "a = np.array([np.random.randint(1, 10) for x in range(10)])\n",
        "print(f\"Before sorting:\\n{a}\")\n",
        "print(f\"After sorting in ascending order:\\n{np.sort(a)}\")\n",
        "print(\"After sorting we can inspect the original object...\",\n",
        "      \"and learn that the sort produces a copy of the input...\",\n",
        "      f\"(i.e. the sort is not 'in-place'):\\n{a}\")\n"
      ],
      "execution_count": null,
      "outputs": []
    },
    {
      "cell_type": "code",
      "metadata": {
        "id": "9kHn-bzrodnB"
      },
      "source": [
        "matrix = np.array([np.random.randint(1, 10) for x in range(9)]).reshape(3, 3)\n",
        "print(f\"Original matrix of random integers:\\n{matrix}\\n\")\n",
        "sorted_mat = np.sort(matrix, axis = 0)  # Note that axis 0 --> column-wise sort.\n",
        "print(f\"Matrix sorted along first axis (i.e. within each column, we sort):\\n{sorted_mat}\\n\")"
      ],
      "execution_count": null,
      "outputs": []
    },
    {
      "cell_type": "markdown",
      "metadata": {
        "id": "jS7jRz0NhY3G"
      },
      "source": [
        "## Broadcasting\n",
        "\n",
        "This is the way numpy operate on arrays of different shapes"
      ]
    },
    {
      "cell_type": "code",
      "metadata": {
        "id": "4LFB85HmiGCx"
      },
      "source": [
        "A = np.arange(10).reshape(2, 5)\n",
        "print(A.shape)\n",
        "print(A)\n",
        "# print(A + b)  <-- produces an error that the `operands could not be broadcast together with shapes (2,5) (2,3)`."
      ],
      "execution_count": null,
      "outputs": []
    },
    {
      "cell_type": "code",
      "metadata": {
        "id": "RHYs0bGV8pui"
      },
      "source": [
        "# With scalar: obvious (simply add element-wise)\n",
        "b = 2.0\n",
        "print(A + b)"
      ],
      "execution_count": null,
      "outputs": []
    },
    {
      "cell_type": "code",
      "metadata": {
        "id": "X8kWsGH28rti"
      },
      "source": [
        "# With other arrays: loop backward from end and match/stretch dimensions\n",
        "# I.e. \"recycle elements\" in a sense.\n",
        "b = np.arange(5)  # <-- Creates an array [0, 1, 2, 3, 4]\n",
        "# Here, we add array `b` to each row of matrix `A`, element-wise.\n",
        "print(A + b)"
      ],
      "execution_count": null,
      "outputs": []
    },
    {
      "cell_type": "code",
      "metadata": {
        "id": "Ohc_cfr-HHO0"
      },
      "source": [
        "# Sizes have to match\n",
        "A = np.arange(6).reshape(2, 3)\n",
        "print(A.shape)\n",
        "b = np.arange(3)\n",
        "print(b.shape)\n",
        "\n",
        "# Again, realize that we're adding `b` to each row of matrix `A`, and\n",
        "# it so happens that the length of `b` is 3, and `A` has 3 columns! :)\n",
        "print(A + b)"
      ],
      "execution_count": null,
      "outputs": []
    },
    {
      "cell_type": "markdown",
      "metadata": {
        "id": "jbFR38BmtOqm"
      },
      "source": [
        "## Axis keyword"
      ]
    },
    {
      "cell_type": "code",
      "metadata": {
        "id": "RlDji4D9tA2s"
      },
      "source": [
        "a = np.arange(10) # [0, 1, 2, 3, 4, 5, 6, 7, 8, 9]\n",
        "print(a.sum())    # sum of all elements\n",
        "print(a.mean())   # arithmetic average      (returns 0 for empty input)\n",
        "print(a.prod())   # product of all elements (returns 1 for empty input)\n",
        "print(a.std())    # standard deviation\n",
        "print(a.var())    # variance\n",
        "print(a.min())    # minimum\n",
        "print(a.max())    # maximum\n",
        "print(a.argmin()) # location of minimum\n",
        "print(a.argmax()) # location of maximum"
      ],
      "execution_count": null,
      "outputs": []
    },
    {
      "cell_type": "markdown",
      "metadata": {
        "id": "RHMxH6EEnWeT"
      },
      "source": [
        "It's also interesting to note that we can apply these operations over different axes!"
      ]
    },
    {
      "cell_type": "code",
      "metadata": {
        "id": "NI_n6fFytQRV"
      },
      "source": [
        "a = np.arange(6).reshape(2, 3)\n",
        "print(\"Note of course that we are dealing with a 2x3 matrix\\n\", a, \"\\n\")\n",
        "\n",
        "# Take the sum over each column\n",
        "print(\"Column-sums =\", a.sum(axis=0))\n",
        "# Take the mean of each column\n",
        "print(\"Column-means =\", a.mean(axis=0))\n",
        "# Compute the standard deviation of each row\n",
        "print(\"Standard deviations of the rows are\", a.std(axis=1))"
      ],
      "execution_count": null,
      "outputs": []
    },
    {
      "cell_type": "code",
      "metadata": {
        "id": "Wd2NfJLcNlrw"
      },
      "source": [
        "# Quiz\n",
        "a = np.array([[1, 2],\n",
        "              [3, 4]])\n",
        "print(a.max(axis=0))"
      ],
      "execution_count": null,
      "outputs": []
    },
    {
      "cell_type": "markdown",
      "metadata": {
        "id": "-NKD1u8VwBcM"
      },
      "source": [
        "### Mini-Exercice: normalize data"
      ]
    },
    {
      "cell_type": "code",
      "metadata": {
        "id": "t1vobjeawLkG"
      },
      "source": [
        "X = np.random.normal(loc=2, scale=3, size=(1000, 10))\n",
        "print(\"The original X has shape =\", X.shape, \"and elements equal to\\n\", X)\n",
        "\n",
        "# In Stats/ML the following setup is very common, for\n",
        "# each row to be an observation, and each column a feature.\n",
        "# \n",
        "# Normalize the data by removing from each column its mean\n",
        "# and by dividing each columns by its standard deviation.\n",
        "# This can make certain algorithms more numerically stable (OLS)...\n",
        "# ...it can also allow us to compare the \"effect-sizes\" across\n",
        "# different features!\n",
        "\n",
        "mean = X.mean(axis=0)\n",
        "std  = X.std(axis=0)\n",
        "\n",
        "Xnormalized = (X - mean) / std\n",
        "print(\"\\nHere we print out the column-means of the normalized X = \\n\", \n",
        "      Xnormalized.mean(axis=0), \"\\nnotice that they're all very close to zero\",\n",
        "      \"(to within machine precision), which is what we intended to happen\")\n",
        "print(\"\\nHere we print out the column-variances of the normalized X = \\n\", \n",
        "      Xnormalized.std(axis=0), \"\\nnotice that they're all unit-valued\",\n",
        "      \"...again this *can* be desireable in certain settings...\")"
      ],
      "execution_count": null,
      "outputs": []
    },
    {
      "cell_type": "markdown",
      "metadata": {
        "id": "0KS8fMIHMUNY"
      },
      "source": [
        "# Matplotlib"
      ]
    },
    {
      "cell_type": "code",
      "metadata": {
        "id": "XLsxOR7YIaM-"
      },
      "source": [
        "import matplotlib.pyplot as plt"
      ],
      "execution_count": null,
      "outputs": []
    },
    {
      "cell_type": "markdown",
      "metadata": {
        "id": "-nBsv5-wJrY2"
      },
      "source": [
        "Very Matlab-like plotting"
      ]
    },
    {
      "cell_type": "code",
      "metadata": {
        "id": "l8TDglT9MWrN"
      },
      "source": [
        "x = np.linspace(-1, 10, 50)\n",
        "y = np.sin(x)\n",
        "\n",
        "plt.figure()\n",
        "plt.plot(x, y, '*-b')\n",
        "plt.scatter(x, y**2, c='red')  # Notice that here, keyword `c` used to denote a colour argument.\n",
        "plt.xlabel(\"x\")\n",
        "plt.ylabel(\"y\")\n",
        "plt.title(\"sin(x) and sin(x**2)\")\n",
        "plt.show()"
      ],
      "execution_count": null,
      "outputs": []
    },
    {
      "cell_type": "code",
      "metadata": {
        "id": "JgEwJo1QOFPn"
      },
      "source": [
        "x = np.logspace(0., 3., 10) # 10^0 to 10^3\n",
        "y = np.exp(x**0.2+10.0*np.tanh(0.5*np.log(x)))\n",
        "plt.figure()\n",
        "# Notice that we use a \"diamond\" marker, a dash-dot linetype, and slightly thicker linewidth.\n",
        "plt.loglog(x, y, marker=\"d\", linestyle='-.', linewidth = 2) # semilogx, semilogy also exist\n",
        "plt.xlabel(\"Frequency\")\n",
        "plt.ylabel(\"Gain\")\n",
        "plt.title(\"A cool title\")\n",
        "plt.show()"
      ],
      "execution_count": null,
      "outputs": []
    },
    {
      "cell_type": "code",
      "metadata": {
        "id": "5WP17xwUp5HJ"
      },
      "source": [
        "# Keyworkd `alpha` controls opacity (or transparency)\n",
        "rv1 = np.random.normal(loc = -1, size = 1000)\n",
        "rv2 = np.random.normal(loc = +1, size = 1000)\n",
        "plt.hist(rv1, bins = 30, color = \"red\", alpha = 0.5)\n",
        "plt.hist(rv2, bins = 30, color = \"blue\", alpha = 0.5)\n",
        "plt.show()"
      ],
      "execution_count": null,
      "outputs": []
    },
    {
      "cell_type": "code",
      "metadata": {
        "id": "5zfww6H9ry7I"
      },
      "source": [
        "# It's sometimes nice to use sub-plots to separate things into multiple facets.\n",
        "# Here, we ignore the first return argument, it's beyond the scope of this class. (Useful for further formatting...)\n",
        "f, (ax1, ax2) = plt.subplots(nrows = 2, ncols = 1, sharex = True)\n",
        "ax1.hist(rv1, bins = 30)\n",
        "ax2.hist(rv2, bins = 30)\n",
        "ax1.set_title(\"Sharing X-axis\")"
      ],
      "execution_count": null,
      "outputs": []
    },
    {
      "cell_type": "code",
      "metadata": {
        "id": "Z60RFMcQOwI7"
      },
      "source": [
        "plt.figure()\n",
        "for color in ['blue', 'orange', 'green']:\n",
        "    n = 60\n",
        "    x, y = np.random.rand(2, n)\n",
        "    scale = 200.0 * np.random.rand(n)\n",
        "    plt.scatter(x, y, c=color, s=scale, label=color,\n",
        "                alpha=0.3, edgecolors='none')\n",
        "plt.xlabel(\"x\")\n",
        "plt.ylabel(\"y\")\n",
        "plt.show()"
      ],
      "execution_count": null,
      "outputs": []
    },
    {
      "cell_type": "markdown",
      "metadata": {
        "id": "AAGlpGhWZyBp"
      },
      "source": [
        "Many other plotting libraries ! More advanced and interactive.\n",
        "- Plotly\n",
        "- Bokeh\n",
        "- Seaborn"
      ]
    },
    {
      "cell_type": "markdown",
      "source": [
        "# Appendix"
      ],
      "metadata": {
        "id": "7ma7fPqnDamT"
      }
    },
    {
      "cell_type": "markdown",
      "metadata": {
        "id": "-XayyfTWi6fr"
      },
      "source": [
        "## Combining data via *stack and concatenate"
      ]
    },
    {
      "cell_type": "code",
      "metadata": {
        "id": "_mcRnxd6jAc5"
      },
      "source": [
        "print(np.vstack((range(10), range(10, 20))))"
      ],
      "execution_count": null,
      "outputs": []
    },
    {
      "cell_type": "code",
      "metadata": {
        "id": "-WboqR_fjaxw"
      },
      "source": [
        "print(np.hstack((range(10), range(10, 20))))\n",
        "\n",
        "# Equivalently, since we're dealing with a 1-D array.\n",
        "print(np.concatenate((range(10), range(10, 20))))"
      ],
      "execution_count": null,
      "outputs": []
    },
    {
      "cell_type": "markdown",
      "metadata": {
        "id": "5r_0F_5Bj7Kf"
      },
      "source": [
        "## Axes manipulation."
      ]
    },
    {
      "cell_type": "markdown",
      "metadata": {
        "id": "d41KZsTTlMCD"
      },
      "source": [
        "### Squeeze out superfluous axes"
      ]
    },
    {
      "cell_type": "code",
      "metadata": {
        "id": "HZCH-sSskDQM"
      },
      "source": [
        "# Suppose we have a superfluous axis, i.e. one with extent one.\n",
        "a = np.array([[1, 2, 3, 4, 5]])\n",
        "print(a.shape)  # <-- Realize that the first dimension doesn't really help us...\n",
        "# I.e. if we tried to ever index into a, every element access would be of the form\n",
        "# a[0][i] for some i.\n",
        "a[0][1]"
      ],
      "execution_count": null,
      "outputs": []
    },
    {
      "cell_type": "code",
      "metadata": {
        "id": "fEtcXK0Nk5uL"
      },
      "source": [
        "# Instead, why not simply \"squeeze\" out this superfluous array dimension?\n",
        "simplified = a.squeeze()\n",
        "simplified"
      ],
      "execution_count": null,
      "outputs": []
    },
    {
      "cell_type": "code",
      "metadata": {
        "id": "7amuqFZElBZG"
      },
      "source": [
        "# Now we can use fewer extract operator`[` in order to retrieve elements.\n",
        "simplified[1]"
      ],
      "execution_count": null,
      "outputs": []
    },
    {
      "cell_type": "markdown",
      "metadata": {
        "id": "kDlLHQQhlR5o"
      },
      "source": [
        "## Functions newaxis, swapaxes, and transpose\n",
        "There are a few other helper functions worth calling out."
      ]
    },
    {
      "cell_type": "code",
      "metadata": {
        "id": "kzKEO4T2lZQK"
      },
      "source": [
        "simple_vec = np.arange(5)\n",
        "# Sort of like the opposite of squeeze, here we *add* a new dimension into our vector...\n",
        "# thereby making it have two dimensions (one which is clearly superfluous)\n",
        "matrix = simple_vec[np.newaxis, :]\n",
        "matrix"
      ],
      "execution_count": null,
      "outputs": []
    },
    {
      "cell_type": "code",
      "metadata": {
        "id": "GLllSbT-mI1j"
      },
      "source": [
        "print(f\"The simple vector has shape {simple_vec.shape} whereas the matrix is of shape {matrix.shape}\")"
      ],
      "execution_count": null,
      "outputs": []
    },
    {
      "cell_type": "code",
      "metadata": {
        "id": "Ja35UyTvmhCg"
      },
      "source": [
        "# We can also swap axes...\n",
        "swapped = matrix.swapaxes(0, 1)  # <-- Swap the first two (zero-indexed) axes...\n",
        "print(swapped)\n",
        "print(swapped.shape)"
      ],
      "execution_count": null,
      "outputs": []
    },
    {
      "cell_type": "code",
      "metadata": {
        "id": "Oy7VcrTVm8Hw"
      },
      "source": [
        "# We can also transpose...helpful in mathematical contexts especially.\n",
        "print(swapped.transpose().shape)\n",
        "print(swapped * swapped.transpose())"
      ],
      "execution_count": null,
      "outputs": []
    }
  ]
}
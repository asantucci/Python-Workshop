{
 "cells": [
  {
   "cell_type": "markdown",
   "metadata": {},
   "source": [
    "<a href=\"https://colab.research.google.com/github/asantucci/Python-Workshop/blob/main/1_Introduction_to_Python.ipynb\" target=\"_parent\">\n",
    "    <img src=\"https://colab.research.google.com/assets/colab-badge.svg\"/>\n",
    "</a>"
   ]
  },
  {
   "cell_type": "markdown",
   "metadata": {
    "id": "IYgvIvo7_R54"
   },
   "source": [
    "# Introduction to Python"
   ]
  },
  {
   "cell_type": "code",
   "execution_count": null,
   "metadata": {
    "id": "zQ6sSXQqvhr5"
   },
   "outputs": [],
   "source": [
    "# Click in the cell and press CRTL-ENTER (Windows) or CMD-ENTER (Mac) or SHIFT-ENTER (Linux) to run the cell\n",
    "# Lines starting with `#` and are ignored when running\n",
    "print(\"It works!\")"
   ]
  },
  {
   "cell_type": "code",
   "execution_count": null,
   "metadata": {
    "id": "_jdiu67Yi0Gi"
   },
   "outputs": [],
   "source": [
    "# When the last line is a statement, it is printed\n",
    "something = 1\n",
    "something"
   ]
  },
  {
   "cell_type": "code",
   "execution_count": null,
   "metadata": {
    "id": "GWHr57MM9MB-"
   },
   "outputs": [],
   "source": [
    "# This downloads some data for later\n",
    "!wget https://raw.githubusercontent.com/asantucci/Python-Workshop/main/data/text.txt -O text.txt\n",
    "!wget https://raw.githubusercontent.com/asantucci/Python-Workshop/main/data/star_wars_4th.txt -O star_wars_4th.txt\n",
    "!wget https://raw.githubusercontent.com/asantucci/Python-Workshop/main/data/dist.all.last -O dist.all.last\n",
    "!wget https://raw.githubusercontent.com/asantucci/Python-Workshop/main/data/dist.male.first -O dist.male.first\n",
    "!wget https://raw.githubusercontent.com/asantucci/Python-Workshop/main/data/dist.female.first -O dist.female.first"
   ]
  },
  {
   "cell_type": "markdown",
   "metadata": {
    "id": "KSSsmDLK9CZX"
   },
   "source": [
    "# (Many) calculators !\n"
   ]
  },
  {
   "cell_type": "markdown",
   "metadata": {
    "id": "vktS2pit-UfH"
   },
   "source": [
    "### A very simple one\n"
   ]
  },
  {
   "cell_type": "code",
   "execution_count": null,
   "metadata": {
    "id": "cfF3uLXf9RkS"
   },
   "outputs": [],
   "source": [
    "# A ticket cost 14.7$ and I want to buy 50 of them\n",
    "# How much should I pay ?"
   ]
  },
  {
   "cell_type": "code",
   "execution_count": null,
   "metadata": {
    "id": "A7g1mdq8-H2s"
   },
   "outputs": [],
   "source": [
    "#@title Solution 1\n",
    "14.7*50"
   ]
  },
  {
   "cell_type": "code",
   "execution_count": null,
   "metadata": {
    "id": "GQllBzKw-ggi"
   },
   "outputs": [],
   "source": [
    "#@title Solution 2\n",
    "price = 14.7\n",
    "number = 50\n",
    "cost = price * number\n",
    "print(cost)"
   ]
  },
  {
   "cell_type": "markdown",
   "metadata": {
    "id": "QjmxAIOD-9lU"
   },
   "source": [
    "### A more interesting one\n"
   ]
  },
  {
   "cell_type": "code",
   "execution_count": null,
   "metadata": {
    "id": "ak3ci5zc-8sB"
   },
   "outputs": [],
   "source": [
    "# The price of a stock grows by 20% every year\n",
    "# I have 3 stocks at $27\n",
    "# How many years should I wait (at least) to have a portfolio of $150 ?"
   ]
  },
  {
   "cell_type": "code",
   "execution_count": null,
   "metadata": {
    "id": "Ijv8-qvF_R_U"
   },
   "outputs": [],
   "source": [
    "#@title Solution\n",
    "\n",
    "portfolio = 3 * 27\n",
    "interest = 0.2\n",
    "year = 0\n",
    "target = 150\n",
    "while portfolio < target:\n",
    "    portfolio = portfolio * (1+interest)\n",
    "    year = year + 1\n",
    "print(year)\n",
    "print(portfolio)"
   ]
  },
  {
   "cell_type": "markdown",
   "metadata": {
    "id": "cOfRjRipDaTJ"
   },
   "source": [
    "# Variables"
   ]
  },
  {
   "cell_type": "markdown",
   "metadata": {
    "id": "qS7PEJ2syeWE"
   },
   "source": [
    "## Creating and displaying variables\n"
   ]
  },
  {
   "cell_type": "code",
   "execution_count": null,
   "metadata": {
    "id": "bCKfaXsuNmuN"
   },
   "outputs": [],
   "source": [
    "# Create a variable that holds the value `1`\n",
    "a = 1\n",
    "# Prints that value\n",
    "print(a)"
   ]
  },
  {
   "cell_type": "code",
   "execution_count": null,
   "metadata": {
    "id": "TZMJx4BTyGHK"
   },
   "outputs": [],
   "source": [
    "# Integers\n",
    "n0 = 32\n",
    "n1 = -43\n",
    "\n",
    "# Real numbers\n",
    "f0 = 10.5\n",
    "f1 = 0.2e1  # 0.2 * 10^1 = 2.0\n",
    "\n",
    "# Strings (text)\n",
    "s0 = \"Workshop\"\n",
    "s1 = \"ICME\"\n",
    "\n",
    "# Booleans (true or false)\n",
    "b0 = True\n",
    "b1 = False\n",
    "\n",
    "print(n0)\n",
    "print(f0)\n",
    "print(s0, s1)\n",
    "print(b1)"
   ]
  },
  {
   "cell_type": "code",
   "execution_count": null,
   "metadata": {
    "id": "T4x3K7KDSIdA"
   },
   "outputs": [],
   "source": [
    "# What is what?\n",
    "print(type(n0))\n",
    "print(type(f0))\n",
    "print(type(s0))\n",
    "print(type(b0))"
   ]
  },
  {
   "cell_type": "markdown",
   "metadata": {
    "id": "m5-2APEqymRe"
   },
   "source": [
    "## Operations"
   ]
  },
  {
   "cell_type": "code",
   "execution_count": null,
   "metadata": {
    "id": "c2KfV88pyo7v"
   },
   "outputs": [],
   "source": [
    "# Arithmetic(-like)\n",
    "\n",
    "n2 = n0 - n1\n",
    "print(n2)\n",
    "\n",
    "f2 = f0 / f1\n",
    "print(f2)\n",
    "\n",
    "s2 = s0 + s1\n",
    "print(s2)\n",
    "\n",
    "b2 = b0 and b1  # Note that we could use the bitwise operator &: b0 & b1.\n",
    "print(b2)\n",
    "# If you're curious what are the reserved keywords in Python...\n",
    "help('keywords')\n"
   ]
  },
  {
   "cell_type": "code",
   "execution_count": null,
   "metadata": {
    "id": "bpe1_zGWzx22"
   },
   "outputs": [],
   "source": [
    "# Comparisons\n",
    "\n",
    "b = n0 > n1\n",
    "print(b)\n",
    "\n",
    "b = n0 == n1\n",
    "print(b)"
   ]
  },
  {
   "cell_type": "markdown",
   "metadata": {
    "id": "HTJjSgWOm6pV"
   },
   "source": [
    "Puzzle"
   ]
  },
  {
   "cell_type": "code",
   "execution_count": null,
   "metadata": {
    "id": "1ely6cUNmg_r"
   },
   "outputs": [],
   "source": [
    "# Quiz\n",
    "a = 1.0\n",
    "b = 1e-20\n",
    "c = a+b\n",
    "print(c == a)"
   ]
  },
  {
   "cell_type": "markdown",
   "metadata": {
    "id": "VL40_zc7zU8F"
   },
   "source": [
    "## Strings operations"
   ]
  },
  {
   "cell_type": "code",
   "execution_count": null,
   "metadata": {
    "id": "uhFioKiJzXoA"
   },
   "outputs": [],
   "source": [
    "s0 = \"ICME\"\n",
    "s1 = \"Python\"\n",
    "s2 = \"Workshop\"\n",
    "s = f\"You are at the {s0} {s1} {s2}\"\n",
    "print(s)"
   ]
  },
  {
   "cell_type": "markdown",
   "metadata": {
    "id": "OQ62aDz01dXt"
   },
   "source": [
    "A string is a sequence of characters.\n",
    "Length and indexing\n",
    "\n",
    "All indexing in python is **0-based**. Like C/C++ or Go. Unlike Matlab, Fortran or Julia"
   ]
  },
  {
   "cell_type": "code",
   "execution_count": null,
   "metadata": {
    "id": "Ugza6Dpm00Uw"
   },
   "outputs": [],
   "source": [
    "name = \"Santucci\"\n",
    "print(name)"
   ]
  },
  {
   "cell_type": "code",
   "execution_count": null,
   "metadata": {
    "id": "ALBBFvjCPaYV"
   },
   "outputs": [],
   "source": [
    "s = \"abcdefgh\"\n",
    "print(s[2]) # Element at index 2 (i.e., third)\n",
    "print(s[4]) # Element at index 4 (i.e., fifth)\n",
    "print(s[0:2]) # From index 0 to 2-1=1 (always excludes the last)\n",
    "print(s[4:len(s)-1]) # From 4 to len(s)-1 (from fifth to before-the-last)"
   ]
  },
  {
   "cell_type": "code",
   "execution_count": null,
   "metadata": {
    "id": "ONV3D8JBY5YS"
   },
   "outputs": [],
   "source": [
    "import string\n",
    "string.ascii_lowercase[:8]"
   ]
  },
  {
   "cell_type": "code",
   "execution_count": null,
   "metadata": {
    "id": "WZpgPWvH1pWK"
   },
   "outputs": [],
   "source": [
    "# Magic !\n",
    "s = \"abcdefgh\"\n",
    "#    01234567  # <-- These are the zero-indexed positions of the chars (from the start)\n",
    "#   -87654321  # <-- These are the one-indexed positions of the chars (from the end)\n",
    "# Equivalently: \n",
    "# import string\n",
    "# s = string.ascii_lowercase[:8]\n",
    "print(s[-1])   # Last element\n",
    "# Put differently here: we start at element 3 (zero-indexed), then go\n",
    "# up to (*but not including) element 4 (when one-indexed from the end).\n",
    "print(s[2:-4]) # From 2 to -4-1=-5.\n",
    "print(s[-2:])  # From -2 to default (= last)\n",
    "print(s[:3])   # From default (= first) up to but not including element 4 (zero-indexed)."
   ]
  },
  {
   "cell_type": "code",
   "execution_count": null,
   "metadata": {
    "id": "i9BRM7qXGOc4"
   },
   "outputs": [],
   "source": [
    "# Quiz (i.e. try to guess what the output will be before you run this cell!)\n",
    "s = \"abcdefgh\"\n",
    "print(s[-5:-3])"
   ]
  },
  {
   "cell_type": "code",
   "execution_count": null,
   "metadata": {
    "id": "XiMOIQaEzjP8"
   },
   "outputs": [],
   "source": [
    "# Additional String-operations\n",
    "s = \"--\" * 10\n",
    "print(s) \n",
    "\n",
    "bracket_left = \"[\"\n",
    "bracket_right = \"]\"\n",
    "underscore = \"_\"\n",
    "s = bracket_left + underscore + bracket_right\n",
    "print(s)"
   ]
  },
  {
   "cell_type": "markdown",
   "metadata": {
    "id": "9sI56EaG0DHj"
   },
   "source": [
    "## Conversions"
   ]
  },
  {
   "cell_type": "code",
   "execution_count": null,
   "metadata": {
    "id": "Dm2j8wGi0CqH"
   },
   "outputs": [],
   "source": [
    "n = 4.5643\n",
    "s = str(n)\n",
    "# print(n)\n",
    "# print(s)\n",
    "# print(type(n))\n",
    "# print(type(s))\n",
    "# Here, we use formatted string literal: \n",
    "# https://docs.python.org/3/tutorial/inputoutput.html#formatted-string-literals.\n",
    "print(f\"s is a ({type(s)}) with value = {s}\")"
   ]
  },
  {
   "cell_type": "code",
   "execution_count": null,
   "metadata": {
    "id": "xLENirI4RkX_"
   },
   "outputs": [],
   "source": [
    "i = int(\"46543\")\n",
    "print(f\"i ({type(i)}) = {i}\")\n",
    "\n",
    "f = float(\"1.5e7\")  # 1.5 * 10^7\n",
    "print(f\"f ({type(f)}) = {f}\")"
   ]
  },
  {
   "cell_type": "markdown",
   "metadata": {
    "id": "g1FkgCBo0gji"
   },
   "source": [
    "## Exercice"
   ]
  },
  {
   "cell_type": "code",
   "execution_count": null,
   "metadata": {
    "id": "VF1Li0V00gHs"
   },
   "outputs": [],
   "source": [
    "number_tickets = \"1475\"\n",
    "ticket_price   = \"$47\"\n",
    "discount       = \"20%\"\n",
    "\n",
    "# write a code (at most 2 lines !) that displays\n",
    "# Total cost is xxxx.xx$"
   ]
  },
  {
   "cell_type": "code",
   "execution_count": null,
   "metadata": {
    "id": "qY1QYIpy1E-J"
   },
   "outputs": [],
   "source": [
    "#@title Solution\n",
    "total_cost =  int(number_tickets)* int(ticket_price[1:]) * (1 - int(discount[:-1])/100)\n",
    "print(f\"Total cost is ${total_cost}\")"
   ]
  },
  {
   "cell_type": "markdown",
   "metadata": {
    "id": "DRAc4zCyDmE_"
   },
   "source": [
    "# Control-Flow\n"
   ]
  },
  {
   "cell_type": "markdown",
   "metadata": {
    "id": "d0PGIIsP8S3K"
   },
   "source": [
    "## if, elif, else\n",
    "\n"
   ]
  },
  {
   "cell_type": "markdown",
   "metadata": {
    "id": "MHJdc4SlDoBr"
   },
   "source": [
    "\n",
    "\n",
    "```\n",
    "# This is formatted as code\n",
    "```\n",
    "\n",
    "**Indentation matters !** (*It's a real part of the Python syntax)"
   ]
  },
  {
   "cell_type": "code",
   "execution_count": null,
   "metadata": {
    "id": "4V6TQD7bWRi9"
   },
   "outputs": [],
   "source": [
    "a = 2\n",
    "b = 1\n",
    "if a > b:\n",
    "    print(\"a > b\")"
   ]
  },
  {
   "cell_type": "code",
   "execution_count": null,
   "metadata": {
    "id": "5JzbdscKDuv4"
   },
   "outputs": [],
   "source": [
    "a = 4\n",
    "b = 3\n",
    "if a > b:\n",
    "    print(\"a > b\") # Note the indentation.\n",
    "                   # Can be arbitrary but should be consistent!\n",
    "                   # Convention is 4 spaces. No tabs.\n",
    "    if a == 2:\n",
    "        print('a == 2 and a > b')\n",
    "        \n",
    "elif a == b:\n",
    "    print(\"a == b\")\n",
    "# Note that the following statement is true, but isn't triggered b/c we already\n",
    "# triggered on the first predicate condition, `if a > b`...\n",
    "elif a == 4:\n",
    "    print(\"a == 4\")\n",
    "else:\n",
    "    print(\"a < b\")\n",
    "\n",
    "print(\"Done !\")"
   ]
  },
  {
   "cell_type": "markdown",
   "metadata": {
    "id": "6f8sOSkT2OZ-"
   },
   "source": [
    "## while\n"
   ]
  },
  {
   "cell_type": "code",
   "execution_count": null,
   "metadata": {
    "id": "Z_wpH5Dp2To6"
   },
   "outputs": [],
   "source": [
    "n = 1\n",
    "while n < 1000:\n",
    "    # The following is not a simple equation!\n",
    "    # It first computes the value (n+1), then takes the result and stores\n",
    "    # it in a variable called \"n\".\n",
    "    n = n+1\n",
    "print(n) # What is this equal to?"
   ]
  },
  {
   "cell_type": "markdown",
   "metadata": {
    "id": "ziy9angI8DnD"
   },
   "source": [
    "## for and ranges"
   ]
  },
  {
   "cell_type": "code",
   "execution_count": null,
   "metadata": {
    "id": "O5i-pUMZXVbI"
   },
   "outputs": [],
   "source": [
    "for i in range(10):\n",
    "    print(i)"
   ]
  },
  {
   "cell_type": "code",
   "execution_count": null,
   "metadata": {
    "id": "OmrtNRaAbe8e"
   },
   "outputs": [],
   "source": [
    "# We remark that there are several variants of this function, useful\n",
    "# in various scenarios. They are:\n",
    "# range(stop)            <-- This is what we just saw above\n",
    "# range(start,stop)      <-- Note that we go up to but not inclusive of \"stop\".\n",
    "# range(start,stop,step)\n",
    "# - stop necessary\n",
    "# - start defaults to 0\n",
    "# - step defaults to 1\n"
   ]
  },
  {
   "cell_type": "code",
   "execution_count": null,
   "metadata": {
    "id": "R4VkKAPAbpp0"
   },
   "outputs": [],
   "source": [
    "for i in range(5, 10):\n",
    "  print(i)"
   ]
  },
  {
   "cell_type": "code",
   "execution_count": null,
   "metadata": {
    "id": "ry9-Vgiwbugn"
   },
   "outputs": [],
   "source": [
    "# Here, we showcase not just that we can start and stop at arbitrary indices...\n",
    "# but also note that when i = 101 the loop terminates! That's why we only print\n",
    "# from 61 --> 91.\n",
    "for i in range(61, 100, 10):\n",
    "  print(i)"
   ]
  },
  {
   "cell_type": "code",
   "execution_count": null,
   "metadata": {
    "id": "6zLvRRsQcJuD"
   },
   "outputs": [],
   "source": [
    "# The following code *does NOT* work....functions like `range` aren't expecting\n",
    "# keyword arguments. They are positional in nature.\n",
    "# for i in range(stop = 10, step = 2):  <-- We might hope this yields {0, 2, 4, ... 10}\n",
    "#   print(i)"
   ]
  },
  {
   "cell_type": "code",
   "execution_count": null,
   "metadata": {
    "id": "_mz2xqGUD8MN"
   },
   "outputs": [],
   "source": [
    "a = 1\n",
    "b = 1\n",
    "n = 10\n",
    "for i in range(n):\n",
    "    print(a)\n",
    "    sumab = a+b\n",
    "    a = b\n",
    "    b = sumab\n",
    "# What is this computing ?"
   ]
  },
  {
   "cell_type": "markdown",
   "metadata": {
    "id": "AdeRoqKzE9GS"
   },
   "source": [
    "Break/continue"
   ]
  },
  {
   "cell_type": "code",
   "execution_count": null,
   "metadata": {
    "id": "yWgc5ANlE8mw"
   },
   "outputs": [],
   "source": [
    "for i in range(10, 30):\n",
    "    if i % 2 == 0:\n",
    "        continue # Skip to the next iteration whenever `i` is even.\n",
    "    elif i == 27:\n",
    "        break # Stop the loop. Realize this omits iteration when i == 29.\n",
    "    else:\n",
    "        print(i)"
   ]
  },
  {
   "cell_type": "markdown",
   "metadata": {
    "id": "8TdIGbJfej_w"
   },
   "source": [
    "More for loops - iterating over characters in a string"
   ]
  },
  {
   "cell_type": "code",
   "execution_count": null,
   "metadata": {
    "id": "Ji26iKtHejoy"
   },
   "outputs": [],
   "source": [
    "for s in \"abcdefgh\":\n",
    "    print(s)"
   ]
  },
  {
   "cell_type": "markdown",
   "metadata": {
    "id": "syIRf-pm28FE"
   },
   "source": [
    "## Exercice"
   ]
  },
  {
   "cell_type": "code",
   "execution_count": null,
   "metadata": {
    "id": "pFARaKmk3FL2"
   },
   "outputs": [],
   "source": [
    "# Write a code that sums up numbers from 1 to 100"
   ]
  },
  {
   "cell_type": "code",
   "execution_count": null,
   "metadata": {
    "id": "QhEoDg5kjQmd"
   },
   "outputs": [],
   "source": [
    "#@title Solution\n",
    "i = 0\n",
    "for j in range(100):\n",
    "    i = i + j\n",
    "print(i)\n",
    "\n",
    "# Or, better:\n",
    "print(sum(range(100)))"
   ]
  },
  {
   "cell_type": "markdown",
   "metadata": {
    "id": "I9DlbXpbX78D"
   },
   "source": [
    "# Exercice"
   ]
  },
  {
   "cell_type": "code",
   "execution_count": null,
   "metadata": {
    "id": "lweg4g8cX7j1"
   },
   "outputs": [],
   "source": [
    "# Write a code that sums up numbers from 20, 23, 26, 29, 32, 35, ..., 98 (including 98)"
   ]
  },
  {
   "cell_type": "code",
   "execution_count": null,
   "metadata": {
    "id": "8U46OPpFYU5w"
   },
   "outputs": [],
   "source": [
    "#@title Solution\n",
    "i = 0\n",
    "for j in range(20, 99, 3):\n",
    "    i = i + j\n",
    "print(i)\n",
    "\n",
    "# Or, better:\n",
    "print(sum(range(20, 99, 3)))"
   ]
  },
  {
   "cell_type": "markdown",
   "metadata": {
    "id": "yebwagnvYfkK"
   },
   "source": [
    "# Exercice"
   ]
  },
  {
   "cell_type": "code",
   "execution_count": null,
   "metadata": {
    "id": "n6h0_OHJYfJs"
   },
   "outputs": [],
   "source": [
    "# A stock prediction calculator\n",
    "\n",
    "# A stock is worth 87$ today\n",
    "# You hold 7 shares\n",
    "# It's (annual) growth rate is 4%\n",
    "# After how many month will your portfolio be worth 700$ ?\n",
    "\n",
    "# Hint: a portfolio value grow by portfolio*annual_growth_rate/12 every month"
   ]
  },
  {
   "cell_type": "code",
   "execution_count": null,
   "metadata": {
    "cellView": "form",
    "id": "8UHAdl-qYq__"
   },
   "outputs": [],
   "source": [
    "#@title Solution \n",
    "portfolio = 87 * 7\n",
    "month = 0\n",
    "while portfolio < 700:\n",
    "    portfolio += portfolio * 0.04 / 12\n",
    "    month     += 1\n",
    "print(month)"
   ]
  },
  {
   "cell_type": "markdown",
   "metadata": {
    "id": "PbH4pmouDR60"
   },
   "source": [
    "## Exercice"
   ]
  },
  {
   "cell_type": "code",
   "execution_count": null,
   "metadata": {
    "id": "UKjTmZ073IFp"
   },
   "outputs": [],
   "source": [
    "# A stock prediction calculator, bis\n",
    "\n",
    "# A stock is worth 87$ today\n",
    "# You hold 7 shares\n",
    "# It's (annual) growth rate is 4%\n",
    "# Every month you receive 0.5% (of your portfolio value) in dividends\n",
    "# After how many month will you have received 30$ ?\n",
    "# Display (nicely) your portfolio value and accumulated dividends month by month"
   ]
  },
  {
   "cell_type": "code",
   "execution_count": null,
   "metadata": {
    "cellView": "form",
    "id": "-XoubNKujWfK"
   },
   "outputs": [],
   "source": [
    "#@title Solution \n",
    "portfolio = 87 * 7\n",
    "dividends = 0\n",
    "dividends_rate_monthly = 0.001\n",
    "growth_rate_annual     = 0.04\n",
    "stop_at = 30\n",
    "month = 0\n",
    "print(\"Month : Portfolio Dividents\")\n",
    "while dividends < stop_at:\n",
    "    dividends += portfolio * dividends_rate_monthly\n",
    "    portfolio += portfolio * growth_rate_annual / 12\n",
    "    month     += 1\n",
    "    print(f\"  {month:<3d} :       {portfolio:<4.0f}    {dividends:<6.2f}\")"
   ]
  },
  {
   "cell_type": "markdown",
   "metadata": {
    "id": "Rk0RUZYcBSro"
   },
   "source": [
    "# Containers\n"
   ]
  },
  {
   "cell_type": "markdown",
   "metadata": {
    "id": "gzrUpMNRCs7v"
   },
   "source": [
    "## Lists"
   ]
  },
  {
   "cell_type": "code",
   "execution_count": null,
   "metadata": {
    "id": "gAXg7i25BVsk"
   },
   "outputs": [],
   "source": [
    "# A list of 3 integers\n",
    "a = [1, 2, 3]\n",
    "print(a)\n",
    "\n",
    "# 3 strings\n",
    "b = [\"A\", \"B\", \"C\"]\n",
    "print(b)\n",
    "\n",
    "# A mix of real number, integer and string\n",
    "c = [1e-4, 1, \"C\"]\n",
    "print(c)\n",
    "\n",
    "# A mix of lists !\n",
    "L = [a, b, c]\n",
    "print(L)\n",
    "\n",
    "# The length of a list\n",
    "print(len(L))"
   ]
  },
  {
   "cell_type": "markdown",
   "metadata": {
    "id": "nRqehC0RBlPa"
   },
   "source": [
    "Indexing is like in strings"
   ]
  },
  {
   "cell_type": "code",
   "execution_count": null,
   "metadata": {
    "id": "sUoPzXO9Bvs8"
   },
   "outputs": [],
   "source": [
    "# A list\n",
    "a = ['A', 'B', 'C', 'D', 'E', 'F', 'G']\n",
    "print(a)\n",
    "\n",
    "# The first element of the list\n",
    "print(a[0])\n",
    "\n",
    "# Change the second element\n",
    "a[1] = 'Abis'\n",
    "print(a)"
   ]
  },
  {
   "cell_type": "code",
   "execution_count": null,
   "metadata": {
    "id": "36Og8ZxlCYQj"
   },
   "outputs": [],
   "source": [
    "a = ['A', 'B', 'C', 'D', 'E', 'F', 'G']\n",
    "a1 = a[2:5]\n",
    "print(a1)\n",
    "a2 = a[::2]\n",
    "print(a2)\n",
    "a3 = a[1::3]\n",
    "print(a3)"
   ]
  },
  {
   "cell_type": "markdown",
   "metadata": {
    "id": "HnF9jPk8MDSX"
   },
   "source": [
    "Including negative start/end/step"
   ]
  },
  {
   "cell_type": "code",
   "execution_count": null,
   "metadata": {
    "id": "uNVXkHt5MGVl"
   },
   "outputs": [],
   "source": [
    "a = ['A', 'B', 'C', 'D', 'E', 'F', 'G']\n",
    "print(a[-4])"
   ]
  },
  {
   "cell_type": "code",
   "execution_count": null,
   "metadata": {
    "id": "nEEDWGuuMQiB"
   },
   "outputs": [],
   "source": [
    "# Quiz\n",
    "a = ['A', 'B', 'C', 'D', 'E', 'F', 'G']\n",
    "print(a[-6:5])"
   ]
  },
  {
   "cell_type": "markdown",
   "metadata": {
    "id": "z1fIc1rf_Fxh"
   },
   "source": [
    "Appending and removing"
   ]
  },
  {
   "cell_type": "code",
   "execution_count": null,
   "metadata": {
    "id": "deus-0BXI0Wd"
   },
   "outputs": [],
   "source": [
    "# Create list\n",
    "l = [1, 2]\n",
    "print(l)\n",
    "\n",
    "# Add `1` at the end\n",
    "l.append(1)\n",
    "print(l)\n",
    "\n",
    "# Remove the second entry\n",
    "del l[1]\n",
    "print(l)"
   ]
  },
  {
   "cell_type": "markdown",
   "metadata": {
    "id": "dUT7SERJ_5L0"
   },
   "source": [
    "List comprehension, the most Pythonic thing there is.\n",
    "\n",
    "Don't abuse it :-)"
   ]
  },
  {
   "cell_type": "code",
   "execution_count": null,
   "metadata": {
    "id": "eQsnLHXWIE9a"
   },
   "outputs": [],
   "source": [
    "# 1. Create v[i] = i^2 (square) for i = 0, 1, ..., 9\n",
    "v = [i**2 for i in range(10)]\n",
    "print(v)\n",
    "\n",
    "# 2. Create v[i] = 0 + 1 + ... + i for i = 0, 1, ..., 9\n",
    "v = [sum(range(i)) for i in range(10)]\n",
    "print(v)\n",
    "\n",
    "# 3. Like (1) but only if i is even\n",
    "v = [i**2 for i in range(10) if i % 2 == 0]\n",
    "print(v)"
   ]
  },
  {
   "cell_type": "markdown",
   "metadata": {
    "id": "J7yK_d6XIfuh"
   },
   "source": [
    "### Exercises"
   ]
  },
  {
   "cell_type": "code",
   "execution_count": null,
   "metadata": {
    "id": "d9BvkulC6jt-"
   },
   "outputs": [],
   "source": [
    "# Compute and print the sum of the elements in a\n",
    "a = [3, 4, 2, 3, 5, 4, 8, 3, 5, 4, 8, 1, 2, 0]"
   ]
  },
  {
   "cell_type": "code",
   "execution_count": null,
   "metadata": {
    "cellView": "form",
    "id": "5RngloD4ZmHH"
   },
   "outputs": [],
   "source": [
    "#@title Solution\n",
    "print(sum(a))"
   ]
  },
  {
   "cell_type": "code",
   "execution_count": null,
   "metadata": {
    "id": "u3Kegp9g6oSm"
   },
   "outputs": [],
   "source": [
    "# Compute and print the sum of the elements in b, if such elements are greater than 5\n",
    "b = [2, 4, 0, 3, 1, 6, 7, 4, 2, 1, 8, 9, 3, 0]"
   ]
  },
  {
   "cell_type": "code",
   "execution_count": null,
   "metadata": {
    "cellView": "form",
    "id": "5UzCVjs7ZvL9"
   },
   "outputs": [],
   "source": [
    "#@title Solution\n",
    "print(sum([v for v in b if v > 5]))"
   ]
  },
  {
   "cell_type": "code",
   "execution_count": null,
   "metadata": {
    "id": "ZeO6BdN37KB6"
   },
   "outputs": [],
   "source": [
    "# Create a list of the words \"UUID=0\", \"UUID=1\", ..., \"UUID=50\""
   ]
  },
  {
   "cell_type": "code",
   "execution_count": null,
   "metadata": {
    "cellView": "form",
    "id": "s0URRvICZ6I0"
   },
   "outputs": [],
   "source": [
    "#@title Solution\n",
    "l = [f\"UUID={i}\" for i in range(50)]\n",
    "print(l)\n",
    "\n",
    "# Or\n",
    "l = [\"UUID=\" + str(i) for i in range(50)]\n",
    "print(l)"
   ]
  },
  {
   "cell_type": "markdown",
   "metadata": {
    "id": "goMGjmZLCvng"
   },
   "source": [
    "## Tuples\n",
    "\n",
    "Like lists, but immutable. Cannot be changed."
   ]
  },
  {
   "cell_type": "code",
   "execution_count": null,
   "metadata": {
    "id": "8UWi0-DDCyAr"
   },
   "outputs": [],
   "source": [
    "l = [1, \"Foo\", 3.14, 2.71, \"42\"]\n",
    "print(type(l))\n",
    "print(l)\n",
    "\n",
    "a = (1, \"Foo\", 3.14, 2.71, \"42\")\n",
    "print(type(a))\n",
    "print(a)\n",
    "\n",
    "#a[0] = 2 # Error\n",
    "#a.append(2) # Error\n",
    "#del a[1] # Error"
   ]
  },
  {
   "cell_type": "markdown",
   "metadata": {
    "id": "iKc04IMFBE2v"
   },
   "source": [
    "But otherwise, they support most of the same operations as lists"
   ]
  },
  {
   "cell_type": "code",
   "execution_count": null,
   "metadata": {
    "id": "SpKGyVDnC2vz"
   },
   "outputs": [],
   "source": [
    "print(len(a))\n",
    "print(a[0])\n",
    "print(a[1::3])"
   ]
  },
  {
   "cell_type": "markdown",
   "metadata": {
    "id": "sxyl-92w694F"
   },
   "source": [
    "You typically want to use lists when all elements are \"the same\" and tuples when they represent different things (properties of an entity for instance)"
   ]
  },
  {
   "cell_type": "markdown",
   "metadata": {
    "id": "AnVSzJbFDCIu"
   },
   "source": [
    "## Dictionaries\n",
    "\n",
    "Dictionaries are (mutable) collections of (key, value) pairs."
   ]
  },
  {
   "cell_type": "code",
   "execution_count": null,
   "metadata": {
    "id": "Bi-5drHGDLDn"
   },
   "outputs": [],
   "source": [
    "# l = [1,2,3] <-- list\n",
    "# t = (1,2,3) <-- tuple\n",
    "D = {\"John\":790, \"Alex\":810, \"Bob\":430, \"Steve\":530} # <-- dictionary\n",
    "print(D)\n",
    "print(len(D))\n",
    "print(D[\"John\"])\n",
    "# print(D[\"Bob\"])"
   ]
  },
  {
   "cell_type": "markdown",
   "metadata": {
    "id": "u31uvu3RBtUC"
   },
   "source": [
    "Iterating"
   ]
  },
  {
   "cell_type": "code",
   "execution_count": null,
   "metadata": {
    "id": "pgBIAETnFRoX"
   },
   "outputs": [],
   "source": [
    "for (name, score) in D.items():\n",
    "    if score >= 700:\n",
    "        print(f\"{name}'s score: {score} (good)\")\n",
    "    else:\n",
    "        print(f\"{name}'s score: {score} (bad)\")"
   ]
  },
  {
   "cell_type": "code",
   "execution_count": null,
   "metadata": {
    "id": "Yolcrlh7FtEl"
   },
   "outputs": [],
   "source": [
    "for k in D.keys():\n",
    "    print(f\"name {k}\")\n",
    "    \n",
    "for v in D.values():\n",
    "    print(f\"score {v}\")"
   ]
  },
  {
   "cell_type": "markdown",
   "metadata": {
    "id": "B0Dyio59Bvy_"
   },
   "source": [
    "Assignment"
   ]
  },
  {
   "cell_type": "code",
   "execution_count": null,
   "metadata": {
    "id": "fzKopFS6OJV9"
   },
   "outputs": [],
   "source": [
    "# Add John if it doesn't exist, otherwise change it\n",
    "if \"John\" in D:\n",
    "    D[\"John\"] = D[\"John\"] - 50\n",
    "else:\n",
    "    D[\"John\"] = 700\n",
    "print(D)\n",
    "\n",
    "# Set Leo \n",
    "D[\"Leo\"] = 1000\n",
    "print(D)\n",
    "\n",
    "# Remove Leo\n",
    "del D[\"John\"]\n",
    "print(D)"
   ]
  },
  {
   "cell_type": "markdown",
   "metadata": {
    "id": "ex3PMovpF8ZD"
   },
   "source": [
    "### Exercise\n",
    "We have a \"database\" of people with email, age and score\n"
   ]
  },
  {
   "cell_type": "code",
   "execution_count": null,
   "metadata": {
    "id": "2swN9jjoKswD"
   },
   "outputs": [],
   "source": [
    "data = {'Becki': ('becki@aol.net', 50, 504),\n",
    "        'Camilla': ('camilla@outlook.com', 59, 412),\n",
    "        'Debi': ('debi@outlook.com', 51, 685),\n",
    "        'Elizabeth': ('elizabeth@gmail.com', 24, 374),\n",
    "        'Emerson': ('emerson@gmail.com', 36, 594),\n",
    "        'Juliane': ('juliane@outlook.com', 18, 604),\n",
    "        'Katelynn': ('katelynn@gmail.com', 20, 375),\n",
    "        'Mary': ('mary@outlook.com', 54, 637),\n",
    "        'Nena': ('nena@gmail.com', 53, 484),\n",
    "        'Timothy': ('timothy@outlook.com', 34, 524),\n",
    "        'Yolando': ('yolando@gmail.com', 18, 659)}"
   ]
  },
  {
   "cell_type": "code",
   "execution_count": null,
   "metadata": {
    "id": "ZtdDM5CLDj9L"
   },
   "outputs": [],
   "source": [
    "# Print the names, email and score of people with a score larger than 650"
   ]
  },
  {
   "cell_type": "code",
   "execution_count": null,
   "metadata": {
    "id": "J9slzyOl8VhZ"
   },
   "outputs": [],
   "source": [
    "#@title Solution\n",
    "for name, info in data.items():\n",
    "    if(info[2] > 650):\n",
    "        print(f\"{name},{info[0]},{info[1]}\")"
   ]
  },
  {
   "cell_type": "markdown",
   "metadata": {
    "id": "ehwL19X3WWvo"
   },
   "source": [
    "# Reading and writing files"
   ]
  },
  {
   "cell_type": "markdown",
   "metadata": {
    "id": "MRq-o1YqEfpM"
   },
   "source": [
    "Reading files.\n",
    "First way. Using explicit `open` and `close`."
   ]
  },
  {
   "cell_type": "code",
   "execution_count": null,
   "metadata": {
    "id": "5AZgOrcNWpSO"
   },
   "outputs": [],
   "source": [
    "# Open the file and create a `link` to it with f\n",
    "f = open(\"text.txt\",'r')\n",
    "\n",
    "# Iterates through all lines\n",
    "for l in f:\n",
    "    # every line ends with `\\n` which is the newline character\n",
    "    # we remove it before printing\n",
    "    print(l.strip('\\n'))\n",
    "\n",
    "# IMPORTANT! Close the file\n",
    "f.close() "
   ]
  },
  {
   "cell_type": "markdown",
   "metadata": {
    "id": "kFj9eZ5QE5E1"
   },
   "source": [
    "Second way. Using the `with` construct. No need to close, it's automatic."
   ]
  },
  {
   "cell_type": "code",
   "execution_count": null,
   "metadata": {
    "id": "0MWUnmc-EfBD"
   },
   "outputs": [],
   "source": [
    "with open(\"text.txt\",\"r\") as f:\n",
    "    for l in f:\n",
    "        print(l.strip('\\n'))"
   ]
  },
  {
   "cell_type": "markdown",
   "metadata": {
    "id": "H-knql6mFJwH"
   },
   "source": [
    "Writing files"
   ]
  },
  {
   "cell_type": "code",
   "execution_count": null,
   "metadata": {
    "id": "d35qeQ4K_4Uw"
   },
   "outputs": [],
   "source": [
    "with open(\"text-write.txt\", \"w\") as f:\n",
    "    f.write(\"First line\\n\") \n",
    "    f.write(\"Second line\\n\")"
   ]
  },
  {
   "cell_type": "code",
   "execution_count": null,
   "metadata": {
    "id": "R3lT8LA7FW-B"
   },
   "outputs": [],
   "source": [
    "!cat text-write.txt # Read file using shell command"
   ]
  },
  {
   "cell_type": "markdown",
   "metadata": {
    "id": "De0JIcZIRPt9"
   },
   "source": [
    "### Exercise\n"
   ]
  },
  {
   "cell_type": "code",
   "execution_count": null,
   "metadata": {
    "id": "5Z5GS5zjUPPP"
   },
   "outputs": [],
   "source": [
    "# TODO:\n",
    "# (1) Read dist.female.first and dist.male.first files\n",
    "#     Each file has many lines, each following the format\n",
    "#         NAMES         x y z\n",
    "#     Only the first word (the name) matters. You can ignore x, y and z\n",
    "# (2) For each file, go through all lines, read the name (by splitting) the line\n",
    "# (3) Find the names in common between the two files\n",
    "\n",
    "# Hint:\n",
    "line = \"    Name     12 54 54\\n\"\n",
    "print(line.split()) # Returns a list of the various words"
   ]
  },
  {
   "cell_type": "code",
   "execution_count": null,
   "metadata": {
    "cellView": "form",
    "id": "4-eNUQ-WRppc"
   },
   "outputs": [],
   "source": [
    "#@title Solution\n",
    "names = {}\n",
    "with open(\"dist.female.first\",'r') as f:\n",
    "    for line in f:\n",
    "        name = line.split()[0]\n",
    "        names[name] = 1\n",
    "with open(\"dist.male.first\",'r') as f:\n",
    "    for line in f:\n",
    "        name = line.split()[0]\n",
    "        if name in names:            \n",
    "            names[name] += 1\n",
    "        else:\n",
    "            names[name] = 1\n",
    "for (k,v) in names.items():\n",
    "    if v == 2:\n",
    "        print(k)"
   ]
  },
  {
   "cell_type": "markdown",
   "metadata": {
    "id": "OC77P0-Ikn3i"
   },
   "source": [
    "### Harder exercise"
   ]
  },
  {
   "cell_type": "markdown",
   "metadata": {
    "id": "Gs2lkLs4p7JN"
   },
   "source": [
    "The text-file `star_wars_4th.txt` contains the 4th Star Wars script.\n",
    "\n",
    "We want you to find the 10 most common words of more than 4 characters.\n"
   ]
  },
  {
   "cell_type": "code",
   "execution_count": null,
   "metadata": {
    "id": "3gkpPhANlVG1"
   },
   "outputs": [],
   "source": [
    "# Hints:\n",
    "\n",
    "# Break string into words\n",
    "s = \"Comment est mon anglais?\"\n",
    "print(s.split()) # = [\"Comment\", \"est\", \"mon\", \"anglais?\"]\n",
    "\n",
    "# Convert to lowercases\n",
    "s = \"INCROYABLE\"\n",
    "print(s.lower()) # = \"incroyable\""
   ]
  },
  {
   "cell_type": "markdown",
   "metadata": {
    "id": "3RISJlWYFjta"
   },
   "source": [
    "*TODO*: \n",
    "0. Initialize an empty dictionnary.\n",
    "1. read file line by line\n",
    "    - Break line into words\n",
    "    - Convert each word to lower case. BONUS: remove any punctuation\n",
    "    - If the word has more than 4 characters:\n",
    "        - If the word is already in the dictionnary, increment its count by 1        \n",
    "        - Else, add word to dictionnary with count of 1\n",
    "2. Convert dictionnary to list of (word, count). Use list(dict.items()) to that.\n",
    "3. Sort (descending) by word count. Google to find out how.\n",
    "4. Print the 10 most frequent"
   ]
  },
  {
   "cell_type": "code",
   "execution_count": null,
   "metadata": {
    "cellView": "form",
    "id": "DiuqDObpQ1FO"
   },
   "outputs": [],
   "source": [
    "#@title Solution\n",
    "import string\n",
    "words = {} # Store word:count pairs\n",
    "with open(\"star_wars_4th.txt\",'r') as f:\n",
    "    for line in f:\n",
    "        for w_ in line.split():\n",
    "            w = w_.lower()\n",
    "            if len(w) > 4:\n",
    "                if w in words:\n",
    "                    words[w] += 1\n",
    "                else:\n",
    "                    words[w] = 1\n",
    "words = list(words.items())\n",
    "words = sorted(words, key=lambda x:x[1], reverse=True)\n",
    "words[:10]               "
   ]
  },
  {
   "cell_type": "markdown",
   "metadata": {
    "id": "mKBfjPxJX5nh"
   },
   "source": [
    "# Functions"
   ]
  },
  {
   "cell_type": "code",
   "execution_count": null,
   "metadata": {
    "id": "NUK0hXJhiurr"
   },
   "outputs": [],
   "source": [
    "# Basic function\n",
    "def fooadd(x, y):\n",
    "    return x+y\n",
    "\n",
    "a = fooadd(1, 5)   \n",
    "print(a)\n",
    "b = fooadd(2, 5)\n",
    "print(b)"
   ]
  },
  {
   "cell_type": "code",
   "execution_count": null,
   "metadata": {
    "id": "YrUJvZpHSz4g"
   },
   "outputs": [],
   "source": [
    "# Even functions are objects!\n",
    "print(type(fooadd))"
   ]
  },
  {
   "cell_type": "code",
   "execution_count": null,
   "metadata": {
    "id": "JxCcAel-l6WK"
   },
   "outputs": [],
   "source": [
    "# This means this is allowed\n",
    "f = fooadd\n",
    "print(f(1,2))"
   ]
  },
  {
   "cell_type": "markdown",
   "metadata": {
    "id": "XfaEBpp9H6ey"
   },
   "source": [
    "Default arguments"
   ]
  },
  {
   "cell_type": "code",
   "execution_count": null,
   "metadata": {
    "id": "Zr2FYACiS3iR"
   },
   "outputs": [],
   "source": [
    "# Default arguments\n",
    "def bar(x, y=2, z=3):\n",
    "    print(x+y+z)\n",
    "    \n",
    "# Positional arguments\n",
    "bar(1)\n",
    "bar(1, 3)\n",
    "bar(1, 3, 5)\n",
    "\n",
    "# Position + keyword arguments\n",
    "bar(1, z=2)\n",
    "bar(z=1, x=10)"
   ]
  },
  {
   "cell_type": "markdown",
   "metadata": {
    "id": "UhdsFQ8nHOHw"
   },
   "source": [
    "### Exercice: function definition\n",
    "\n",
    "Define a 3-lines function greet(names, msg) where `names` is a list of names (strings) and that prints, for all `name` in `names`\n",
    "```\n",
    "msg name!\n",
    "```\n",
    "where `msg` takes the default value `Hello`, but can be overridden if provided."
   ]
  },
  {
   "cell_type": "code",
   "execution_count": null,
   "metadata": {
    "id": "gncZW-o1ELh4"
   },
   "outputs": [],
   "source": [
    "# Build function greet(...) as defined above"
   ]
  },
  {
   "cell_type": "code",
   "execution_count": null,
   "metadata": {
    "id": "iGaiIZAkRwP8"
   },
   "outputs": [],
   "source": [
    "#@title Solution\n",
    "def greet(names, msg=\"Hello\"):\n",
    "    for n in names:\n",
    "        print(\"{} {}!\".format(msg, n))"
   ]
  },
  {
   "cell_type": "code",
   "execution_count": null,
   "metadata": {
    "id": "iADVWxYCUPcK"
   },
   "outputs": [],
   "source": [
    "# This should then be working :        \n",
    "greet([\"Andreas\", \"Rui\", \"John\", \"Bob\"], msg=\"Ciao\")"
   ]
  },
  {
   "cell_type": "markdown",
   "metadata": {
    "id": "lVmKHjvbYD0E"
   },
   "source": [
    "## Lambda expressions (and functionals!)\n",
    "They can be a nice way to define a function \"on the fly\" (useful when passing in functions as arguments to other functions)"
   ]
  },
  {
   "cell_type": "code",
   "execution_count": null,
   "metadata": {
    "id": "IxqcnGW6Y0OV"
   },
   "outputs": [],
   "source": [
    "# Define a lambda (i.e. anonymous function) that takes in its input and \n",
    "# rescales it by 1/2. Then, call this anonymous function with input argument 3.0\n",
    "(lambda x: x/2)(3.0)"
   ]
  },
  {
   "cell_type": "code",
   "execution_count": null,
   "metadata": {
    "id": "JfXJAU7FYLKB"
   },
   "outputs": [],
   "source": [
    "# Note that we can also name lambdas, in which case they become effectively just like functions.\n",
    "SimpleAdd = lambda a, b = 3: a + b\n",
    "SimpleAdd(4)"
   ]
  },
  {
   "cell_type": "code",
   "execution_count": null,
   "metadata": {
    "id": "RNguaBTcZK3A"
   },
   "outputs": [],
   "source": [
    "# The functional `map` takes in a function as argument.\n",
    "# Here, we have a function that simply multiplies its inputs.\n",
    "# We define one input argument as [0, 1, 2] and another as [3, 4, 5].\n",
    "for i in map(lambda a, b: a*b, range(3), range(3,6)):\n",
    "  print(i)\n",
    "\n",
    "# Equivalently:\n",
    "print(\"\\nAlternate method...\")\n",
    "for i, j in zip(range(3), range(3, 6)):\n",
    "  print(i*j)"
   ]
  },
  {
   "cell_type": "code",
   "execution_count": null,
   "metadata": {
    "id": "wawG9Qs0aeoV"
   },
   "outputs": [],
   "source": [
    "# You might wonder why we might want to define an anonymous function...\n",
    "# Sometimes if we only want to use something 1x it's easier to write it on the fly.\n",
    "for name in filter(lambda x: 'o' in x, [\"oh-no!\", \"first-name\", \"last-name\", \"goodness\"]):\n",
    "  print(name)"
   ]
  },
  {
   "cell_type": "markdown",
   "metadata": {
    "id": "XVDemxqEDidh"
   },
   "source": [
    "# Iterators\n",
    "\n",
    "Anything we can do `for x in ...` is an iterator."
   ]
  },
  {
   "cell_type": "code",
   "execution_count": null,
   "metadata": {
    "id": "KSECKhg5DsPU"
   },
   "outputs": [],
   "source": [
    "for i in range(5):\n",
    "    print(i)"
   ]
  },
  {
   "cell_type": "code",
   "execution_count": null,
   "metadata": {
    "id": "hpg1UDZOELup"
   },
   "outputs": [],
   "source": [
    "for s in \"a string!\":\n",
    "    print(s)"
   ]
  },
  {
   "cell_type": "code",
   "execution_count": null,
   "metadata": {
    "id": "nkyefeGxF7fw"
   },
   "outputs": [],
   "source": [
    "for l in [1, 2, 3]:\n",
    "    print(l)"
   ]
  },
  {
   "cell_type": "code",
   "execution_count": null,
   "metadata": {
    "id": "Rl8mmF7cxwaW"
   },
   "outputs": [],
   "source": [
    "d = {\"a\":1, \"b\":2, \"c\":100}\n",
    "for (k, v) in d.items():\n",
    "    print(k)\n",
    "    print(v)\n",
    "    "
   ]
  },
  {
   "cell_type": "markdown",
   "metadata": {
    "id": "Nmn4PXzGF9pk"
   },
   "source": [
    "Those are all iterators. \n",
    "Those are objects that one can iterate over using `for x in ...`\n",
    "A iterator is like a list but that does not require the construction of all the elements beforehand."
   ]
  },
  {
   "cell_type": "markdown",
   "metadata": {
    "id": "eUw330DmnXMO"
   },
   "source": [
    "Generators.\n",
    "We use the keyword yield to create a simple iterator."
   ]
  },
  {
   "cell_type": "code",
   "execution_count": null,
   "metadata": {
    "id": "Rhdw-cFIGPTw"
   },
   "outputs": [],
   "source": [
    "def squares10():\n",
    "    for n in range(10):\n",
    "        yield n**2\n",
    "\n",
    "for x in squares10():\n",
    "    print(x)   "
   ]
  },
  {
   "cell_type": "markdown",
   "metadata": {
    "id": "fGbWVn4fGeN1"
   },
   "source": [
    "### Exercise: create a generator for the $n$ first fibonnaci numbers\n",
    "Create a generator for the first $n$ elements of the Fibonacci sequence:\n",
    "$$ n_0 = 1, n_1 = 1, n_{i+1} = n_i + n_{i-1} $$"
   ]
  },
  {
   "cell_type": "code",
   "execution_count": null,
   "metadata": {
    "id": "TBCdcrYBnplF"
   },
   "outputs": [],
   "source": [
    "# TODO: define a function fibo(n) yielding the first n Fibonnaci numbers.\n",
    "# Use it to print the first 10."
   ]
  },
  {
   "cell_type": "code",
   "execution_count": null,
   "metadata": {
    "id": "4b5Mo7BuneDe"
   },
   "outputs": [],
   "source": [
    "# Hint: this prints the first n Fibonnaci numbers\n",
    "n = 10\n",
    "a = 1\n",
    "b = 1\n",
    "for i in range(n):\n",
    "    print(a)\n",
    "    (a, b) = (b, a+b)"
   ]
  },
  {
   "cell_type": "code",
   "execution_count": null,
   "metadata": {
    "cellView": "form",
    "id": "6x1ydXmnR75F"
   },
   "outputs": [],
   "source": [
    "#@title Solution\n",
    "def fibo(n):\n",
    "    a = 1\n",
    "    b = 1\n",
    "    for i in range(n):\n",
    "        yield a\n",
    "        (a, b) = (b, a+b)"
   ]
  },
  {
   "cell_type": "code",
   "execution_count": null,
   "metadata": {
    "id": "wuaBYIKhCIMI"
   },
   "outputs": [],
   "source": [
    "# This should then work\n",
    "for x in fibo(10):\n",
    "    print(x)"
   ]
  },
  {
   "cell_type": "markdown",
   "metadata": {
    "id": "jB75ZryjKA35"
   },
   "source": [
    "### Extra Exercise: reverse, map, filter\n",
    "\n",
    "Reverse : Create a generator that takes a collection (like a list) as input, and generates the reverse list\n",
    "\n",
    "Map : Create a generator that takes a function and an iterable, and returns the function applied on each element\n",
    "\n",
    "Filter: Create a generator that takes a function f, and iterable, and generate the elements e for which the function f(e) returns True.\n",
    "\n",
    "Trick for printing: ```list(g)```  returns a list of the elements generated by g."
   ]
  },
  {
   "cell_type": "code",
   "execution_count": null,
   "metadata": {
    "id": "U5rGT1L9EUJH"
   },
   "outputs": [],
   "source": [
    "# Define the myreverse, mymap and myfilter functions    "
   ]
  },
  {
   "cell_type": "code",
   "execution_count": null,
   "metadata": {
    "id": "AzfqMq2XSFnq"
   },
   "outputs": [],
   "source": [
    "#@title Solution\n",
    "def myreverse(l):\n",
    "    for i in range(len(l)-1,-1,-1):\n",
    "        yield l[i]\n",
    "\n",
    "def mymap(f, l):\n",
    "    for x in l:\n",
    "        yield f(x)\n",
    "\n",
    "def myfilter(f, l):\n",
    "    for x in l:\n",
    "        if f(x):\n",
    "            yield x\n"
   ]
  },
  {
   "cell_type": "code",
   "execution_count": null,
   "metadata": {
    "id": "NYpOedcoUWKa"
   },
   "outputs": [],
   "source": [
    "# This should then be working:\n",
    "def fun_square(x):\n",
    "    return x**2\n",
    "def fun_even(x):\n",
    "    return x % 2 == 0\n",
    "l = [1,2,3,4]\n",
    "print(list(myreverse(l)))\n",
    "print(list(mymap(fun_square, l)))  # Using Lambda functions would be nicer\n",
    "print(list(myfilter(fun_even, l)))"
   ]
  },
  {
   "cell_type": "markdown",
   "metadata": {
    "id": "jFaDudyQBNJs"
   },
   "source": [
    "# Everything is a reference (AKA How to stop being confused)"
   ]
  },
  {
   "cell_type": "markdown",
   "metadata": {
    "id": "j0KmZcsXpSac"
   },
   "source": [
    "What confusion are we talking about ?"
   ]
  },
  {
   "cell_type": "code",
   "execution_count": null,
   "metadata": {
    "id": "ak8lr_gCpQ1o"
   },
   "outputs": [],
   "source": [
    "def fun(x):\n",
    "    x = 2\n",
    "x = 1\n",
    "fun(x)\n",
    "print(x) # ???"
   ]
  },
  {
   "cell_type": "code",
   "execution_count": null,
   "metadata": {
    "id": "QTZKX09ApcSJ"
   },
   "outputs": [],
   "source": [
    "def fun(x):\n",
    "    x[0] = 2\n",
    "x = [1]\n",
    "fun(x)\n",
    "print(x) # ???"
   ]
  },
  {
   "cell_type": "markdown",
   "metadata": {
    "id": "FsGG4QdtcCS1"
   },
   "source": [
    "### Variable binding"
   ]
  },
  {
   "cell_type": "markdown",
   "metadata": {
    "id": "ubM4QjbVX2WL"
   },
   "source": [
    "When we write\n",
    "```\n",
    "a = ...\n",
    "a = ...\n",
    "```\n",
    "we simply \"rebind\" a: it points (refers) to something else. The underlying data may or may not be modified.\n",
    "\n"
   ]
  },
  {
   "cell_type": "code",
   "execution_count": null,
   "metadata": {
    "id": "BVak7bHLAwHL"
   },
   "outputs": [],
   "source": [
    "a = 2\n",
    "a = 3\n",
    "print(a)"
   ]
  },
  {
   "cell_type": "code",
   "execution_count": null,
   "metadata": {
    "id": "oKdomzzBY1Bk"
   },
   "outputs": [],
   "source": [
    "a = \"Stanford\"\n",
    "b = a\n",
    "a = \"ICME\"\n",
    "print(b)"
   ]
  },
  {
   "cell_type": "code",
   "execution_count": null,
   "metadata": {
    "id": "a-rvPFT5ZUiq"
   },
   "outputs": [],
   "source": [
    "a = [1, 2, 3]\n",
    "b = a\n",
    "a[0] = \"ICME\"\n",
    "print(b)"
   ]
  },
  {
   "cell_type": "code",
   "execution_count": null,
   "metadata": {
    "id": "rR9l7H7DA17a"
   },
   "outputs": [],
   "source": [
    "a = [1, 2]\n",
    "t = (a, 1, \"String\")\n",
    "a[0] = [3, 4]\n",
    "print(t)"
   ]
  },
  {
   "cell_type": "markdown",
   "metadata": {
    "id": "i9RbBtl5zVJ1"
   },
   "source": [
    "Puzzle: Can you now explain this ?"
   ]
  },
  {
   "cell_type": "code",
   "execution_count": null,
   "metadata": {
    "id": "SKsDozyYzUMH"
   },
   "outputs": [],
   "source": [
    "l = []\n",
    "L = [l, l]\n",
    "L[0].append(1)\n",
    "print(L)"
   ]
  },
  {
   "cell_type": "markdown",
   "metadata": {
    "id": "COZ1ZjWUbLXX"
   },
   "source": [
    "### Immutable vs Mutable\n",
    "In Python, an object is either mutable or immutable. Mutable object can be changed. Immutable can't."
   ]
  },
  {
   "cell_type": "markdown",
   "metadata": {
    "id": "V5FfALuLAoN5"
   },
   "source": [
    "- Lists, dictionnaries are mutable\n",
    "- **Tuple**, int, string, double are immutable\n",
    "- Complex structures are usually mutable\n"
   ]
  },
  {
   "cell_type": "code",
   "execution_count": null,
   "metadata": {
    "id": "s-TI1jZCbK8L"
   },
   "outputs": [],
   "source": [
    "a = [1, 2, 3, 4]\n",
    "a[2] = 10 # OK: list are mutable"
   ]
  },
  {
   "cell_type": "code",
   "execution_count": null,
   "metadata": {
    "id": "yFvKXbRJbcy1"
   },
   "outputs": [],
   "source": [
    "s = \"abcdef\"\n",
    "# s[0] = 'e' # NOT OK: immutable"
   ]
  },
  {
   "cell_type": "code",
   "execution_count": null,
   "metadata": {
    "id": "KA99i_FRbe1n"
   },
   "outputs": [],
   "source": [
    "t = (1, 4, 2)\n",
    "# t[1] = 3 # NOT OK: immutable"
   ]
  },
  {
   "cell_type": "code",
   "execution_count": null,
   "metadata": {
    "id": "SMuM89enbhFl"
   },
   "outputs": [],
   "source": [
    "t = ([1, 2], \"test\") # Quid ?"
   ]
  },
  {
   "cell_type": "code",
   "execution_count": null,
   "metadata": {
    "id": "lZtS_qYCbuuS"
   },
   "outputs": [],
   "source": [
    "# Mutable in immutable\n",
    "t[0][0] = 3 # OK: list mutable\n",
    "print(t)\n",
    "# t[0] = [4, 5] # NOT OK: tuple immutable"
   ]
  },
  {
   "cell_type": "markdown",
   "metadata": {
    "id": "qFyCs0axcFSx"
   },
   "source": [
    "### Function arguments"
   ]
  },
  {
   "cell_type": "markdown",
   "metadata": {
    "id": "NNmsMWowYCn0"
   },
   "source": [
    "Functions take their arguments by reference."
   ]
  },
  {
   "cell_type": "code",
   "execution_count": null,
   "metadata": {
    "id": "FUIIZFqQtpYj"
   },
   "outputs": [],
   "source": [
    "def fun(x):\n",
    "    # x is the same as if we did \n",
    "    # x = a\n",
    "a = 3 # Something\n",
    "fun(a)"
   ]
  },
  {
   "cell_type": "markdown",
   "metadata": {
    "id": "mUXJuB_UDrtZ"
   },
   "source": [
    "### Quizzes"
   ]
  },
  {
   "cell_type": "code",
   "execution_count": null,
   "metadata": {
    "id": "jwWblHmYzc_Q"
   },
   "outputs": [],
   "source": [
    "# Quiz\n",
    "a = 1\n",
    "b = a\n",
    "b = 2\n",
    "print(a)"
   ]
  },
  {
   "cell_type": "code",
   "execution_count": null,
   "metadata": {
    "id": "RLgwd3UFA4_z"
   },
   "outputs": [],
   "source": [
    "# Quiz\n",
    "def fun(x):\n",
    "    x = 2\n",
    "    return 1\n",
    "a = 3\n",
    "fun(a)\n",
    "print(a)"
   ]
  },
  {
   "cell_type": "code",
   "execution_count": null,
   "metadata": {
    "id": "2FdBRCqmEbFs"
   },
   "outputs": [],
   "source": [
    "# Quiz\n",
    "def fun(x):\n",
    "    x[0] = 1\n",
    "a = [9, 8, 7]\n",
    "fun(a)\n",
    "print(a)"
   ]
  },
  {
   "cell_type": "code",
   "execution_count": null,
   "metadata": {
    "id": "h0oASjHKzCIs"
   },
   "outputs": [],
   "source": [
    "# Quiz\n",
    "def fun(x):\n",
    "    x[0] = 1\n",
    "a = [9, 8, 7]\n",
    "fun(a)\n",
    "print(a)"
   ]
  },
  {
   "cell_type": "code",
   "execution_count": null,
   "metadata": {
    "id": "0-VsYBHo0RwO"
   },
   "outputs": [],
   "source": [
    "# Quiz\n",
    "def fun(x):\n",
    "    x[0][0] = 3\n",
    "a = [(1,2),5,6]\n",
    "fun(a)\n",
    "print(a)"
   ]
  },
  {
   "cell_type": "markdown",
   "metadata": {
    "id": "Ofo01pxsWq3u"
   },
   "source": [
    "### Copy and Deepcopy\n",
    "\n",
    "Python's objects have the copy and deepcopy functions.\n",
    "\n",
    "`copy` does a *shallow* copy of an object. It copies the object, but the other objects it references are not copied.\n",
    "\n",
    "`deepcopy` does a *deep* copy (as the name indicates). It copies the object and all referenced data-strucutres, recursively.\n"
   ]
  },
  {
   "cell_type": "code",
   "execution_count": null,
   "metadata": {
    "id": "_KwUmY4-W8I2"
   },
   "outputs": [],
   "source": [
    "import copy\n",
    "\n",
    "A1 = [1, 2]\n",
    "A2 = [3, 4]\n",
    "A3 = [5, 6]"
   ]
  },
  {
   "cell_type": "code",
   "execution_count": null,
   "metadata": {
    "id": "15BjpbSkPI9x"
   },
   "outputs": [],
   "source": [
    "# Like before\n",
    "L1 = [A1, A2]\n",
    "L2 = L1 # L1 and L2 point to the same lists, so modifying one modifies the other\n",
    "L1[0] = A3\n",
    "print(L1)\n",
    "print(L2)\n"
   ]
  },
  {
   "cell_type": "code",
   "execution_count": null,
   "metadata": {
    "id": "Sf98hHz2PKP4"
   },
   "outputs": [],
   "source": [
    "# Using a copy\n",
    "L1 = [A1, A2]\n",
    "L2 = L1.copy()\n",
    "L2[0] = A3\n",
    "print(L1)\n",
    "print(L2)"
   ]
  },
  {
   "cell_type": "code",
   "execution_count": null,
   "metadata": {
    "id": "k2Rup3upPLbp"
   },
   "outputs": [],
   "source": [
    "# However...\n",
    "A2[0] = 0\n",
    "print(L1)\n",
    "print(L2)"
   ]
  },
  {
   "cell_type": "code",
   "execution_count": null,
   "metadata": {
    "id": "76CT0gTgPMkV"
   },
   "outputs": [],
   "source": [
    "# Using a deepcopy\n",
    "L1 = [A1, A2]\n",
    "L2 = copy.deepcopy(L1)\n",
    "A2[0] = 0\n",
    "print(L1)\n",
    "print(L2)"
   ]
  },
  {
   "cell_type": "markdown",
   "metadata": {
    "id": "-l7B7MyMX4D0"
   },
   "source": [
    "# Classes"
   ]
  },
  {
   "cell_type": "code",
   "execution_count": null,
   "metadata": {
    "id": "Fxnw1HW0k00C"
   },
   "outputs": [],
   "source": [
    "class Complex:  \n",
    "    def __init__(self, real, imag):\n",
    "        self.r = real\n",
    "        self.i = imag\n",
    "    def add(self, other):\n",
    "        c = Complex(0, 0)\n",
    "        c.r = self.r + other.r\n",
    "        c.i = self.i + other.i    \n",
    "        return c\n",
    "    def sub(self, other):\n",
    "        c = Complex(0, 0)\n",
    "        c.r = self.r - other.r\n",
    "        c.i = self.i - other.i    \n",
    "        return c"
   ]
  },
  {
   "cell_type": "markdown",
   "metadata": {
    "id": "C9ZwTl1ip_Iv"
   },
   "source": [
    "### Exercice: complex multiplication\n",
    "In the above code, implement the complex product\n",
    "\n",
    "As a reminder, \n",
    "(a + bi)*(c + di) = (ac - bd) + (ad + bc)i"
   ]
  },
  {
   "cell_type": "markdown",
   "metadata": {
    "id": "CtsaluKBfU4B"
   },
   "source": [
    "### Exercise: better Complex class via *operator overloading*\n",
    "Can you find out how to be able to write instead?\n",
    "```\n",
    "a = Complex(1, 2)\n",
    "b = Complex(2, 3)\n",
    "c = a + b \n",
    "d = a * b\n",
    "print(c)\n",
    "```"
   ]
  },
  {
   "cell_type": "code",
   "execution_count": null,
   "metadata": {
    "id": "E2LURyd1eVt_"
   },
   "outputs": [],
   "source": [
    "#@title Solution\n",
    "class Complex:  \n",
    "    def __init__(self, real, imag):\n",
    "        self.r = real\n",
    "        self.i = imag\n",
    "    def __add__(self, other):\n",
    "        c = Complex(0, 0)\n",
    "        c.r = self.r + other.r\n",
    "        c.i = self.i + other.i    \n",
    "        return c\n",
    "    def __mul__(self, other):\n",
    "        c = Complex(0, 0)\n",
    "        c.r = self.r * other.r\n",
    "        c.i = self.i * other.i    \n",
    "        return c\n",
    "    def __repr__(self):\n",
    "      return f\"Real: {self.r}, Imaginary: {self.i}\"\n",
    "\n",
    "a = Complex(1, 2)\n",
    "b = Complex(2, 3)\n",
    "c = a + b\n",
    "d = a * b\n",
    "print(c)\n",
    "print(d)"
   ]
  },
  {
   "cell_type": "markdown",
   "metadata": {
    "id": "4yK_HKPhf5fW"
   },
   "source": [
    "## Inheritance"
   ]
  },
  {
   "cell_type": "code",
   "execution_count": null,
   "metadata": {
    "id": "8epa1F47gA7s"
   },
   "outputs": [],
   "source": [
    "class Shape:\n",
    "    def GetArea(self):\n",
    "        # If we try to call `GetArea` with a general Shape we yield an error...\n",
    "        raise RuntimeError(\"Not implemented yet\")\n",
    "\n",
    "class Circle(Shape):  # Note that in using `Shape` as argument, it signifies inheritance.\n",
    "    def __init__ (self, x, y, radius):\n",
    "        self.x = x\n",
    "        self.y = y\n",
    "        self.radius = radius\n",
    "\n",
    "    def GetArea(self):\n",
    "        pi = 3.141592653589793  # Note we can use a module for this...more on this in a moment! (see math.pi)\n",
    "        area = pi * self.radius * self.radius\n",
    "        return area\n",
    "\n",
    "class Rectangle(Shape):  # Again, here we specify a Rectange inherits from a Shape.\n",
    "    def __init__ (self, x0, y0, x1, y1):\n",
    "        self.x0 = x0\n",
    "        self.y0 = y0\n",
    "        self.x1 = x1\n",
    "        self.y1 = y1\n",
    "\n",
    "    def GetArea(self):\n",
    "        xDistance = self.x1 - self.x0\n",
    "        yDistance = self.y1 - self.y0\n",
    "        return abs(xDistance * yDistance)\n",
    "\n",
    "# Shape().GetArea()  <-- Would yield an error: Not Implemented Yet.\n",
    "shapes = []\n",
    "shapes.append(Circle(0., 0., 1.0))\n",
    "shapes.append(Rectangle(0., 0., 2., 4.))\n",
    "\n",
    "for shape in shapes:\n",
    "    print(\"area = {}\".format(shape.GetArea()))"
   ]
  },
  {
   "cell_type": "markdown",
   "metadata": {
    "id": "39QVzqterpH7"
   },
   "source": [
    "# Modules\n",
    "Modules are Python way of organizing large codes.\n",
    "When you have many files doing many different things, you need to find ways to organize that. You cannot just rely on every function having a unique name.\n",
    "\n",
    "We already saw and use some"
   ]
  },
  {
   "cell_type": "code",
   "execution_count": null,
   "metadata": {
    "id": "oAVu7ZcRr2zc"
   },
   "outputs": [],
   "source": [
    "import math\n",
    "import random\n",
    "import string"
   ]
  },
  {
   "cell_type": "markdown",
   "metadata": {
    "id": "RyPx_oNzr8Tb"
   },
   "source": [
    "Modules, functions and variables can be imported in various ways"
   ]
  },
  {
   "cell_type": "code",
   "execution_count": null,
   "metadata": {
    "id": "DxvUqcjIsAFA"
   },
   "outputs": [],
   "source": [
    "# (1)\n",
    "import math\n",
    "print(math.pi)\n",
    "print(math.sqrt(2))\n",
    "    \n",
    "# (2)\n",
    "import math as m\n",
    "print(m.pi)\n",
    "print(m.sqrt(2))\n",
    "\n",
    "# (3)\n",
    "from math import pi, sqrt\n",
    "print(pi)\n",
    "print(sqrt(2))\n",
    "\n",
    "# (4) [Bad]\n",
    "from math import *\n",
    "print(pi)\n",
    "print(sqrt(2))\n",
    "print(exp(1))"
   ]
  },
  {
   "cell_type": "markdown",
   "metadata": {
    "id": "jxbuxs8As0H2"
   },
   "source": [
    "# Extra-Exercises\n",
    "Taken from https://developers.google.com/edu/python/.\n",
    "No solutions for those"
   ]
  },
  {
   "cell_type": "code",
   "execution_count": null,
   "metadata": {
    "id": "gZJSC92Hs3Gq"
   },
   "outputs": [],
   "source": [
    "# (1) Create function mixing(a, b) that, given two strings a & b, returns a<space>b (a and b separated by a space), \n",
    "# but swapping the first two characters of a and b\n",
    "# and returns the result\n",
    "#\n",
    "# Example\n",
    "# mixing(\"stanford\", \"python\") returns \"pyanford stthon\"\n",
    "\n",
    "def mixing(a, b):\n",
    "    # Your code here. Remove 'pass'.\n",
    "    pass\n",
    "\n",
    "# Check\n",
    "print(mixing(\"stanford\", \"python\")) # =?= pyanford stthon\n",
    "print(mixing(\"educ\", \"128\"))        # =?= 12uc ed8"
   ]
  },
  {
   "cell_type": "code",
   "execution_count": null,
   "metadata": {
    "id": "Xaz-ADnuutc4"
   },
   "outputs": [],
   "source": [
    "# (2) Create function ing(a) that, given a string a,\n",
    "# if it has length < 3, leave it unchanged\n",
    "# else if it ends in \"ing\", append \"ly\"\n",
    "# otherwise, append \"ing\"\n",
    "# and return the result\n",
    "\n",
    "def ing(a):\n",
    "    # Your code here. Remove 'pass'.\n",
    "    pass\n",
    "\n",
    "# Check\n",
    "print(ing(\"python\"))      # =?= pythoning\n",
    "print(ing(\"engineering\")) # =?= engineeringly\n",
    "print(ing(\"ly\"))          # =?= ly"
   ]
  },
  {
   "cell_type": "code",
   "execution_count": null,
   "metadata": {
    "id": "0gSvLsshvbYF"
   },
   "outputs": [],
   "source": [
    "# (3) Create a function trim(l) that, given a list l, remove all identical adjacent elements\n",
    "# and return the result. It should not modify its input.\n",
    "\n",
    "def trim(l):\n",
    "    # Your code here. Remove 'pass'.\n",
    "    pass\n",
    "\n",
    "# Check\n",
    "print(trim([1, 2, 3, 3, 4, 2, 2]))  # =?= [1, 2, 3, 4, 2]\n",
    "print(trim([]))                     # =?= []\n",
    "print(trim([1, 2, 1, 2]))           # =?= [1, 2, 1, 2]"
   ]
  },
  {
   "cell_type": "markdown",
   "metadata": {
    "id": "qp8M9Oz8wf6u"
   },
   "source": [
    "## More creative exercises\n",
    "\n",
    "A couple more ideas of exercises. Be creative here!\n",
    "Inspired from http://www.practicepython.org/\n",
    "\n",
    "*   Create a password generator. Given `n`, your function should return a strong random password of `n` characters.\n",
    "*   Reverse Word Order. Given a string, your function should return the same string but with the words in reversed order (the words themselves should be unchanged)\n",
    "\n"
   ]
  },
  {
   "cell_type": "markdown",
   "metadata": {
    "id": "PK-sBd2opx3G"
   },
   "source": [
    "This Python class https://dabeaz-course.github.io/practical-python/Notes/Contents.html is of very high quality and has many exercices throughout. Highly recommended."
   ]
  }
 ],
 "metadata": {
  "colab": {
   "collapsed_sections": [],
   "include_colab_link": true,
   "name": "Python.ipynb",
   "private_outputs": true,
   "provenance": [],
   "toc_visible": true
  },
  "kernelspec": {
   "display_name": "Python 3",
   "language": "python",
   "name": "python3"
  },
  "language_info": {
   "codemirror_mode": {
    "name": "ipython",
    "version": 3
   },
   "file_extension": ".py",
   "mimetype": "text/x-python",
   "name": "python",
   "nbconvert_exporter": "python",
   "pygments_lexer": "ipython3",
   "version": "3.7.4"
  }
 },
 "nbformat": 4,
 "nbformat_minor": 1
}

{ "cells": [
  {
   "cell_type": "markdown",
   "metadata": {
    "colab_type": "text",
    "id": "view-in-github"
   },
   "source": [
    "<a href=\"https://colab.research.google.com/github/asantucci/Python-Workshop/blob/main/4_Appendix_Scikit_learn.ipynb\" target=\"_parent\"><img src=\"https://colab.research.google.com/assets/colab-badge.svg\" alt=\"Open In Colab\"/></a>"
   ]
  },
  {
   "cell_type": "markdown",
   "metadata": {
    "id": "lsrcvMghPopX"
   },
   "source": [
    "# Scikit-learn\n",
    "\n"
   ]
  },
  {
   "cell_type": "code",
   "execution_count": null,
   "metadata": {
    "id": "a4wU2MOhXyUx"
   },
   "outputs": [],
   "source": [
    "!pip install --upgrade scikit-learn==0.23.2\n",
    "import numpy as np\n",
    "import sklearn\n",
    "import matplotlib.pyplot as plt\n",
    "import pandas as pd"
   ]
  },
  {
   "cell_type": "markdown",
   "metadata": {
    "id": "E_kw_JUNQAZB"
   },
   "source": [
    "## Linear Regression\n"
   ]
  },
  {
   "cell_type": "markdown",
   "metadata": {
    "id": "W5VPRmR5a3bz"
   },
   "source": [
    "Let's start slow !\n",
    "\n"
   ]
  },
  {
   "cell_type": "code",
   "execution_count": null,
   "metadata": {
    "id": "6KSyczJXPsiq"
   },
   "outputs": [],
   "source": [
    "N = 10\n",
    "x = 1.0 + np.random.uniform(size=N)\n",
    "y = 20.0 - 10.0 * x + 2.3 * x**2 + 0.2 * np.random.normal(size=N)"
   ]
  },
  {
   "cell_type": "code",
   "execution_count": null,
   "metadata": {
    "id": "ebuBCOH4QI0R"
   },
   "outputs": [],
   "source": [
    "# TODO: Plot the data. x are heights (in m), y are hair thickness (in mm) (yes this is very realistic)"
   ]
  },
  {
   "cell_type": "code",
   "execution_count": null,
   "metadata": {
    "cellView": "form",
    "id": "3syjBUYLQG-4"
   },
   "outputs": [],
   "source": [
    "#@title Solution\n",
    "plt.scatter(x,y)\n",
    "plt.xlabel(\"Height [m]\")\n",
    "plt.ylabel(\"Hair thickness [mm]\")\n",
    "plt.show()"
   ]
  },
  {
   "cell_type": "code",
   "execution_count": null,
   "metadata": {
    "id": "ulJsQtajP_o1"
   },
   "outputs": [],
   "source": [
    "from sklearn import linear_model\n",
    "\n",
    "# Learn\n",
    "model = linear_model.LinearRegression()\n",
    "X = x.reshape((-1,1))\n",
    "model.fit(X, y)\n",
    "\n",
    "# Predict\n",
    "xx = np.linspace(1, 2, 10)\n",
    "XX = xx.reshape((-1,1))\n",
    "yy = model.predict(XX)\n",
    "\n",
    "# Plot\n",
    "plt.figure()\n",
    "plt.scatter(x,y,c='r',label=\"Data points\")\n",
    "plt.plot(xx,yy,\"-*b\",label=\"Predictions\")\n",
    "plt.xlabel(\"Height [m]\")\n",
    "plt.ylabel(\"Hair thickness [mm]\")\n",
    "plt.legend()\n",
    "plt.show()"
   ]
  },
  {
   "cell_type": "markdown",
   "metadata": {
    "id": "eGzSrFENImmH"
   },
   "source": [
    "## Exercice: Covid example"
   ]
  },
  {
   "cell_type": "code",
   "execution_count": null,
   "metadata": {
    "id": "UhKMo7vWTwCS"
   },
   "outputs": [],
   "source": [
    "# Load data from NYT dataset\n",
    "df = pd.read_csv(\"https://raw.githubusercontent.com/nytimes/covid-19-data/master/us-states.csv\",parse_dates=[0])\n",
    "df.head(5)"
   ]
  },
  {
   "cell_type": "code",
   "execution_count": null,
   "metadata": {
    "id": "NPETjoPIJMK0"
   },
   "outputs": [],
   "source": [
    "# Pivot in states\n",
    "cases_states = df.pivot(index='date',columns='state',values='cases').fillna(0)\n",
    "# Compute daily change and smooth accross 7 days\n",
    "cases_states = cases_states.diff().fillna(0)\n",
    "# Extract CA data\n",
    "x = (cases_states.index - pd.to_datetime('2020-01-21')).total_seconds().to_numpy() / (3600.0 * 24.0)\n",
    "y = cases_states['California'].to_numpy()\n",
    "# Plot\n",
    "plt.plot(x, y)\n",
    "plt.xlabel('Days since 2020-01-21')\n",
    "plt.ylabel('Cases per day (7-days average)')\n",
    "plt.show()"
   ]
  },
  {
   "cell_type": "code",
   "execution_count": null,
   "metadata": {
    "id": "4QrRxEsdWG3G"
   },
   "outputs": [],
   "source": [
    "from sklearn import linear_model\n",
    "\n",
    "# Create train & test sets\n",
    "start = 50\n",
    "end = 130\n",
    "x_train      = x[start:end].reshape((-1,1))\n",
    "x_test       = x[end:].reshape((-1,1))\n",
    "y_train      = y[start:end]\n",
    "y_test       = y[end:]"
   ]
  },
  {
   "cell_type": "code",
   "execution_count": null,
   "metadata": {
    "id": "SW8y-T454x-j"
   },
   "outputs": [],
   "source": [
    "# 1. Use `linear_model.PoissonRegressor()` as a model\n",
    "# 2. Train the model on x_train and y_train\n",
    "# 3. Compute `y_pred`, the prediction based on `x_test`"
   ]
  },
  {
   "cell_type": "code",
   "execution_count": null,
   "metadata": {
    "cellView": "form",
    "id": "X6gHTTVY4tmM"
   },
   "outputs": [],
   "source": [
    "#@title Solution\n",
    "\n",
    "# Fit\n",
    "model = linear_model.PoissonRegressor()\n",
    "model.fit(x_train, y_train)\n",
    "\n",
    "# Predict\n",
    "y_pred = model.predict(x_test)"
   ]
  },
  {
   "cell_type": "code",
   "execution_count": null,
   "metadata": {
    "id": "yYk5D-F_4t7D"
   },
   "outputs": [],
   "source": [
    "# Plot\n",
    "plt.figure()\n",
    "plt.plot(x_train,y_train,'-r',label=\"Training set\")\n",
    "plt.plot(x_test,y_pred,'-b',label=\"Predictions\")\n",
    "plt.plot(x_test,y_test,'-g',label=\"Truth\")\n",
    "plt.xlabel(\"Days\")\n",
    "plt.ylabel(\"Number of death\")\n",
    "plt.legend()\n",
    "plt.title(\"California COVID-19 data (\")\n",
    "plt.show()"
   ]
  },
  {
   "cell_type": "markdown",
   "metadata": {
    "id": "JnslNk5XJmK4"
   },
   "source": [
    "## Exercice (Linear Regression): What if we have outliers ?"
   ]
  },
  {
   "cell_type": "code",
   "execution_count": null,
   "metadata": {
    "id": "bVf7g1LrKIJd"
   },
   "outputs": [],
   "source": [
    "# This creates data with an outlier\n",
    "N = 10\n",
    "x = 1.0 + np.random.uniform(size=N)\n",
    "y = 20.0 - 10.0 * x + 2.3 * x**2 + 0.2 * np.random.normal(size=N)\n",
    "y[5] = 30"
   ]
  },
  {
   "cell_type": "code",
   "execution_count": null,
   "metadata": {
    "id": "yYVhLzQXKF1l"
   },
   "outputs": [],
   "source": [
    "# TODO (1)\n",
    "# - Plot the data and notice the outlier.\n",
    "#   Use plt.scatter"
   ]
  },
  {
   "cell_type": "code",
   "execution_count": null,
   "metadata": {
    "cellView": "form",
    "id": "k-lFt0IoKQAf"
   },
   "outputs": [],
   "source": [
    "#@title Solution\n",
    "plt.figure()\n",
    "plt.scatter(x,y,c='r',label=\"Data points\")\n",
    "plt.xlabel(\"Height [m]\")\n",
    "plt.ylabel(\"Hair thickness [mm]\")\n",
    "plt.legend()\n",
    "plt.show()"
   ]
  },
  {
   "cell_type": "code",
   "execution_count": null,
   "metadata": {
    "id": "hOFE1mssKUQW"
   },
   "outputs": [],
   "source": [
    "# TODO (2)\n",
    "# - Repeat the code above using LinearRegression: fit, predict and plot the predictions (literally copy/paste the code here)\n",
    "# Does it work well ?"
   ]
  },
  {
   "cell_type": "code",
   "execution_count": null,
   "metadata": {
    "cellView": "form",
    "id": "tUOncK2XKjYw"
   },
   "outputs": [],
   "source": [
    "#@title Solution\n",
    "model = linear_model.LinearRegression()\n",
    "X = x.reshape((-1,1))\n",
    "model.fit(X, y)\n",
    "\n",
    "# Predict\n",
    "xx = np.linspace(1, 2, 10)\n",
    "XX = xx.reshape((-1,1))\n",
    "yy = model.predict(XX)\n",
    "\n",
    "# Plot\n",
    "plt.figure()\n",
    "plt.scatter(x,y,c='r',label=\"Data points\")\n",
    "plt.plot(xx,yy,\"-*b\",label=\"Predictions\")\n",
    "plt.xlabel(\"Height [m]\")\n",
    "plt.ylabel(\"Hair thickness [mm]\")\n",
    "plt.legend()\n",
    "plt.show()"
   ]
  },
  {
   "cell_type": "code",
   "execution_count": null,
   "metadata": {
    "id": "EESnKH7fKpFM"
   },
   "outputs": [],
   "source": [
    "# TODO (3)\n",
    "# - Now use `HuberRegressor` (i.e. simply use `linear_model.HuberRegressor()` instead of `linear_model.LinearRegression()`)\n",
    "# How does it compare ?"
   ]
  },
  {
   "cell_type": "code",
   "execution_count": null,
   "metadata": {
    "cellView": "form",
    "id": "UuvwNlQyJTnk"
   },
   "outputs": [],
   "source": [
    "#@title Solution\n",
    "\n",
    "# Learn, using a HuberRegressor\n",
    "model = linear_model.HuberRegressor()\n",
    "X = x.reshape((-1,1))\n",
    "model.fit(X, y)\n",
    "\n",
    "# Predict\n",
    "xx = np.linspace(1, 2, 10)\n",
    "XX = xx.reshape((-1,1))\n",
    "yy = model.predict(XX)\n",
    "\n",
    "# Plot\n",
    "plt.figure()\n",
    "plt.scatter(x,y,c='r',label=\"Data points\")\n",
    "plt.plot(xx,yy,\"-*b\",label=\"Predictions\")\n",
    "plt.xlabel(\"Height [m]\")\n",
    "plt.ylabel(\"Hair thickness [mm]\")\n",
    "plt.legend()\n",
    "plt.show()"
   ]
  },
  {
   "cell_type": "markdown",
   "metadata": {
    "id": "7C19gy2IAo50"
   },
   "source": [
    "## Trees\n"
   ]
  },
  {
   "cell_type": "code",
   "execution_count": null,
   "metadata": {
    "id": "G61vJRRvAsoF"
   },
   "outputs": [],
   "source": [
    "from sklearn import tree\n",
    "\n",
    "# Load the CSV\n",
    "df_all = pd.read_csv(\"https://web.stanford.edu/~lcambier/pc/cancer_data.csv\")\n",
    "df_all.head(5)"
   ]
  },
  {
   "cell_type": "code",
   "execution_count": null,
   "metadata": {
    "id": "9ARn_DdL5Yxq"
   },
   "outputs": [],
   "source": [
    "# TODO: \n",
    "# - remove the columns \"Unnamed: 32\" and \"id\". Use `df.drop(...)`.\n",
    "# - column 'diagnosis' has 'B' (Benign) and 'M' (Malign). Transform this into -1 and 1, respectively. Use `df.loc[...] = -1` for instance.\n",
    "# - convert the whole dataframe to floats. Use `df.astype(...)`"
   ]
  },
  {
   "cell_type": "code",
   "execution_count": null,
   "metadata": {
    "cellView": "form",
    "id": "dqHKUivfCq5g"
   },
   "outputs": [],
   "source": [
    "#@title Solution\n",
    "\n",
    "# Remove useless columns\n",
    "df = df_all.drop([\"Unnamed: 32\",\"id\"], axis=1)\n",
    "# Transform diagnosis ('B'/'M') into -1/1\n",
    "df.loc[df['diagnosis'] == 'B','diagnosis'] = -1.0\n",
    "df.loc[df['diagnosis'] == 'M','diagnosis'] = 1.0\n",
    "df = df.astype(float)"
   ]
  },
  {
   "cell_type": "code",
   "execution_count": null,
   "metadata": {
    "id": "HgoCAsl2CpMk"
   },
   "outputs": [],
   "source": [
    "# Convert to numpy arrays\n",
    "X = df.loc[:,df.columns != \"diagnosis\"].to_numpy()\n",
    "Y = df.loc[:,\"diagnosis\"].to_numpy()\n",
    "\n",
    "# Train\n",
    "N = 500\n",
    "X_train = X[0:N,:]   # N x 30 matrix (samples x features)\n",
    "Y_train = Y[0:N]     # N      vector (samples)\n",
    "model = tree.DecisionTreeClassifier()\n",
    "model.fit(X_train, Y_train)\n",
    "\n",
    "# Test\n",
    "X_test = X[N:,:]    # M x 30 matrix (samples x features)\n",
    "Y_test = Y[N:,]     # M      vector (samples)\n",
    "Y_pred = model.predict(X_test) # Predicted values"
   ]
  },
  {
   "cell_type": "code",
   "execution_count": null,
   "metadata": {
    "id": "tf-7-mKADq-F"
   },
   "outputs": [],
   "source": [
    "# How can we compute the accuracy ?\n",
    "# Y_test is full of 1/-1, and same for Y_pred"
   ]
  },
  {
   "cell_type": "code",
   "execution_count": null,
   "metadata": {
    "cellView": "form",
    "id": "GNzrxPHIDrT_"
   },
   "outputs": [],
   "source": [
    "#@title Solution\n",
    "accuracy = np.sum(Y_test == Y_pred) / len(Y_pred)\n",
    "print(f\"Accuracy is {100*accuracy}%\")"
   ]
  },
  {
   "cell_type": "markdown",
   "metadata": {
    "id": "KlRHJl39Yhqh"
   },
   "source": [
    "## Unsupervised learning"
   ]
  },
  {
   "cell_type": "markdown",
   "metadata": {
    "id": "wpYpIrQlEwdr"
   },
   "source": [
    "![Old Faithful](https://cdn.yellowstoneparknet.com/images/content/2829_186_Old_Faithful_Geyser_Yellowstone_National_Park_lg.jpg)"
   ]
  },
  {
   "cell_type": "code",
   "execution_count": null,
   "metadata": {
    "id": "3YZxUvDqDrWE"
   },
   "outputs": [],
   "source": [
    "# From https://www.stat.cmu.edu/~larry/all-of-statistics/=data/faithful.dat\n",
    "df = pd.read_csv(\"https://stanford.edu/~lcambier/pc/old_faithful.csv\")\n",
    "df.head(5)"
   ]
  },
  {
   "cell_type": "code",
   "execution_count": null,
   "metadata": {
    "id": "iHMrGscyFCg6"
   },
   "outputs": [],
   "source": [
    "X = df.loc[:,['waiting','eruptions']].to_numpy()"
   ]
  },
  {
   "cell_type": "code",
   "execution_count": null,
   "metadata": {
    "id": "927Zs-6HZAub"
   },
   "outputs": [],
   "source": [
    "# 1. What is the shape of X ?"
   ]
  },
  {
   "cell_type": "code",
   "execution_count": null,
   "metadata": {
    "cellView": "form",
    "id": "I3rrlpJvc6Mp"
   },
   "outputs": [],
   "source": [
    "#@title Solution\n",
    "print(X.shape)"
   ]
  },
  {
   "cell_type": "code",
   "execution_count": null,
   "metadata": {
    "id": "jn5GfS6ZZPFg"
   },
   "outputs": [],
   "source": [
    "# 2. Plot the X's, i.e., for every row in X, plot a point in 2D space"
   ]
  },
  {
   "cell_type": "code",
   "execution_count": null,
   "metadata": {
    "cellView": "form",
    "id": "azbfwA4Kc34Y"
   },
   "outputs": [],
   "source": [
    "#@title Solution\n",
    "plt.scatter(X[:,0], X[:,1])\n",
    "plt.xlabel('Waiting (mins)')\n",
    "plt.ylabel('Eruption time (mins)')\n",
    "plt.title('Old Faithful Geyser')\n",
    "plt.show()"
   ]
  },
  {
   "cell_type": "code",
   "execution_count": null,
   "metadata": {
    "id": "32oydzABCpej"
   },
   "outputs": [],
   "source": [
    "# This scales the data around 0 with a std of 1\n",
    "from sklearn import preprocessing\n",
    "X_scaled = preprocessing.scale(X)\n",
    "\n",
    "plt.scatter(X_scaled[:,0], X_scaled[:,1])\n",
    "plt.xlabel('Waiting')\n",
    "plt.ylabel('Eruption time')\n",
    "plt.title('Old Faithful Geyser (scaled)')\n",
    "plt.show()"
   ]
  },
  {
   "cell_type": "code",
   "execution_count": null,
   "metadata": {
    "id": "wG9bZCbwcewN"
   },
   "outputs": [],
   "source": [
    "# 3. Use the Scikit-learn function KMeans from sklearn.cluster to perform a Kmeans on X_scaled\n",
    "# See https://scikit-learn.org/stable/modules/generated/sklearn.cluster.KMeans.html\n",
    "# Yes it's a little scary it's normal :-)"
   ]
  },
  {
   "cell_type": "code",
   "execution_count": null,
   "metadata": {
    "cellView": "form",
    "id": "e0s0dBPAc1qf"
   },
   "outputs": [],
   "source": [
    "#@title Solution\n",
    "import sklearn.cluster\n",
    "model = sklearn.cluster.KMeans(n_clusters=2)\n",
    "kmeans = model.fit(X_scaled)"
   ]
  },
  {
   "cell_type": "code",
   "execution_count": null,
   "metadata": {
    "id": "mO_ZTakQchYC"
   },
   "outputs": [],
   "source": [
    "# 4. Plot the centers over the data\n",
    "# You can find them in kmeans.cluster_centers_"
   ]
  },
  {
   "cell_type": "code",
   "execution_count": null,
   "metadata": {
    "cellView": "form",
    "id": "29MzoC_GcyGd"
   },
   "outputs": [],
   "source": [
    "#@title Solution\n",
    "Xcenters = kmeans.cluster_centers_\n",
    "plt.scatter(X_scaled[:,0], X_scaled[:,1])\n",
    "plt.scatter(Xcenters[:,0], Xcenters[:,1], s=400, marker='*', c='black')\n",
    "plt.title('Old Faithful Geyser (scaled)')\n",
    "plt.show()"
   ]
  },
  {
   "cell_type": "code",
   "execution_count": null,
   "metadata": {
    "id": "XKYZd4ryZjWB"
   },
   "outputs": [],
   "source": [
    "# This generate 1000 random points over [40,100] x [1.5,5.5] (in original units)\n",
    "Xpred = np.random.uniform(low=(40,1.5),high=(100,5.5),size=(1000,2))\n",
    "\n",
    "# 5. Compute their cluster, make a nice plot:\n",
    "# - Scale Xpred down (using preprocessing.scale)\n",
    "# - Predict their cluster (using kmeans.predict)\n",
    "# - Plot everything using red for cluster 0 and blue for cluster 1\n",
    "# - Overlay the original data on top of it in black"
   ]
  },
  {
   "cell_type": "code",
   "execution_count": null,
   "metadata": {
    "cellView": "form",
    "id": "Cskc_Pkxcul1"
   },
   "outputs": [],
   "source": [
    "#@title Solution\n",
    "colors_map = {0:'red',1:'blue'}\n",
    "Xpred_scaled = preprocessing.scale(Xpred)\n",
    "ypred = kmeans.predict(Xpred_scaled)\n",
    "plt.scatter(Xpred[:,0], Xpred[:,1], c=[colors_map[i] for i in ypred])\n",
    "plt.scatter(X[:,0], X[:,1], c='black')\n",
    "plt.xlabel('Waiting')\n",
    "plt.ylabel('Eruption time')\n",
    "plt.title('Old Faithful Geyser')\n",
    "plt.show()"
   ]
  }
 ],
 "metadata": {
  "colab": {
   "collapsed_sections": [],
   "include_colab_link": true,
   "name": "Copy of Scikit-learn.ipynb",
   "private_outputs": true,
   "provenance": []
  },
  "kernelspec": {
   "display_name": "Python 3",
   "language": "python",
   "name": "python3"
  },
  "language_info": {
   "codemirror_mode": {
    "name": "ipython",
    "version": 3
   },
   "file_extension": ".py",
   "mimetype": "text/x-python",
   "name": "python",
   "nbconvert_exporter": "python",
   "pygments_lexer": "ipython3",
   "version": "3.7.4"
  }
 },
 "nbformat": 4,
 "nbformat_minor": 1
}

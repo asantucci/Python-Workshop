{
 "cells": [
  {
   "cell_type": "markdown",
   "metadata": {},
   "source": [
    "[![Open In Colab](https://colab.research.google.com/assets/colab-badge.svg)](https://colab.research.google.com/github/asantucci/Python-Workshop/blob/main/0_Testing_Your_Python_Workspace.ipynb)"
   ]
  },
  {
   "cell_type": "markdown",
   "metadata": {
    "id": "Uz2U1VR83E6G"
   },
   "source": [
    "# Introduction to Python\n",
    "\n",
    "ICME Summer Workshop\n",
    "\n",
    "Happening virtually August 4-5th, 2021"
   ]
  },
  {
   "cell_type": "markdown",
   "metadata": {
    "id": "0hwQDFW1XjQV"
   },
   "source": [
    "**To try Google Colab**\n",
    "\n",
    "If prompted, login into your (or create a dummy-) Google account.\n",
    "\n",
    "- In the cell below, hover your mouse over `[  ]` and click on the triangle to run the code (like on the picture)\n",
    "- Clic on RUN ANYWAY in the `Warning` window (if you trust me :-))\n",
    "- If it prints `You're good!`, Python works!\n",
    "\n",
    "![Click there](https://i.imgur.com/lxOl5aJ.png)\n"
   ]
  },
  {
   "cell_type": "code",
   "execution_count": null,
   "metadata": {
    "id": "BU18_avP3HZd"
   },
   "outputs": [],
   "source": [
    "print(\"You're good!\")"
   ]
  }
 ],
 "metadata": {
  "colab": {
   "collapsed_sections": [],
   "include_colab_link": true,
   "name": "Copy of PythonTest.ipynb",
   "private_outputs": true,
   "provenance": []
  },
  "kernelspec": {
   "display_name": "Python 3",
   "language": "python",
   "name": "python3"
  },
  "language_info": {
   "codemirror_mode": {
    "name": "ipython",
    "version": 3
   },
   "file_extension": ".py",
   "mimetype": "text/x-python",
   "name": "python",
   "nbconvert_exporter": "python",
   "pygments_lexer": "ipython3",
   "version": "3.7.4"
  }
 },
 "nbformat": 4,
 "nbformat_minor": 1
}
